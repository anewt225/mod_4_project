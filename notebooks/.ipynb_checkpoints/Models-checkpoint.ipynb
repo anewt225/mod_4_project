{
 "cells": [
  {
   "cell_type": "code",
   "execution_count": 1,
   "metadata": {},
   "outputs": [],
   "source": [
    "import matplotlib.pyplot as plt\n",
    "import seaborn as sns\n",
    "import pandas as pd\n",
    "from statsmodels.tsa.seasonal import seasonal_decompose\n",
    "from statsmodels.tsa.stattools import adfuller\n",
    "from statsmodels.tsa.ar_model import AR\n",
    "from sklearn.metrics import mean_squared_error\n",
    "from math import sqrt\n",
    "import numpy as np\n",
    "\n",
    "%matplotlib inline"
   ]
  },
  {
   "cell_type": "code",
   "execution_count": 2,
   "metadata": {},
   "outputs": [
    {
     "data": {
      "text/html": [
       "<div>\n",
       "<style scoped>\n",
       "    .dataframe tbody tr th:only-of-type {\n",
       "        vertical-align: middle;\n",
       "    }\n",
       "\n",
       "    .dataframe tbody tr th {\n",
       "        vertical-align: top;\n",
       "    }\n",
       "\n",
       "    .dataframe thead th {\n",
       "        text-align: right;\n",
       "    }\n",
       "</style>\n",
       "<table border=\"1\" class=\"dataframe\">\n",
       "  <thead>\n",
       "    <tr style=\"text-align: right;\">\n",
       "      <th></th>\n",
       "      <th>1001</th>\n",
       "      <th>1002</th>\n",
       "      <th>1005</th>\n",
       "      <th>1007</th>\n",
       "      <th>1008</th>\n",
       "      <th>1010</th>\n",
       "      <th>1011</th>\n",
       "      <th>1013</th>\n",
       "      <th>1020</th>\n",
       "      <th>1026</th>\n",
       "      <th>...</th>\n",
       "      <th>99654</th>\n",
       "      <th>99664</th>\n",
       "      <th>99669</th>\n",
       "      <th>99701</th>\n",
       "      <th>99705</th>\n",
       "      <th>99709</th>\n",
       "      <th>99712</th>\n",
       "      <th>99801</th>\n",
       "      <th>99835</th>\n",
       "      <th>99901</th>\n",
       "    </tr>\n",
       "    <tr>\n",
       "      <th>time</th>\n",
       "      <th></th>\n",
       "      <th></th>\n",
       "      <th></th>\n",
       "      <th></th>\n",
       "      <th></th>\n",
       "      <th></th>\n",
       "      <th></th>\n",
       "      <th></th>\n",
       "      <th></th>\n",
       "      <th></th>\n",
       "      <th></th>\n",
       "      <th></th>\n",
       "      <th></th>\n",
       "      <th></th>\n",
       "      <th></th>\n",
       "      <th></th>\n",
       "      <th></th>\n",
       "      <th></th>\n",
       "      <th></th>\n",
       "      <th></th>\n",
       "      <th></th>\n",
       "    </tr>\n",
       "  </thead>\n",
       "  <tbody>\n",
       "    <tr>\n",
       "      <th>1996-04-01</th>\n",
       "      <td>113100.0</td>\n",
       "      <td>161000.0</td>\n",
       "      <td>103100.0</td>\n",
       "      <td>133400.0</td>\n",
       "      <td>117500.0</td>\n",
       "      <td>115800.0</td>\n",
       "      <td>87000.0</td>\n",
       "      <td>88500.0</td>\n",
       "      <td>97200.0</td>\n",
       "      <td>91200.0</td>\n",
       "      <td>...</td>\n",
       "      <td>122700.0</td>\n",
       "      <td>112200.0</td>\n",
       "      <td>112500.0</td>\n",
       "      <td>89400.0</td>\n",
       "      <td>101900.0</td>\n",
       "      <td>103000.0</td>\n",
       "      <td>109200.0</td>\n",
       "      <td>166800.0</td>\n",
       "      <td>155500.0</td>\n",
       "      <td>117100.0</td>\n",
       "    </tr>\n",
       "    <tr>\n",
       "      <th>1996-05-01</th>\n",
       "      <td>112800.0</td>\n",
       "      <td>160100.0</td>\n",
       "      <td>103400.0</td>\n",
       "      <td>132700.0</td>\n",
       "      <td>117300.0</td>\n",
       "      <td>115700.0</td>\n",
       "      <td>87000.0</td>\n",
       "      <td>88500.0</td>\n",
       "      <td>97100.0</td>\n",
       "      <td>91100.0</td>\n",
       "      <td>...</td>\n",
       "      <td>124200.0</td>\n",
       "      <td>112400.0</td>\n",
       "      <td>113100.0</td>\n",
       "      <td>89800.0</td>\n",
       "      <td>102900.0</td>\n",
       "      <td>103900.0</td>\n",
       "      <td>109600.0</td>\n",
       "      <td>166200.0</td>\n",
       "      <td>154900.0</td>\n",
       "      <td>117200.0</td>\n",
       "    </tr>\n",
       "    <tr>\n",
       "      <th>1996-06-01</th>\n",
       "      <td>112600.0</td>\n",
       "      <td>159300.0</td>\n",
       "      <td>103600.0</td>\n",
       "      <td>132000.0</td>\n",
       "      <td>117100.0</td>\n",
       "      <td>115500.0</td>\n",
       "      <td>87100.0</td>\n",
       "      <td>88400.0</td>\n",
       "      <td>97000.0</td>\n",
       "      <td>91000.0</td>\n",
       "      <td>...</td>\n",
       "      <td>125700.0</td>\n",
       "      <td>112600.0</td>\n",
       "      <td>113800.0</td>\n",
       "      <td>90200.0</td>\n",
       "      <td>103800.0</td>\n",
       "      <td>104700.0</td>\n",
       "      <td>110000.0</td>\n",
       "      <td>165400.0</td>\n",
       "      <td>154200.0</td>\n",
       "      <td>117300.0</td>\n",
       "    </tr>\n",
       "    <tr>\n",
       "      <th>1996-07-01</th>\n",
       "      <td>112300.0</td>\n",
       "      <td>158600.0</td>\n",
       "      <td>103800.0</td>\n",
       "      <td>131400.0</td>\n",
       "      <td>117000.0</td>\n",
       "      <td>115300.0</td>\n",
       "      <td>87200.0</td>\n",
       "      <td>88300.0</td>\n",
       "      <td>96800.0</td>\n",
       "      <td>90800.0</td>\n",
       "      <td>...</td>\n",
       "      <td>127200.0</td>\n",
       "      <td>112800.0</td>\n",
       "      <td>114400.0</td>\n",
       "      <td>90600.0</td>\n",
       "      <td>104700.0</td>\n",
       "      <td>105500.0</td>\n",
       "      <td>110400.0</td>\n",
       "      <td>164400.0</td>\n",
       "      <td>153500.0</td>\n",
       "      <td>117400.0</td>\n",
       "    </tr>\n",
       "    <tr>\n",
       "      <th>1996-08-01</th>\n",
       "      <td>112100.0</td>\n",
       "      <td>158000.0</td>\n",
       "      <td>103900.0</td>\n",
       "      <td>130800.0</td>\n",
       "      <td>116800.0</td>\n",
       "      <td>115100.0</td>\n",
       "      <td>87400.0</td>\n",
       "      <td>88200.0</td>\n",
       "      <td>96600.0</td>\n",
       "      <td>90700.0</td>\n",
       "      <td>...</td>\n",
       "      <td>128600.0</td>\n",
       "      <td>113000.0</td>\n",
       "      <td>115100.0</td>\n",
       "      <td>91000.0</td>\n",
       "      <td>105400.0</td>\n",
       "      <td>106200.0</td>\n",
       "      <td>110800.0</td>\n",
       "      <td>163500.0</td>\n",
       "      <td>152800.0</td>\n",
       "      <td>117500.0</td>\n",
       "    </tr>\n",
       "    <tr>\n",
       "      <th>...</th>\n",
       "      <td>...</td>\n",
       "      <td>...</td>\n",
       "      <td>...</td>\n",
       "      <td>...</td>\n",
       "      <td>...</td>\n",
       "      <td>...</td>\n",
       "      <td>...</td>\n",
       "      <td>...</td>\n",
       "      <td>...</td>\n",
       "      <td>...</td>\n",
       "      <td>...</td>\n",
       "      <td>...</td>\n",
       "      <td>...</td>\n",
       "      <td>...</td>\n",
       "      <td>...</td>\n",
       "      <td>...</td>\n",
       "      <td>...</td>\n",
       "      <td>...</td>\n",
       "      <td>...</td>\n",
       "      <td>...</td>\n",
       "      <td>...</td>\n",
       "    </tr>\n",
       "    <tr>\n",
       "      <th>2017-12-01</th>\n",
       "      <td>221700.0</td>\n",
       "      <td>342000.0</td>\n",
       "      <td>213300.0</td>\n",
       "      <td>268100.0</td>\n",
       "      <td>205400.0</td>\n",
       "      <td>243800.0</td>\n",
       "      <td>151400.0</td>\n",
       "      <td>173300.0</td>\n",
       "      <td>187400.0</td>\n",
       "      <td>201200.0</td>\n",
       "      <td>...</td>\n",
       "      <td>258800.0</td>\n",
       "      <td>219100.0</td>\n",
       "      <td>250200.0</td>\n",
       "      <td>206700.0</td>\n",
       "      <td>261100.0</td>\n",
       "      <td>262800.0</td>\n",
       "      <td>273500.0</td>\n",
       "      <td>402300.0</td>\n",
       "      <td>396200.0</td>\n",
       "      <td>291900.0</td>\n",
       "    </tr>\n",
       "    <tr>\n",
       "      <th>2018-01-01</th>\n",
       "      <td>221700.0</td>\n",
       "      <td>344500.0</td>\n",
       "      <td>215600.0</td>\n",
       "      <td>268100.0</td>\n",
       "      <td>204500.0</td>\n",
       "      <td>244600.0</td>\n",
       "      <td>150100.0</td>\n",
       "      <td>174600.0</td>\n",
       "      <td>188100.0</td>\n",
       "      <td>204600.0</td>\n",
       "      <td>...</td>\n",
       "      <td>259400.0</td>\n",
       "      <td>218900.0</td>\n",
       "      <td>250600.0</td>\n",
       "      <td>206100.0</td>\n",
       "      <td>261300.0</td>\n",
       "      <td>262800.0</td>\n",
       "      <td>273800.0</td>\n",
       "      <td>406200.0</td>\n",
       "      <td>397500.0</td>\n",
       "      <td>294200.0</td>\n",
       "    </tr>\n",
       "    <tr>\n",
       "      <th>2018-02-01</th>\n",
       "      <td>221700.0</td>\n",
       "      <td>347400.0</td>\n",
       "      <td>217900.0</td>\n",
       "      <td>268800.0</td>\n",
       "      <td>206800.0</td>\n",
       "      <td>246700.0</td>\n",
       "      <td>150100.0</td>\n",
       "      <td>175900.0</td>\n",
       "      <td>189000.0</td>\n",
       "      <td>211200.0</td>\n",
       "      <td>...</td>\n",
       "      <td>259900.0</td>\n",
       "      <td>218300.0</td>\n",
       "      <td>250100.0</td>\n",
       "      <td>205600.0</td>\n",
       "      <td>261400.0</td>\n",
       "      <td>262300.0</td>\n",
       "      <td>273800.0</td>\n",
       "      <td>409800.0</td>\n",
       "      <td>398900.0</td>\n",
       "      <td>297500.0</td>\n",
       "    </tr>\n",
       "    <tr>\n",
       "      <th>2018-03-01</th>\n",
       "      <td>222700.0</td>\n",
       "      <td>350600.0</td>\n",
       "      <td>219500.0</td>\n",
       "      <td>270000.0</td>\n",
       "      <td>210900.0</td>\n",
       "      <td>248800.0</td>\n",
       "      <td>149500.0</td>\n",
       "      <td>176900.0</td>\n",
       "      <td>189600.0</td>\n",
       "      <td>217900.0</td>\n",
       "      <td>...</td>\n",
       "      <td>260200.0</td>\n",
       "      <td>218400.0</td>\n",
       "      <td>249300.0</td>\n",
       "      <td>205500.0</td>\n",
       "      <td>261700.0</td>\n",
       "      <td>262000.0</td>\n",
       "      <td>273900.0</td>\n",
       "      <td>412600.0</td>\n",
       "      <td>402100.0</td>\n",
       "      <td>302100.0</td>\n",
       "    </tr>\n",
       "    <tr>\n",
       "      <th>2018-04-01</th>\n",
       "      <td>223600.0</td>\n",
       "      <td>353300.0</td>\n",
       "      <td>220700.0</td>\n",
       "      <td>270600.0</td>\n",
       "      <td>214200.0</td>\n",
       "      <td>250900.0</td>\n",
       "      <td>149100.0</td>\n",
       "      <td>177400.0</td>\n",
       "      <td>189800.0</td>\n",
       "      <td>220800.0</td>\n",
       "      <td>...</td>\n",
       "      <td>260500.0</td>\n",
       "      <td>219100.0</td>\n",
       "      <td>249300.0</td>\n",
       "      <td>205700.0</td>\n",
       "      <td>262000.0</td>\n",
       "      <td>262400.0</td>\n",
       "      <td>274600.0</td>\n",
       "      <td>413300.0</td>\n",
       "      <td>404800.0</td>\n",
       "      <td>305100.0</td>\n",
       "    </tr>\n",
       "  </tbody>\n",
       "</table>\n",
       "<p>265 rows × 14723 columns</p>\n",
       "</div>"
      ],
      "text/plain": [
       "                1001      1002      1005      1007      1008      1010  \\\n",
       "time                                                                     \n",
       "1996-04-01  113100.0  161000.0  103100.0  133400.0  117500.0  115800.0   \n",
       "1996-05-01  112800.0  160100.0  103400.0  132700.0  117300.0  115700.0   \n",
       "1996-06-01  112600.0  159300.0  103600.0  132000.0  117100.0  115500.0   \n",
       "1996-07-01  112300.0  158600.0  103800.0  131400.0  117000.0  115300.0   \n",
       "1996-08-01  112100.0  158000.0  103900.0  130800.0  116800.0  115100.0   \n",
       "...              ...       ...       ...       ...       ...       ...   \n",
       "2017-12-01  221700.0  342000.0  213300.0  268100.0  205400.0  243800.0   \n",
       "2018-01-01  221700.0  344500.0  215600.0  268100.0  204500.0  244600.0   \n",
       "2018-02-01  221700.0  347400.0  217900.0  268800.0  206800.0  246700.0   \n",
       "2018-03-01  222700.0  350600.0  219500.0  270000.0  210900.0  248800.0   \n",
       "2018-04-01  223600.0  353300.0  220700.0  270600.0  214200.0  250900.0   \n",
       "\n",
       "                1011      1013      1020      1026  ...     99654     99664  \\\n",
       "time                                                ...                       \n",
       "1996-04-01   87000.0   88500.0   97200.0   91200.0  ...  122700.0  112200.0   \n",
       "1996-05-01   87000.0   88500.0   97100.0   91100.0  ...  124200.0  112400.0   \n",
       "1996-06-01   87100.0   88400.0   97000.0   91000.0  ...  125700.0  112600.0   \n",
       "1996-07-01   87200.0   88300.0   96800.0   90800.0  ...  127200.0  112800.0   \n",
       "1996-08-01   87400.0   88200.0   96600.0   90700.0  ...  128600.0  113000.0   \n",
       "...              ...       ...       ...       ...  ...       ...       ...   \n",
       "2017-12-01  151400.0  173300.0  187400.0  201200.0  ...  258800.0  219100.0   \n",
       "2018-01-01  150100.0  174600.0  188100.0  204600.0  ...  259400.0  218900.0   \n",
       "2018-02-01  150100.0  175900.0  189000.0  211200.0  ...  259900.0  218300.0   \n",
       "2018-03-01  149500.0  176900.0  189600.0  217900.0  ...  260200.0  218400.0   \n",
       "2018-04-01  149100.0  177400.0  189800.0  220800.0  ...  260500.0  219100.0   \n",
       "\n",
       "               99669     99701     99705     99709     99712     99801  \\\n",
       "time                                                                     \n",
       "1996-04-01  112500.0   89400.0  101900.0  103000.0  109200.0  166800.0   \n",
       "1996-05-01  113100.0   89800.0  102900.0  103900.0  109600.0  166200.0   \n",
       "1996-06-01  113800.0   90200.0  103800.0  104700.0  110000.0  165400.0   \n",
       "1996-07-01  114400.0   90600.0  104700.0  105500.0  110400.0  164400.0   \n",
       "1996-08-01  115100.0   91000.0  105400.0  106200.0  110800.0  163500.0   \n",
       "...              ...       ...       ...       ...       ...       ...   \n",
       "2017-12-01  250200.0  206700.0  261100.0  262800.0  273500.0  402300.0   \n",
       "2018-01-01  250600.0  206100.0  261300.0  262800.0  273800.0  406200.0   \n",
       "2018-02-01  250100.0  205600.0  261400.0  262300.0  273800.0  409800.0   \n",
       "2018-03-01  249300.0  205500.0  261700.0  262000.0  273900.0  412600.0   \n",
       "2018-04-01  249300.0  205700.0  262000.0  262400.0  274600.0  413300.0   \n",
       "\n",
       "               99835     99901  \n",
       "time                            \n",
       "1996-04-01  155500.0  117100.0  \n",
       "1996-05-01  154900.0  117200.0  \n",
       "1996-06-01  154200.0  117300.0  \n",
       "1996-07-01  153500.0  117400.0  \n",
       "1996-08-01  152800.0  117500.0  \n",
       "...              ...       ...  \n",
       "2017-12-01  396200.0  291900.0  \n",
       "2018-01-01  397500.0  294200.0  \n",
       "2018-02-01  398900.0  297500.0  \n",
       "2018-03-01  402100.0  302100.0  \n",
       "2018-04-01  404800.0  305100.0  \n",
       "\n",
       "[265 rows x 14723 columns]"
      ]
     },
     "execution_count": 2,
     "metadata": {},
     "output_type": "execute_result"
    }
   ],
   "source": [
    "zip_df = pd.read_pickle('../data/wip/zip_df.pkl')\n",
    "zip_df"
   ]
  },
  {
   "cell_type": "code",
   "execution_count": 3,
   "metadata": {},
   "outputs": [
    {
     "data": {
      "text/plain": [
       "0      13684\n",
       "15         1\n",
       "21         2\n",
       "87       118\n",
       "93        31\n",
       "99        21\n",
       "105       52\n",
       "107       13\n",
       "111       78\n",
       "117       56\n",
       "123       27\n",
       "129       20\n",
       "135        7\n",
       "141        6\n",
       "147        9\n",
       "153       11\n",
       "159        7\n",
       "165        1\n",
       "167      230\n",
       "171       41\n",
       "177       33\n",
       "183       24\n",
       "189       27\n",
       "195       18\n",
       "201       55\n",
       "207       42\n",
       "213       53\n",
       "219       56\n",
       "dtype: int64"
      ]
     },
     "execution_count": 3,
     "metadata": {},
     "output_type": "execute_result"
    }
   ],
   "source": [
    "# How many rows have x number of missing values (number of rows is the value column of output, number of missing is index)\n",
    "missing_count = zip_df.isna().sum().value_counts().sort_index()\n",
    "missing_count"
   ]
  },
  {
   "cell_type": "code",
   "execution_count": 4,
   "metadata": {},
   "outputs": [
    {
     "data": {
      "text/plain": [
       "1039"
      ]
     },
     "execution_count": 4,
     "metadata": {},
     "output_type": "execute_result"
    }
   ],
   "source": [
    "# How many rows are missing values? (sum of counts in missing_count minus the number of entries with zero missing: 13684)\n",
    "missing_count.sum() - 13684"
   ]
  },
  {
   "cell_type": "code",
   "execution_count": 5,
   "metadata": {},
   "outputs": [
    {
     "data": {
      "text/plain": [
       "0.07056985668681655"
      ]
     },
     "execution_count": 5,
     "metadata": {},
     "output_type": "execute_result"
    }
   ],
   "source": [
    "# About Seven Percent of zipcodes are missing 15 or more entries\n",
    "1039/len(zip_df.columns)"
   ]
  },
  {
   "cell_type": "code",
   "execution_count": 6,
   "metadata": {},
   "outputs": [
    {
     "data": {
      "text/plain": [
       "Timestamp('2018-04-01 00:00:00')"
      ]
     },
     "execution_count": 6,
     "metadata": {},
     "output_type": "execute_result"
    }
   ],
   "source": [
    "zip_df.index.max()"
   ]
  },
  {
   "cell_type": "code",
   "execution_count": 7,
   "metadata": {},
   "outputs": [
    {
     "data": {
      "text/plain": [
       "0    14723\n",
       "dtype: int64"
      ]
     },
     "execution_count": 7,
     "metadata": {},
     "output_type": "execute_result"
    }
   ],
   "source": [
    "# Are there any missing values recently-- last six months-- (no), if so discard those\n",
    "zip_df.iloc[zip_df.index > '2017-10-01'].isna().sum().value_counts()"
   ]
  },
  {
   "cell_type": "markdown",
   "metadata": {},
   "source": [
    "## Project Plan\n",
    "1) Shape data by zipcode(columns), indexed by date\n",
    "\n",
    "    - Plan to deal with missing values, how many months missing is okay? Imputation potentially?\n",
    "\n",
    "2) Test models on 1 zipcode, outputting best model (accuracy measure?) and best differencing params\n",
    "\n",
    "    - Difference/decompose each column before fitting models, use adfuller as stationarity test\n",
    "    - Use a 75-25 Train/Test Split\n",
    "\n",
    "3) Create decision function based off ROI adjusted for loss scenarios/conf int.\n",
    "\n",
    "4) Test models on 10 zipcodes, outputting best model (accuracy measure?), best differencing params for each zipcode, as well as largest predicted ROI\n",
    "\n",
    "5) Test models on all zipcodes as in step 4\n",
    "\n",
    "6) Modular add-ons (rent offset, performance over time, etc.)"
   ]
  },
  {
   "cell_type": "code",
   "execution_count": 8,
   "metadata": {},
   "outputs": [
    {
     "data": {
      "text/plain": [
       "Index(['1001', '1002', '1005', '1007', '1008', '1010', '1011', '1013', '1020',\n",
       "       '1026',\n",
       "       ...\n",
       "       '99654', '99664', '99669', '99701', '99705', '99709', '99712', '99801',\n",
       "       '99835', '99901'],\n",
       "      dtype='object', length=14723)"
      ]
     },
     "execution_count": 8,
     "metadata": {},
     "output_type": "execute_result"
    }
   ],
   "source": [
    "# Convert columns to string for easier index access, move this step higher up the workflow\n",
    "zip_df.columns = [str(x) for x in zip_df.columns]\n",
    "zip_df.columns"
   ]
  },
  {
   "cell_type": "code",
   "execution_count": 9,
   "metadata": {},
   "outputs": [],
   "source": [
    "# Notes from checkin:\n",
    "\n",
    "# Results by client class, who can take advantage of x? Do you need minimum amount of capital etc.?\n",
    "\n"
   ]
  },
  {
   "cell_type": "code",
   "execution_count": 10,
   "metadata": {},
   "outputs": [
    {
     "data": {
      "text/plain": [
       "time\n",
       "1996-04-01    113100.0\n",
       "1996-05-01    112800.0\n",
       "1996-06-01    112600.0\n",
       "1996-07-01    112300.0\n",
       "1996-08-01    112100.0\n",
       "                ...   \n",
       "2017-12-01    221700.0\n",
       "2018-01-01    221700.0\n",
       "2018-02-01    221700.0\n",
       "2018-03-01    222700.0\n",
       "2018-04-01    223600.0\n",
       "Name: 1001, Length: 265, dtype: float64"
      ]
     },
     "execution_count": 10,
     "metadata": {},
     "output_type": "execute_result"
    }
   ],
   "source": [
    "zip_df['1001']"
   ]
  },
  {
   "cell_type": "code",
   "execution_count": 11,
   "metadata": {},
   "outputs": [
    {
     "data": {
      "text/plain": [
       "(-1.7467926412738275,\n",
       " 0.40717889973199395,\n",
       " 13,\n",
       " 251,\n",
       " {'1%': -3.4566744514553016,\n",
       "  '5%': -2.8731248767783426,\n",
       "  '10%': -2.5729436702592023},\n",
       " 3563.9412458378274)"
      ]
     },
     "execution_count": 11,
     "metadata": {},
     "output_type": "execute_result"
    }
   ],
   "source": [
    "\n",
    "adfuller(zip_df['1001'])"
   ]
  },
  {
   "cell_type": "code",
   "execution_count": null,
   "metadata": {},
   "outputs": [],
   "source": []
  },
  {
   "cell_type": "code",
   "execution_count": 12,
   "metadata": {},
   "outputs": [
    {
     "data": {
      "text/plain": [
       "<Figure size 432x288 with 0 Axes>"
      ]
     },
     "metadata": {},
     "output_type": "display_data"
    },
    {
     "data": {
      "image/png": "[encoded data removed]",
      "text/plain": [
       "<Figure size 1080x576 with 4 Axes>"
      ]
     },
     "metadata": {
      "needs_background": "light"
     },
     "output_type": "display_data"
    }
   ],
   "source": [
    "decomposition = seasonal_decompose(zip_df['1001'])\n",
    "fig = plt.figure()\n",
    "fig = decomposition.plot()\n",
    "fig.set_size_inches(15, 8)"
   ]
  },
  {
   "cell_type": "code",
   "execution_count": 13,
   "metadata": {},
   "outputs": [
    {
     "data": {
      "image/png": "[encoded data removed]",
      "text/plain": [
       "<Figure size 1080x720 with 2 Axes>"
      ]
     },
     "metadata": {
      "needs_background": "light"
     },
     "output_type": "display_data"
    }
   ],
   "source": [
    "one_train = zip_df['1001']\n",
    "\n",
    "fig, axs = plt.subplots(2, figsize=(15,10))\n",
    "axs[0] = one_train.plot()\n",
    "axs[1] = one_train.diff().plot()\n",
    "plt.show()"
   ]
  },
  {
   "cell_type": "code",
   "execution_count": 14,
   "metadata": {},
   "outputs": [
    {
     "data": {
      "text/plain": [
       "(-1.7467926412738275,\n",
       " 0.40717889973199395,\n",
       " 13,\n",
       " 251,\n",
       " {'1%': -3.4566744514553016,\n",
       "  '5%': -2.8731248767783426,\n",
       "  '10%': -2.5729436702592023},\n",
       " 3563.9412458378274)"
      ]
     },
     "execution_count": 14,
     "metadata": {},
     "output_type": "execute_result"
    }
   ],
   "source": [
    "# Stationarity test with no lag\n",
    "adfuller(one_train)"
   ]
  },
  {
   "cell_type": "code",
   "execution_count": 15,
   "metadata": {},
   "outputs": [
    {
     "data": {
      "text/plain": [
       "(-1.9453525470037503,\n",
       " 0.3110356104138362,\n",
       " 12,\n",
       " 251,\n",
       " {'1%': -3.4566744514553016,\n",
       "  '5%': -2.8731248767783426,\n",
       "  '10%': -2.5729436702592023},\n",
       " 3552.048382789642)"
      ]
     },
     "execution_count": 15,
     "metadata": {},
     "output_type": "execute_result"
    }
   ],
   "source": [
    "# Stationarity with 1 lag\n",
    "adfuller(one_train.diff()[1:])"
   ]
  },
  {
   "cell_type": "code",
   "execution_count": 16,
   "metadata": {},
   "outputs": [
    {
     "data": {
      "text/plain": [
       "(-6.627156477050341,\n",
       " 5.8372030590914575e-09,\n",
       " 11,\n",
       " 251,\n",
       " {'1%': -3.4566744514553016,\n",
       "  '5%': -2.8731248767783426,\n",
       "  '10%': -2.5729436702592023},\n",
       " 3540.671779819917)"
      ]
     },
     "execution_count": 16,
     "metadata": {},
     "output_type": "execute_result"
    }
   ],
   "source": [
    "# Stationarity with 2 lags\n",
    "adfuller(one_train.diff()[1:].diff()[1:])"
   ]
  },
  {
   "cell_type": "code",
   "execution_count": 17,
   "metadata": {},
   "outputs": [
    {
     "data": {
      "text/plain": [
       "time\n",
       "1996-06-01     100.0\n",
       "1996-07-01    -100.0\n",
       "1996-08-01     100.0\n",
       "1996-09-01       0.0\n",
       "1996-10-01     100.0\n",
       "               ...  \n",
       "2017-12-01    -400.0\n",
       "2018-01-01    -600.0\n",
       "2018-02-01       0.0\n",
       "2018-03-01    1000.0\n",
       "2018-04-01    -100.0\n",
       "Name: 1001, Length: 263, dtype: float64"
      ]
     },
     "execution_count": 17,
     "metadata": {},
     "output_type": "execute_result"
    }
   ],
   "source": [
    "one_train.diff()[1:].diff()[1:]"
   ]
  },
  {
   "cell_type": "code",
   "execution_count": 18,
   "metadata": {},
   "outputs": [
    {
     "data": {
      "text/plain": [
       "time\n",
       "2012-11-01    182100.0\n",
       "2012-12-01    182800.0\n",
       "2013-01-01    183400.0\n",
       "2013-02-01    183700.0\n",
       "2013-03-01    183300.0\n",
       "                ...   \n",
       "2017-12-01    221700.0\n",
       "2018-01-01    221700.0\n",
       "2018-02-01    221700.0\n",
       "2018-03-01    222700.0\n",
       "2018-04-01    223600.0\n",
       "Name: 1001, Length: 66, dtype: float64"
      ]
     },
     "execution_count": 18,
     "metadata": {},
     "output_type": "execute_result"
    }
   ],
   "source": [
    "train_ind = one_train.index[0:round(len(one_train)*.75)]\n",
    "test_ind = [i for i in one_train.index if not i in train_ind]\n",
    "test_ind\n",
    "one_test = one_train[test_ind]\n",
    "one_test"
   ]
  },
  {
   "cell_type": "code",
   "execution_count": 19,
   "metadata": {},
   "outputs": [
    {
     "data": {
      "text/plain": [
       "time\n",
       "1996-04-01    113100.0\n",
       "1996-05-01    112800.0\n",
       "1996-06-01    112600.0\n",
       "1996-07-01    112300.0\n",
       "1996-08-01    112100.0\n",
       "                ...   \n",
       "2012-06-01    182400.0\n",
       "2012-07-01    181200.0\n",
       "2012-08-01    180400.0\n",
       "2012-09-01    180400.0\n",
       "2012-10-01    181200.0\n",
       "Name: 1001, Length: 199, dtype: float64"
      ]
     },
     "execution_count": 19,
     "metadata": {},
     "output_type": "execute_result"
    }
   ],
   "source": [
    "one_train = one_train[train_ind]\n",
    "one_train"
   ]
  },
  {
   "cell_type": "code",
   "execution_count": 20,
   "metadata": {},
   "outputs": [
    {
     "data": {
      "text/plain": [
       "time\n",
       "1996-06-01    100.0\n",
       "1996-07-01   -100.0\n",
       "1996-08-01    100.0\n",
       "1996-09-01      0.0\n",
       "1996-10-01    100.0\n",
       "              ...  \n",
       "2012-06-01   -300.0\n",
       "2012-07-01    400.0\n",
       "2012-08-01    400.0\n",
       "2012-09-01    800.0\n",
       "2012-10-01    800.0\n",
       "Name: 1001, Length: 197, dtype: float64"
      ]
     },
     "execution_count": 20,
     "metadata": {},
     "output_type": "execute_result"
    }
   ],
   "source": [
    "one_train.diff()[1:].diff()[1:]"
   ]
  },
  {
   "cell_type": "code",
   "execution_count": 21,
   "metadata": {},
   "outputs": [
    {
     "data": {
      "text/plain": [
       "Series([], Name: 1001, dtype: float64)"
      ]
     },
     "execution_count": 21,
     "metadata": {},
     "output_type": "execute_result"
    }
   ],
   "source": [
    "one_train[one_train.index == '2018-04-01']"
   ]
  },
  {
   "cell_type": "code",
   "execution_count": 22,
   "metadata": {},
   "outputs": [
    {
     "data": {
      "text/html": [
       "<div>\n",
       "<style scoped>\n",
       "    .dataframe tbody tr th:only-of-type {\n",
       "        vertical-align: middle;\n",
       "    }\n",
       "\n",
       "    .dataframe tbody tr th {\n",
       "        vertical-align: top;\n",
       "    }\n",
       "\n",
       "    .dataframe thead th {\n",
       "        text-align: right;\n",
       "    }\n",
       "</style>\n",
       "<table border=\"1\" class=\"dataframe\">\n",
       "  <thead>\n",
       "    <tr style=\"text-align: right;\">\n",
       "      <th></th>\n",
       "      <th>1001</th>\n",
       "      <th>1002</th>\n",
       "      <th>1005</th>\n",
       "      <th>1007</th>\n",
       "      <th>1008</th>\n",
       "      <th>1010</th>\n",
       "      <th>1011</th>\n",
       "      <th>1013</th>\n",
       "      <th>1020</th>\n",
       "      <th>1026</th>\n",
       "      <th>...</th>\n",
       "      <th>99654</th>\n",
       "      <th>99664</th>\n",
       "      <th>99669</th>\n",
       "      <th>99701</th>\n",
       "      <th>99705</th>\n",
       "      <th>99709</th>\n",
       "      <th>99712</th>\n",
       "      <th>99801</th>\n",
       "      <th>99835</th>\n",
       "      <th>99901</th>\n",
       "    </tr>\n",
       "    <tr>\n",
       "      <th>time</th>\n",
       "      <th></th>\n",
       "      <th></th>\n",
       "      <th></th>\n",
       "      <th></th>\n",
       "      <th></th>\n",
       "      <th></th>\n",
       "      <th></th>\n",
       "      <th></th>\n",
       "      <th></th>\n",
       "      <th></th>\n",
       "      <th></th>\n",
       "      <th></th>\n",
       "      <th></th>\n",
       "      <th></th>\n",
       "      <th></th>\n",
       "      <th></th>\n",
       "      <th></th>\n",
       "      <th></th>\n",
       "      <th></th>\n",
       "      <th></th>\n",
       "      <th></th>\n",
       "    </tr>\n",
       "  </thead>\n",
       "  <tbody>\n",
       "    <tr>\n",
       "      <th>1996-04-01</th>\n",
       "      <td>113100.0</td>\n",
       "      <td>161000.0</td>\n",
       "      <td>103100.0</td>\n",
       "      <td>133400.0</td>\n",
       "      <td>117500.0</td>\n",
       "      <td>115800.0</td>\n",
       "      <td>87000.0</td>\n",
       "      <td>88500.0</td>\n",
       "      <td>97200.0</td>\n",
       "      <td>91200.0</td>\n",
       "      <td>...</td>\n",
       "      <td>122700.0</td>\n",
       "      <td>112200.0</td>\n",
       "      <td>112500.0</td>\n",
       "      <td>89400.0</td>\n",
       "      <td>101900.0</td>\n",
       "      <td>103000.0</td>\n",
       "      <td>109200.0</td>\n",
       "      <td>166800.0</td>\n",
       "      <td>155500.0</td>\n",
       "      <td>117100.0</td>\n",
       "    </tr>\n",
       "    <tr>\n",
       "      <th>1996-05-01</th>\n",
       "      <td>112800.0</td>\n",
       "      <td>160100.0</td>\n",
       "      <td>103400.0</td>\n",
       "      <td>132700.0</td>\n",
       "      <td>117300.0</td>\n",
       "      <td>115700.0</td>\n",
       "      <td>87000.0</td>\n",
       "      <td>88500.0</td>\n",
       "      <td>97100.0</td>\n",
       "      <td>91100.0</td>\n",
       "      <td>...</td>\n",
       "      <td>124200.0</td>\n",
       "      <td>112400.0</td>\n",
       "      <td>113100.0</td>\n",
       "      <td>89800.0</td>\n",
       "      <td>102900.0</td>\n",
       "      <td>103900.0</td>\n",
       "      <td>109600.0</td>\n",
       "      <td>166200.0</td>\n",
       "      <td>154900.0</td>\n",
       "      <td>117200.0</td>\n",
       "    </tr>\n",
       "    <tr>\n",
       "      <th>1996-06-01</th>\n",
       "      <td>112600.0</td>\n",
       "      <td>159300.0</td>\n",
       "      <td>103600.0</td>\n",
       "      <td>132000.0</td>\n",
       "      <td>117100.0</td>\n",
       "      <td>115500.0</td>\n",
       "      <td>87100.0</td>\n",
       "      <td>88400.0</td>\n",
       "      <td>97000.0</td>\n",
       "      <td>91000.0</td>\n",
       "      <td>...</td>\n",
       "      <td>125700.0</td>\n",
       "      <td>112600.0</td>\n",
       "      <td>113800.0</td>\n",
       "      <td>90200.0</td>\n",
       "      <td>103800.0</td>\n",
       "      <td>104700.0</td>\n",
       "      <td>110000.0</td>\n",
       "      <td>165400.0</td>\n",
       "      <td>154200.0</td>\n",
       "      <td>117300.0</td>\n",
       "    </tr>\n",
       "    <tr>\n",
       "      <th>1996-07-01</th>\n",
       "      <td>112300.0</td>\n",
       "      <td>158600.0</td>\n",
       "      <td>103800.0</td>\n",
       "      <td>131400.0</td>\n",
       "      <td>117000.0</td>\n",
       "      <td>115300.0</td>\n",
       "      <td>87200.0</td>\n",
       "      <td>88300.0</td>\n",
       "      <td>96800.0</td>\n",
       "      <td>90800.0</td>\n",
       "      <td>...</td>\n",
       "      <td>127200.0</td>\n",
       "      <td>112800.0</td>\n",
       "      <td>114400.0</td>\n",
       "      <td>90600.0</td>\n",
       "      <td>104700.0</td>\n",
       "      <td>105500.0</td>\n",
       "      <td>110400.0</td>\n",
       "      <td>164400.0</td>\n",
       "      <td>153500.0</td>\n",
       "      <td>117400.0</td>\n",
       "    </tr>\n",
       "    <tr>\n",
       "      <th>1996-08-01</th>\n",
       "      <td>112100.0</td>\n",
       "      <td>158000.0</td>\n",
       "      <td>103900.0</td>\n",
       "      <td>130800.0</td>\n",
       "      <td>116800.0</td>\n",
       "      <td>115100.0</td>\n",
       "      <td>87400.0</td>\n",
       "      <td>88200.0</td>\n",
       "      <td>96600.0</td>\n",
       "      <td>90700.0</td>\n",
       "      <td>...</td>\n",
       "      <td>128600.0</td>\n",
       "      <td>113000.0</td>\n",
       "      <td>115100.0</td>\n",
       "      <td>91000.0</td>\n",
       "      <td>105400.0</td>\n",
       "      <td>106200.0</td>\n",
       "      <td>110800.0</td>\n",
       "      <td>163500.0</td>\n",
       "      <td>152800.0</td>\n",
       "      <td>117500.0</td>\n",
       "    </tr>\n",
       "    <tr>\n",
       "      <th>...</th>\n",
       "      <td>...</td>\n",
       "      <td>...</td>\n",
       "      <td>...</td>\n",
       "      <td>...</td>\n",
       "      <td>...</td>\n",
       "      <td>...</td>\n",
       "      <td>...</td>\n",
       "      <td>...</td>\n",
       "      <td>...</td>\n",
       "      <td>...</td>\n",
       "      <td>...</td>\n",
       "      <td>...</td>\n",
       "      <td>...</td>\n",
       "      <td>...</td>\n",
       "      <td>...</td>\n",
       "      <td>...</td>\n",
       "      <td>...</td>\n",
       "      <td>...</td>\n",
       "      <td>...</td>\n",
       "      <td>...</td>\n",
       "      <td>...</td>\n",
       "    </tr>\n",
       "    <tr>\n",
       "      <th>2017-12-01</th>\n",
       "      <td>221700.0</td>\n",
       "      <td>342000.0</td>\n",
       "      <td>213300.0</td>\n",
       "      <td>268100.0</td>\n",
       "      <td>205400.0</td>\n",
       "      <td>243800.0</td>\n",
       "      <td>151400.0</td>\n",
       "      <td>173300.0</td>\n",
       "      <td>187400.0</td>\n",
       "      <td>201200.0</td>\n",
       "      <td>...</td>\n",
       "      <td>258800.0</td>\n",
       "      <td>219100.0</td>\n",
       "      <td>250200.0</td>\n",
       "      <td>206700.0</td>\n",
       "      <td>261100.0</td>\n",
       "      <td>262800.0</td>\n",
       "      <td>273500.0</td>\n",
       "      <td>402300.0</td>\n",
       "      <td>396200.0</td>\n",
       "      <td>291900.0</td>\n",
       "    </tr>\n",
       "    <tr>\n",
       "      <th>2018-01-01</th>\n",
       "      <td>221700.0</td>\n",
       "      <td>344500.0</td>\n",
       "      <td>215600.0</td>\n",
       "      <td>268100.0</td>\n",
       "      <td>204500.0</td>\n",
       "      <td>244600.0</td>\n",
       "      <td>150100.0</td>\n",
       "      <td>174600.0</td>\n",
       "      <td>188100.0</td>\n",
       "      <td>204600.0</td>\n",
       "      <td>...</td>\n",
       "      <td>259400.0</td>\n",
       "      <td>218900.0</td>\n",
       "      <td>250600.0</td>\n",
       "      <td>206100.0</td>\n",
       "      <td>261300.0</td>\n",
       "      <td>262800.0</td>\n",
       "      <td>273800.0</td>\n",
       "      <td>406200.0</td>\n",
       "      <td>397500.0</td>\n",
       "      <td>294200.0</td>\n",
       "    </tr>\n",
       "    <tr>\n",
       "      <th>2018-02-01</th>\n",
       "      <td>221700.0</td>\n",
       "      <td>347400.0</td>\n",
       "      <td>217900.0</td>\n",
       "      <td>268800.0</td>\n",
       "      <td>206800.0</td>\n",
       "      <td>246700.0</td>\n",
       "      <td>150100.0</td>\n",
       "      <td>175900.0</td>\n",
       "      <td>189000.0</td>\n",
       "      <td>211200.0</td>\n",
       "      <td>...</td>\n",
       "      <td>259900.0</td>\n",
       "      <td>218300.0</td>\n",
       "      <td>250100.0</td>\n",
       "      <td>205600.0</td>\n",
       "      <td>261400.0</td>\n",
       "      <td>262300.0</td>\n",
       "      <td>273800.0</td>\n",
       "      <td>409800.0</td>\n",
       "      <td>398900.0</td>\n",
       "      <td>297500.0</td>\n",
       "    </tr>\n",
       "    <tr>\n",
       "      <th>2018-03-01</th>\n",
       "      <td>222700.0</td>\n",
       "      <td>350600.0</td>\n",
       "      <td>219500.0</td>\n",
       "      <td>270000.0</td>\n",
       "      <td>210900.0</td>\n",
       "      <td>248800.0</td>\n",
       "      <td>149500.0</td>\n",
       "      <td>176900.0</td>\n",
       "      <td>189600.0</td>\n",
       "      <td>217900.0</td>\n",
       "      <td>...</td>\n",
       "      <td>260200.0</td>\n",
       "      <td>218400.0</td>\n",
       "      <td>249300.0</td>\n",
       "      <td>205500.0</td>\n",
       "      <td>261700.0</td>\n",
       "      <td>262000.0</td>\n",
       "      <td>273900.0</td>\n",
       "      <td>412600.0</td>\n",
       "      <td>402100.0</td>\n",
       "      <td>302100.0</td>\n",
       "    </tr>\n",
       "    <tr>\n",
       "      <th>2018-04-01</th>\n",
       "      <td>223600.0</td>\n",
       "      <td>353300.0</td>\n",
       "      <td>220700.0</td>\n",
       "      <td>270600.0</td>\n",
       "      <td>214200.0</td>\n",
       "      <td>250900.0</td>\n",
       "      <td>149100.0</td>\n",
       "      <td>177400.0</td>\n",
       "      <td>189800.0</td>\n",
       "      <td>220800.0</td>\n",
       "      <td>...</td>\n",
       "      <td>260500.0</td>\n",
       "      <td>219100.0</td>\n",
       "      <td>249300.0</td>\n",
       "      <td>205700.0</td>\n",
       "      <td>262000.0</td>\n",
       "      <td>262400.0</td>\n",
       "      <td>274600.0</td>\n",
       "      <td>413300.0</td>\n",
       "      <td>404800.0</td>\n",
       "      <td>305100.0</td>\n",
       "    </tr>\n",
       "  </tbody>\n",
       "</table>\n",
       "<p>265 rows × 14723 columns</p>\n",
       "</div>"
      ],
      "text/plain": [
       "                1001      1002      1005      1007      1008      1010  \\\n",
       "time                                                                     \n",
       "1996-04-01  113100.0  161000.0  103100.0  133400.0  117500.0  115800.0   \n",
       "1996-05-01  112800.0  160100.0  103400.0  132700.0  117300.0  115700.0   \n",
       "1996-06-01  112600.0  159300.0  103600.0  132000.0  117100.0  115500.0   \n",
       "1996-07-01  112300.0  158600.0  103800.0  131400.0  117000.0  115300.0   \n",
       "1996-08-01  112100.0  158000.0  103900.0  130800.0  116800.0  115100.0   \n",
       "...              ...       ...       ...       ...       ...       ...   \n",
       "2017-12-01  221700.0  342000.0  213300.0  268100.0  205400.0  243800.0   \n",
       "2018-01-01  221700.0  344500.0  215600.0  268100.0  204500.0  244600.0   \n",
       "2018-02-01  221700.0  347400.0  217900.0  268800.0  206800.0  246700.0   \n",
       "2018-03-01  222700.0  350600.0  219500.0  270000.0  210900.0  248800.0   \n",
       "2018-04-01  223600.0  353300.0  220700.0  270600.0  214200.0  250900.0   \n",
       "\n",
       "                1011      1013      1020      1026  ...     99654     99664  \\\n",
       "time                                                ...                       \n",
       "1996-04-01   87000.0   88500.0   97200.0   91200.0  ...  122700.0  112200.0   \n",
       "1996-05-01   87000.0   88500.0   97100.0   91100.0  ...  124200.0  112400.0   \n",
       "1996-06-01   87100.0   88400.0   97000.0   91000.0  ...  125700.0  112600.0   \n",
       "1996-07-01   87200.0   88300.0   96800.0   90800.0  ...  127200.0  112800.0   \n",
       "1996-08-01   87400.0   88200.0   96600.0   90700.0  ...  128600.0  113000.0   \n",
       "...              ...       ...       ...       ...  ...       ...       ...   \n",
       "2017-12-01  151400.0  173300.0  187400.0  201200.0  ...  258800.0  219100.0   \n",
       "2018-01-01  150100.0  174600.0  188100.0  204600.0  ...  259400.0  218900.0   \n",
       "2018-02-01  150100.0  175900.0  189000.0  211200.0  ...  259900.0  218300.0   \n",
       "2018-03-01  149500.0  176900.0  189600.0  217900.0  ...  260200.0  218400.0   \n",
       "2018-04-01  149100.0  177400.0  189800.0  220800.0  ...  260500.0  219100.0   \n",
       "\n",
       "               99669     99701     99705     99709     99712     99801  \\\n",
       "time                                                                     \n",
       "1996-04-01  112500.0   89400.0  101900.0  103000.0  109200.0  166800.0   \n",
       "1996-05-01  113100.0   89800.0  102900.0  103900.0  109600.0  166200.0   \n",
       "1996-06-01  113800.0   90200.0  103800.0  104700.0  110000.0  165400.0   \n",
       "1996-07-01  114400.0   90600.0  104700.0  105500.0  110400.0  164400.0   \n",
       "1996-08-01  115100.0   91000.0  105400.0  106200.0  110800.0  163500.0   \n",
       "...              ...       ...       ...       ...       ...       ...   \n",
       "2017-12-01  250200.0  206700.0  261100.0  262800.0  273500.0  402300.0   \n",
       "2018-01-01  250600.0  206100.0  261300.0  262800.0  273800.0  406200.0   \n",
       "2018-02-01  250100.0  205600.0  261400.0  262300.0  273800.0  409800.0   \n",
       "2018-03-01  249300.0  205500.0  261700.0  262000.0  273900.0  412600.0   \n",
       "2018-04-01  249300.0  205700.0  262000.0  262400.0  274600.0  413300.0   \n",
       "\n",
       "               99835     99901  \n",
       "time                            \n",
       "1996-04-01  155500.0  117100.0  \n",
       "1996-05-01  154900.0  117200.0  \n",
       "1996-06-01  154200.0  117300.0  \n",
       "1996-07-01  153500.0  117400.0  \n",
       "1996-08-01  152800.0  117500.0  \n",
       "...              ...       ...  \n",
       "2017-12-01  396200.0  291900.0  \n",
       "2018-01-01  397500.0  294200.0  \n",
       "2018-02-01  398900.0  297500.0  \n",
       "2018-03-01  402100.0  302100.0  \n",
       "2018-04-01  404800.0  305100.0  \n",
       "\n",
       "[265 rows x 14723 columns]"
      ]
     },
     "execution_count": 22,
     "metadata": {},
     "output_type": "execute_result"
    }
   ],
   "source": [
    "zip_df"
   ]
  },
  {
   "cell_type": "code",
   "execution_count": 23,
   "metadata": {},
   "outputs": [
    {
     "data": {
      "text/plain": [
       "0.9770114942528736"
      ]
     },
     "execution_count": 23,
     "metadata": {},
     "output_type": "execute_result"
    }
   ],
   "source": [
    "# ROI from beginning to end of table\n",
    "\n",
    "(zip_df['1001'][-1]/zip_df['1001'][0]) - 1"
   ]
  },
  {
   "cell_type": "code",
   "execution_count": 24,
   "metadata": {},
   "outputs": [
    {
     "data": {
      "text/plain": [
       "array([113100, 112800, 112600, 112300, 112100, 111900, 111800, 111700,\n",
       "       111700, 111900, 112100, 112300, 112500, 112800, 113000, 113300,\n",
       "       113600, 113900, 114200, 114500, 114800, 115200, 115600, 115900,\n",
       "       116200, 116400, 116600, 116700, 116800, 116900, 117100, 117300,\n",
       "       117500, 117800, 118300, 118700, 119100, 119500, 120000, 120400,\n",
       "       120900, 121300, 121700, 122100, 122600, 123100, 123800, 124400,\n",
       "       124900, 125400, 125900, 126400, 127000, 127500, 128100, 128800,\n",
       "       129400, 130200, 131100, 131900, 132700, 133400, 134100, 134800,\n",
       "       135400, 136100, 136800, 137500, 138400, 139400, 140600, 141800,\n",
       "       143000, 144200, 145400, 146800, 148200, 149500, 150900, 152600,\n",
       "       154500, 155900, 156800, 157700, 158700, 159900, 161100, 162200,\n",
       "       163300, 164300, 165500, 166800, 168100, 169300, 170600, 172000,\n",
       "       173600, 175300, 177200, 179200, 181300, 183500, 185700, 187600,\n",
       "       189500, 191600, 193900, 196400, 199300, 202300, 205500, 208600,\n",
       "       211500, 214200, 216800, 219000, 220500, 221600, 222200, 222500,\n",
       "       222600, 222400, 222100, 221600, 221100, 220700, 220600, 220600,\n",
       "       220700, 221100, 221600, 222000, 222200, 221900, 221300, 220300,\n",
       "       219200, 218100, 217100, 216200, 215200, 213900, 212400, 210800,\n",
       "       209100, 207800, 206800, 205900, 205100, 204300, 203700, 203200,\n",
       "       202500, 201700, 201000, 200300, 199500, 198800, 197900, 197200,\n",
       "       197100, 197500, 198100, 198600, 198300, 197900, 197800, 198300,\n",
       "       199100, 199700, 199500, 198900, 197500, 195900, 193500, 190900,\n",
       "       189600, 190100, 190200, 189700, 188900, 188100, 187600, 187900,\n",
       "       188500, 188300, 187500, 187500, 187800, 187200, 186200, 185800,\n",
       "       185300, 184000, 182400, 181200, 180400, 180400, 181200, 182100,\n",
       "       182800, 183400, 183700, 183300, 183500, 184800, 187000, 188600,\n",
       "       189100, 188700, 188100, 187100, 185900, 185100, 184800, 184900,\n",
       "       184500, 184500, 185100, 185800, 186400, 186900, 187400, 187900,\n",
       "       188800, 189800, 190800, 191500, 192200, 192400, 192100, 191500,\n",
       "       191000, 191200, 192300, 193600, 194600, 195300, 195900, 195900,\n",
       "       196100, 197100, 198000, 199300, 201100, 202100, 202300, 202600,\n",
       "       202700, 202600, 203900, 206000, 208200, 210500, 212500, 213900,\n",
       "       215700, 218200, 220100, 221100, 221700, 221700, 221700, 222700,\n",
       "       223600])"
      ]
     },
     "execution_count": 24,
     "metadata": {},
     "output_type": "execute_result"
    }
   ],
   "source": [
    "df = pd.DataFrame({'A': zip_df['1001'].values})\n",
    "df['diff1'] = df['A'].diff()\n",
    "df['diff2'] = df['diff1'].diff()\n",
    "\n",
    "def transform_diff2s(x_start, diff_start, pred_diff2s):\n",
    "    \"\"\"Transform second order differenced predictions to the values of the original formatted data\n",
    "    \n",
    "    Params:\n",
    "        x_start (numeric) the first value in the original series x\n",
    "        diff_start (numeric) the first non-null value in the 1st order difference, ie. x.diff().iloc[1]\n",
    "        pred_diff2s (series-like object) the predicted second order differenced values from some model\n",
    "        \n",
    "    Returns:\n",
    "        (series) undifferenced values in original format of x\"\"\"\n",
    "    import numpy as np\n",
    "    \n",
    "    x = x_start\n",
    "\n",
    "    x2 = diff_start\n",
    "    \n",
    "    x_diff2 = pred_diff2s\n",
    "    x_diff = np.r_[x2, x_diff2].cumsum().astype(int)\n",
    "    transformed_preds = np.r_[x, x_diff].cumsum().astype(int)\n",
    "    \n",
    "    return transformed_preds\n",
    "\n",
    "# x, x_diff = df['A'].iloc[0], df['B'].iloc[1:]\n",
    "# df['D'] = np.r_[x, x_diff].cumsum().astype(int)\n",
    "# x2, x_diff2 = df['B'].iloc[1], df['C'].iloc[2:]\n",
    "# x_diff_test = np.r_[x2, x_diff2].cumsum().astype(int)\n",
    "# x_diff_test == x_diff\n",
    "# df['E'] = np.r_[x, np.r_[x2, x_diff2].cumsum().astype(int)].astype(int)\n",
    "# print(x.size, x_diff.size, x_diff2.size, x2.size, len(df['A']))\n",
    "transform_diff2s(df['A'][0], df['diff1'][1], df['diff2'][2:])"
   ]
  },
  {
   "cell_type": "code",
   "execution_count": 25,
   "metadata": {},
   "outputs": [
    {
     "name": "stdout",
     "output_type": "stream",
     "text": [
      "Lag: 14\n",
      "Coefficients: [-4.76619252  0.60141155 -0.38384097  0.0622626  -0.00643859 -0.21530151\n",
      "  0.26172035 -0.16637076  0.08781042 -0.31303174  0.26210386  0.03789678\n",
      " -0.29948158 -0.1878581   0.250815  ]\n",
      "72\n",
      "263\n",
      "predicted=184694.000000, expected=184000.000000\n",
      "Test RMSE: 45681.431\n",
      "predicted=184378.000000, expected=182400.000000\n",
      "Test RMSE: 45681.431\n",
      "predicted=183827.000000, expected=181200.000000\n",
      "Test RMSE: 45681.431\n",
      "predicted=182352.000000, expected=180400.000000\n",
      "Test RMSE: 45681.431\n",
      "predicted=181068.000000, expected=180400.000000\n",
      "Test RMSE: 45681.431\n",
      "predicted=180890.000000, expected=181200.000000\n",
      "Test RMSE: 45681.431\n",
      "predicted=180796.000000, expected=182100.000000\n",
      "Test RMSE: 45681.431\n",
      "predicted=179758.000000, expected=182800.000000\n",
      "Test RMSE: 45681.431\n",
      "predicted=178851.000000, expected=183400.000000\n",
      "Test RMSE: 45681.431\n",
      "predicted=178553.000000, expected=183700.000000\n",
      "Test RMSE: 45681.431\n",
      "predicted=178000.000000, expected=183300.000000\n",
      "Test RMSE: 45681.431\n",
      "predicted=177190.000000, expected=183500.000000\n",
      "Test RMSE: 45681.431\n",
      "predicted=176853.000000, expected=184800.000000\n",
      "Test RMSE: 45681.431\n",
      "predicted=176280.000000, expected=187000.000000\n",
      "Test RMSE: 45681.431\n",
      "predicted=175090.000000, expected=188600.000000\n",
      "Test RMSE: 45681.431\n",
      "predicted=174420.000000, expected=189100.000000\n",
      "Test RMSE: 45681.431\n",
      "predicted=174591.000000, expected=188700.000000\n",
      "Test RMSE: 45681.431\n",
      "predicted=174071.000000, expected=188100.000000\n",
      "Test RMSE: 45681.431\n",
      "predicted=172661.000000, expected=187100.000000\n",
      "Test RMSE: 45681.431\n",
      "predicted=171785.000000, expected=185900.000000\n",
      "Test RMSE: 45681.431\n",
      "predicted=171521.000000, expected=185100.000000\n",
      "Test RMSE: 45681.431\n",
      "predicted=170733.000000, expected=184800.000000\n",
      "Test RMSE: 45681.431\n",
      "predicted=169840.000000, expected=184900.000000\n",
      "Test RMSE: 45681.431\n",
      "predicted=169459.000000, expected=184500.000000\n",
      "Test RMSE: 45681.431\n",
      "predicted=168734.000000, expected=184500.000000\n",
      "Test RMSE: 45681.431\n",
      "predicted=167460.000000, expected=185100.000000\n",
      "Test RMSE: 45681.431\n",
      "predicted=166927.000000, expected=185800.000000\n",
      "Test RMSE: 45681.431\n",
      "predicted=166881.000000, expected=186400.000000\n",
      "Test RMSE: 45681.431\n",
      "predicted=165879.000000, expected=186900.000000\n",
      "Test RMSE: 45681.431\n",
      "predicted=164433.000000, expected=187400.000000\n",
      "Test RMSE: 45681.431\n",
      "predicted=163995.000000, expected=187900.000000\n",
      "Test RMSE: 45681.431\n",
      "predicted=163817.000000, expected=188800.000000\n",
      "Test RMSE: 45681.431\n",
      "predicted=162818.000000, expected=189800.000000\n",
      "Test RMSE: 45681.431\n",
      "predicted=161862.000000, expected=190800.000000\n",
      "Test RMSE: 45681.431\n",
      "predicted=161466.000000, expected=191500.000000\n",
      "Test RMSE: 45681.431\n",
      "predicted=160547.000000, expected=192200.000000\n",
      "Test RMSE: 45681.431\n",
      "predicted=159301.000000, expected=192400.000000\n",
      "Test RMSE: 45681.431\n",
      "predicted=158939.000000, expected=192100.000000\n",
      "Test RMSE: 45681.431\n",
      "predicted=158717.000000, expected=191500.000000\n",
      "Test RMSE: 45681.431\n",
      "predicted=157377.000000, expected=191000.000000\n",
      "Test RMSE: 45681.431\n",
      "predicted=156090.000000, expected=191200.000000\n",
      "Test RMSE: 45681.431\n",
      "predicted=155904.000000, expected=192300.000000\n",
      "Test RMSE: 45681.431\n",
      "predicted=155468.000000, expected=193600.000000\n",
      "Test RMSE: 45681.431\n",
      "predicted=154101.000000, expected=194600.000000\n",
      "Test RMSE: 45681.431\n",
      "predicted=153197.000000, expected=195300.000000\n",
      "Test RMSE: 45681.431\n",
      "predicted=152844.000000, expected=195900.000000\n",
      "Test RMSE: 45681.431\n",
      "predicted=151796.000000, expected=195900.000000\n",
      "Test RMSE: 45681.431\n",
      "predicted=150620.000000, expected=196100.000000\n",
      "Test RMSE: 45681.431\n",
      "predicted=150374.000000, expected=197100.000000\n",
      "Test RMSE: 45681.431\n",
      "predicted=149841.000000, expected=198000.000000\n",
      "Test RMSE: 45681.431\n",
      "predicted=148242.000000, expected=199300.000000\n",
      "Test RMSE: 45681.431\n",
      "predicted=147201.000000, expected=201100.000000\n",
      "Test RMSE: 45681.431\n",
      "predicted=147167.000000, expected=202100.000000\n",
      "Test RMSE: 45681.431\n",
      "predicted=146368.000000, expected=202300.000000\n",
      "Test RMSE: 45681.431\n",
      "predicted=144818.000000, expected=202600.000000\n",
      "Test RMSE: 45681.431\n",
      "predicted=144136.000000, expected=202700.000000\n",
      "Test RMSE: 45681.431\n",
      "predicted=143787.000000, expected=202600.000000\n",
      "Test RMSE: 45681.431\n",
      "predicted=142504.000000, expected=203900.000000\n",
      "Test RMSE: 45681.431\n",
      "predicted=141376.000000, expected=206000.000000\n",
      "Test RMSE: 45681.431\n",
      "predicted=141155.000000, expected=208200.000000\n",
      "Test RMSE: 45681.431\n",
      "predicted=140292.000000, expected=210500.000000\n",
      "Test RMSE: 45681.431\n",
      "predicted=138590.000000, expected=212500.000000\n",
      "Test RMSE: 45681.431\n",
      "predicted=137889.000000, expected=213900.000000\n",
      "Test RMSE: 45681.431\n",
      "predicted=137838.000000, expected=215700.000000\n",
      "Test RMSE: 45681.431\n",
      "predicted=136600.000000, expected=218200.000000\n",
      "Test RMSE: 45681.431\n",
      "predicted=135004.000000, expected=220100.000000\n",
      "Test RMSE: 45681.431\n",
      "predicted=134586.000000, expected=221100.000000\n",
      "Test RMSE: 45681.431\n",
      "predicted=134091.000000, expected=221700.000000\n",
      "Test RMSE: 45681.431\n",
      "predicted=132554.000000, expected=221700.000000\n",
      "Test RMSE: 45681.431\n",
      "predicted=131555.000000, expected=221700.000000\n",
      "Test RMSE: 45681.431\n",
      "predicted=131351.000000, expected=222700.000000\n",
      "Test RMSE: 45681.431\n",
      "predicted=130163.000000, expected=223600.000000\n",
      "Test RMSE: 45681.431\n"
     ]
    },
    {
     "name": "stderr",
     "output_type": "stream",
     "text": [
      "/opt/anaconda3/lib/python3.7/site-packages/statsmodels/tsa/ar_model.py:691: FutureWarning: \n",
      "statsmodels.tsa.AR has been deprecated in favor of statsmodels.tsa.AutoReg and\n",
      "statsmodels.tsa.SARIMAX.\n",
      "\n",
      "AutoReg adds the ability to specify exogenous variables, include time trends,\n",
      "and add seasonal dummies. The AutoReg API differs from AR since the model is\n",
      "treated as immutable, and so the entire specification including the lag\n",
      "length must be specified when creating the model. This change is too\n",
      "substantial to incorporate into the existing AR api. The function\n",
      "ar_select_order performs lag length selection for AutoReg models.\n",
      "\n",
      "AutoReg only estimates parameters using conditional MLE (OLS). Use SARIMAX to\n",
      "estimate ARX and related models using full MLE via the Kalman Filter.\n",
      "\n",
      "To silence this warning and continue using AR until it is removed, use:\n",
      "\n",
      "import warnings\n",
      "warnings.filterwarnings('ignore', 'statsmodels.tsa.ar_model.AR', FutureWarning)\n",
      "\n",
      "  warnings.warn(AR_DEPRECATION_WARN, FutureWarning)\n"
     ]
    },
    {
     "data": {
      "image/png": "[encoded data removed]",
      "text/plain": [
       "<Figure size 432x288 with 1 Axes>"
      ]
     },
     "metadata": {
      "needs_background": "light"
     },
     "output_type": "display_data"
    }
   ],
   "source": [
    "\n",
    "\n",
    "# split dataset using second order differenced data\n",
    "diff_1 = zip_df['1001'].diff()[1:]\n",
    "diff_2 = diff_1.diff()[1:]\n",
    "test_undiff = zip_df['1001'][-72:].values\n",
    "X = zip_df['1001'].diff()[1:].diff()[1:].values\n",
    "train, test = X[0:len(X)-72], X[len(X)-72:]\n",
    "# train autoregression\n",
    "model = AR(train)\n",
    "model_fit = model.fit()\n",
    "print('Lag: %s' % model_fit.k_ar)\n",
    "print('Coefficients: %s' % model_fit.params)\n",
    "# make predictions on the differenced data\n",
    "predictions = model_fit.predict(start=len(train), end=len(train)+len(test)-1, dynamic=False)\n",
    "print(len(predictions))\n",
    "\n",
    "print(X.size)\n",
    "np.r_[train, predictions].size\n",
    "#convert predictions back to values\n",
    "\n",
    "predicted_values = transform_diff2s(zip_df['1001'][0], diff_1[0], np.r_[train, predictions])\n",
    "\n",
    "model_predictions = predicted_values[-72:]\n",
    "# print(X[-72], zip_df['1001'][[-74, -72]])\n",
    "for i in range(len(model_predictions)):\n",
    "    print('predicted=%f, expected=%f' % (model_predictions[i], test_undiff[i]))\n",
    "    rmse = sqrt(mean_squared_error(test_undiff, model_predictions))\n",
    "    print('Test RMSE: %.3f' % rmse)\n",
    "# plot results\n",
    "plt.plot(test_undiff)\n",
    "plt.plot(model_predictions, color='red')\n",
    "\n",
    "plt.show()"
   ]
  },
  {
   "cell_type": "code",
   "execution_count": null,
   "metadata": {},
   "outputs": [],
   "source": [
    "\n",
    "\n"
   ]
  },
  {
   "cell_type": "code",
   "execution_count": 26,
   "metadata": {},
   "outputs": [
    {
     "data": {
      "text/html": [
       "<div>\n",
       "<style scoped>\n",
       "    .dataframe tbody tr th:only-of-type {\n",
       "        vertical-align: middle;\n",
       "    }\n",
       "\n",
       "    .dataframe tbody tr th {\n",
       "        vertical-align: top;\n",
       "    }\n",
       "\n",
       "    .dataframe thead th {\n",
       "        text-align: right;\n",
       "    }\n",
       "</style>\n",
       "<table border=\"1\" class=\"dataframe\">\n",
       "  <thead>\n",
       "    <tr style=\"text-align: right;\">\n",
       "      <th></th>\n",
       "      <th>t</th>\n",
       "      <th>t+1</th>\n",
       "    </tr>\n",
       "  </thead>\n",
       "  <tbody>\n",
       "    <tr>\n",
       "      <th>0</th>\n",
       "      <td>NaN</td>\n",
       "      <td>113100.0</td>\n",
       "    </tr>\n",
       "    <tr>\n",
       "      <th>1</th>\n",
       "      <td>113100.0</td>\n",
       "      <td>112800.0</td>\n",
       "    </tr>\n",
       "    <tr>\n",
       "      <th>2</th>\n",
       "      <td>112800.0</td>\n",
       "      <td>112600.0</td>\n",
       "    </tr>\n",
       "    <tr>\n",
       "      <th>3</th>\n",
       "      <td>112600.0</td>\n",
       "      <td>112300.0</td>\n",
       "    </tr>\n",
       "    <tr>\n",
       "      <th>4</th>\n",
       "      <td>112300.0</td>\n",
       "      <td>112100.0</td>\n",
       "    </tr>\n",
       "    <tr>\n",
       "      <th>...</th>\n",
       "      <td>...</td>\n",
       "      <td>...</td>\n",
       "    </tr>\n",
       "    <tr>\n",
       "      <th>260</th>\n",
       "      <td>221100.0</td>\n",
       "      <td>221700.0</td>\n",
       "    </tr>\n",
       "    <tr>\n",
       "      <th>261</th>\n",
       "      <td>221700.0</td>\n",
       "      <td>221700.0</td>\n",
       "    </tr>\n",
       "    <tr>\n",
       "      <th>262</th>\n",
       "      <td>221700.0</td>\n",
       "      <td>221700.0</td>\n",
       "    </tr>\n",
       "    <tr>\n",
       "      <th>263</th>\n",
       "      <td>221700.0</td>\n",
       "      <td>222700.0</td>\n",
       "    </tr>\n",
       "    <tr>\n",
       "      <th>264</th>\n",
       "      <td>222700.0</td>\n",
       "      <td>223600.0</td>\n",
       "    </tr>\n",
       "  </tbody>\n",
       "</table>\n",
       "<p>265 rows × 2 columns</p>\n",
       "</div>"
      ],
      "text/plain": [
       "            t       t+1\n",
       "0         NaN  113100.0\n",
       "1    113100.0  112800.0\n",
       "2    112800.0  112600.0\n",
       "3    112600.0  112300.0\n",
       "4    112300.0  112100.0\n",
       "..        ...       ...\n",
       "260  221100.0  221700.0\n",
       "261  221700.0  221700.0\n",
       "262  221700.0  221700.0\n",
       "263  221700.0  222700.0\n",
       "264  222700.0  223600.0\n",
       "\n",
       "[265 rows x 2 columns]"
      ]
     },
     "execution_count": 26,
     "metadata": {},
     "output_type": "execute_result"
    }
   ],
   "source": [
    "# Let's Try a Naive Persistence Model as a baseline:\n",
    "\n",
    "# Create lagged dataset\n",
    "values = pd.DataFrame(zip_df['1001'].values)\n",
    "df = pd.concat([values.shift(1), values], axis=1)\n",
    "df.columns = ['t', 't+1']\n",
    "df"
   ]
  },
  {
   "cell_type": "code",
   "execution_count": 27,
   "metadata": {},
   "outputs": [],
   "source": [
    "# split into train and test sets\n",
    "\n",
    "X = df.values\n",
    "train_size = int(len(X) * 0.75)\n",
    "train, test = X[1:train_size], X[train_size:]\n",
    "train_X, train_y = train[:,0], train[:,1]\n",
    "test_X, test_y = test[:,0], test[:,1]\n",
    "\n"
   ]
  },
  {
   "cell_type": "code",
   "execution_count": 28,
   "metadata": {},
   "outputs": [
    {
     "name": "stdout",
     "output_type": "stream",
     "text": [
      "Test RMSE: 1047.100\n"
     ]
    },
    {
     "data": {
      "text/html": [
       "<div>\n",
       "<style scoped>\n",
       "    .dataframe tbody tr th:only-of-type {\n",
       "        vertical-align: middle;\n",
       "    }\n",
       "\n",
       "    .dataframe tbody tr th {\n",
       "        vertical-align: top;\n",
       "    }\n",
       "\n",
       "    .dataframe thead th {\n",
       "        text-align: right;\n",
       "    }\n",
       "</style>\n",
       "<table border=\"1\" class=\"dataframe\">\n",
       "  <thead>\n",
       "    <tr style=\"text-align: right;\">\n",
       "      <th></th>\n",
       "      <th>0</th>\n",
       "    </tr>\n",
       "  </thead>\n",
       "  <tbody>\n",
       "    <tr>\n",
       "      <th>count</th>\n",
       "      <td>67.000000</td>\n",
       "    </tr>\n",
       "    <tr>\n",
       "      <th>mean</th>\n",
       "      <td>644.776119</td>\n",
       "    </tr>\n",
       "    <tr>\n",
       "      <th>std</th>\n",
       "      <td>831.261105</td>\n",
       "    </tr>\n",
       "    <tr>\n",
       "      <th>min</th>\n",
       "      <td>-1200.000000</td>\n",
       "    </tr>\n",
       "    <tr>\n",
       "      <th>25%</th>\n",
       "      <td>100.000000</td>\n",
       "    </tr>\n",
       "    <tr>\n",
       "      <th>50%</th>\n",
       "      <td>600.000000</td>\n",
       "    </tr>\n",
       "    <tr>\n",
       "      <th>75%</th>\n",
       "      <td>1000.000000</td>\n",
       "    </tr>\n",
       "    <tr>\n",
       "      <th>max</th>\n",
       "      <td>2500.000000</td>\n",
       "    </tr>\n",
       "  </tbody>\n",
       "</table>\n",
       "</div>"
      ],
      "text/plain": [
       "                 0\n",
       "count    67.000000\n",
       "mean    644.776119\n",
       "std     831.261105\n",
       "min   -1200.000000\n",
       "25%     100.000000\n",
       "50%     600.000000\n",
       "75%    1000.000000\n",
       "max    2500.000000"
      ]
     },
     "execution_count": 28,
     "metadata": {},
     "output_type": "execute_result"
    }
   ],
   "source": [
    "# persistence model\n",
    "\n",
    "predictions = [x for x in test_X]\n",
    "\n",
    "\n",
    "# load data\n",
    "series = zip_df['1001']\n",
    "# create lagged dataset\n",
    "values = pd.DataFrame(series.values)\n",
    "dataframe = pd.concat([values.shift(1), values], axis=1)\n",
    "dataframe.columns = ['t', 't+1']\n",
    "# split into train and test sets\n",
    "X = dataframe.values\n",
    "train_size = int(len(X) * 0.75)\n",
    "train, test = X[1:train_size], X[train_size:]\n",
    "train_X, train_y = train[:,0], train[:,1]\n",
    "test_X, test_y = test[:,0], test[:,1]\n",
    "# persistence model\n",
    "predictions = [x for x in test_X]\n",
    "# skill of persistence model\n",
    "rmse = sqrt(mean_squared_error(test_y, predictions))\n",
    "print('Test RMSE: %.3f' % rmse)\n",
    "# calculate residuals\n",
    "residuals = [test_y[i]-predictions[i] for i in range(len(predictions))]\n",
    "residuals = pd.DataFrame(residuals)\n",
    "residuals.describe()"
   ]
  },
  {
   "cell_type": "code",
   "execution_count": 29,
   "metadata": {},
   "outputs": [
    {
     "name": "stdout",
     "output_type": "stream",
     "text": [
      "205 60\n"
     ]
    }
   ],
   "source": [
    "# Test Harness - We will be making predictions based off of a five year holding period, lets withhold 60 months as a validation set\n",
    "split_point = len(zip_df['1001']) - 60\n",
    "train, test = zip_df['1001'][:split_point], zip_df['1001'][split_point:]\n",
    "\n",
    "print(len(train), len(test))\n"
   ]
  },
  {
   "cell_type": "code",
   "execution_count": 30,
   "metadata": {},
   "outputs": [
    {
     "data": {
      "text/plain": [
       "[1.0,\n",
       " 1.0,\n",
       " 1.0,\n",
       " 1.0,\n",
       " 1.0,\n",
       " 1.0,\n",
       " 2.104417123236605,\n",
       " 2.6457513110645907,\n",
       " 3.0,\n",
       " 3.255764119219941,\n",
       " 3.4509550720186013]"
      ]
     },
     "execution_count": 30,
     "metadata": {},
     "output_type": "execute_result"
    }
   ],
   "source": [
    "# Performance Measure-- We will be using RMSE initially\n",
    "\n",
    "def RMSE(y_true, y_pred):\n",
    "    \"\"\"Simple wrapper function on mean_squared_error to return RMSE\n",
    "    \n",
    "    Params:\n",
    "        predictions (series or array like object), the predicted values from model\n",
    "        test_data (series or array like object), the true target values\n",
    "        \n",
    "    Returns:\n",
    "        RMSE (list) list of accumulated RMSE values for each observation in consecutive time order\n",
    "        i.e. the first return value will be just the error of first prediction, second the sqrt of mean squared error for first 2 predictions, etc.\"\"\"\n",
    "    # Import necessary function\n",
    "    from sklearn.metrics import mean_squared_error\n",
    "    \n",
    "    # Ensure predictions and test_data are same size\n",
    "    if len(y_pred) != len(y_true):\n",
    "        return \"Test data and predictions must have equal length\"\n",
    "    \n",
    "    else:\n",
    "        rmse = [mean_squared_error(y_true[:i+1], y_pred[:i+1], squared=False) for i, _ in enumerate(y_pred)]\n",
    "        return rmse\n",
    "    \n",
    "test_a = [i for i in range(11)]\n",
    "test_preds = [i + 1 if i < 6 else i + 5 for i in test_a]\n",
    "\n",
    "RMSE(test_a, test_preds)\n",
    "    "
   ]
  },
  {
   "cell_type": "code",
   "execution_count": 31,
   "metadata": {},
   "outputs": [],
   "source": [
    "# Stationarity Test Wrapper:\n",
    "def test_stationarity(series):\n",
    "    \"\"\"Simple wrapper around adfuller that prints in more readable format\n",
    "    \n",
    "    Params:\n",
    "        series (series) a timeseries\n",
    "    Returns:\n",
    "        None\"\"\"\n",
    "    \n",
    "    from statsmodels.tsa.stattools import adfuller \n",
    "    \n",
    "    result = adfuller(series)\n",
    "    print('ADF Statistic: %f' % result[0])\n",
    "    print('p-value: %f' % result[1])\n",
    "    print('Critical Values:')\n",
    "    \n",
    "    for key, value in result[4].items():\n",
    "        print('\\t%s: %.3f' % (key, value))\n",
    "    return None\n",
    "\n"
   ]
  },
  {
   "cell_type": "code",
   "execution_count": 32,
   "metadata": {},
   "outputs": [
    {
     "name": "stdout",
     "output_type": "stream",
     "text": [
      "ADF Statistic: -1.746793\n",
      "p-value: 0.407179\n",
      "Critical Values:\n",
      "\t1%: -3.457\n",
      "\t5%: -2.873\n",
      "\t10%: -2.573\n",
      "ADF Statistic: -1.945353\n",
      "p-value: 0.311036\n",
      "Critical Values:\n",
      "\t1%: -3.457\n",
      "\t5%: -2.873\n",
      "\t10%: -2.573\n",
      "ADF Statistic: -6.627156\n",
      "p-value: 0.000000\n",
      "Critical Values:\n",
      "\t1%: -3.457\n",
      "\t5%: -2.873\n",
      "\t10%: -2.573\n"
     ]
    }
   ],
   "source": [
    "# Example of stationarity test, this suggests that d param in ARIMA model should be at least 2 for the 1001 zipcode series\n",
    "# because the ADF statistic is not less than critical value at 5% significance level until second order differencing (with p value of 0)\n",
    "\n",
    "test_stationarity(zip_df['1001'])\n",
    "test_stationarity(zip_df['1001'].diff()[1:])\n",
    "test_stationarity(zip_df['1001'].diff()[1:].diff()[1:])"
   ]
  },
  {
   "cell_type": "code",
   "execution_count": 33,
   "metadata": {},
   "outputs": [
    {
     "data": {
      "image/png": "[encoded data removed]",
      "text/plain": [
       "<Figure size 1080x720 with 2 Axes>"
      ]
     },
     "metadata": {
      "needs_background": "light"
     },
     "output_type": "display_data"
    }
   ],
   "source": [
    "# This suggests that at least two levels of differencing is required. The d parameter in our\n",
    "# ARIMA model should at least be a value of 2. The next step is to select the lag values for\n",
    "# the Autoregression (AR) and Moving Average (MA) parameters, p and q respectively. We can\n",
    "# do this by reviewing Autocorrelation Function (ACF) and Partial Autocorrelation Function\n",
    "# (PACF) plots. The example below creates ACF and PACF plots for the series. (TEXT OF THIS APPROACH TAKEN FROM INTRO TO TIMESERIES FORECASTING w/ PYTHON\n",
    "# BROWNLEE)\n",
    "\n",
    "from statsmodels.graphics.tsaplots import plot_acf\n",
    "from statsmodels.graphics.tsaplots import plot_pacf\n",
    "\n",
    "series = zip_df['1001']\n",
    "plt.figure(figsize=(15,10))\n",
    "plt.subplot(211)\n",
    "plot_acf(series, lags=60, ax=plt.gca())\n",
    "plt.subplot(212)\n",
    "plot_pacf(series, lags=60, ax=plt.gca())\n",
    "plt.show()\n"
   ]
  },
  {
   "cell_type": "code",
   "execution_count": 34,
   "metadata": {},
   "outputs": [
    {
     "name": "stdout",
     "output_type": "stream",
     "text": [
      ">Predicted=183768.513, Expected=184800.000\n",
      ">Predicted=186189.249, Expected=187000.000\n",
      ">Predicted=189212.764, Expected=188600.000\n",
      ">Predicted=190096.867, Expected=189100.000\n",
      ">Predicted=189479.643, Expected=188700.000\n",
      ">Predicted=188271.599, Expected=188100.000\n",
      ">Predicted=187561.946, Expected=187100.000\n",
      ">Predicted=186156.530, Expected=185900.000\n",
      ">Predicted=184750.228, Expected=185100.000\n",
      ">Predicted=184396.494, Expected=184800.000\n",
      ">Predicted=184550.653, Expected=184900.000\n",
      ">Predicted=185010.334, Expected=184500.000\n",
      ">Predicted=184028.019, Expected=184500.000\n",
      ">Predicted=184505.170, Expected=185100.000\n",
      ">Predicted=185735.701, Expected=185800.000\n",
      ">Predicted=186446.998, Expected=186400.000\n",
      ">Predicted=186968.813, Expected=186900.000\n",
      ">Predicted=187379.042, Expected=187400.000\n",
      ">Predicted=187881.308, Expected=187900.000\n",
      ">Predicted=188398.861, Expected=188800.000\n",
      ">Predicted=189734.123, Expected=189800.000\n",
      ">Predicted=190796.787, Expected=190800.000\n",
      ">Predicted=191774.959, Expected=191500.000\n",
      ">Predicted=192168.311, Expected=192200.000\n",
      ">Predicted=192896.828, Expected=192400.000\n",
      ">Predicted=192571.586, Expected=192100.000\n",
      ">Predicted=191778.988, Expected=191500.000\n",
      ">Predicted=190933.670, Expected=191000.000\n",
      ">Predicted=190552.429, Expected=191200.000\n",
      ">Predicted=191491.484, Expected=192300.000\n",
      ">Predicted=193469.864, Expected=193600.000\n",
      ">Predicted=194858.471, Expected=194600.000\n",
      ">Predicted=195506.383, Expected=195300.000\n",
      ">Predicted=195935.613, Expected=195900.000\n",
      ">Predicted=196476.799, Expected=195900.000\n",
      ">Predicted=195855.684, Expected=196100.000\n",
      ">Predicted=196358.269, Expected=197100.000\n",
      ">Predicted=198212.342, Expected=198000.000\n",
      ">Predicted=198862.686, Expected=199300.000\n",
      ">Predicted=200610.633, Expected=201100.000\n",
      ">Predicted=202917.760, Expected=202100.000\n",
      ">Predicted=202964.194, Expected=202300.000\n",
      ">Predicted=202435.471, Expected=202600.000\n",
      ">Predicted=202958.818, Expected=202700.000\n",
      ">Predicted=202808.920, Expected=202600.000\n",
      ">Predicted=202538.191, Expected=203900.000\n",
      ">Predicted=205352.713, Expected=206000.000\n",
      ">Predicted=208114.862, Expected=208200.000\n",
      ">Predicted=210316.608, Expected=210500.000\n",
      ">Predicted=212747.059, Expected=212500.000\n",
      ">Predicted=214370.712, Expected=213900.000\n",
      ">Predicted=215205.917, Expected=215700.000\n",
      ">Predicted=217559.202, Expected=218200.000\n",
      ">Predicted=220766.053, Expected=220100.000\n",
      ">Predicted=221941.897, Expected=221100.000\n",
      ">Predicted=222054.675, Expected=221700.000\n",
      ">Predicted=222302.418, Expected=221700.000\n",
      ">Predicted=221690.805, Expected=221700.000\n",
      ">Predicted=221801.032, Expected=222700.000\n",
      ">Predicted=223858.206, Expected=223600.000\n",
      "[1031.4866985405097, 927.7075211919339, 836.0148683973058, 878.9919076108116, 860.0406929017748, 788.2254670816855, 750.351372695476, 707.7250427900551, 677.3590908778957, 655.1454165106089, 633.4751764319269, 624.1420234719915, 613.778028443555, 612.4440656062894, 591.9100519069308, 573.234868526809, 556.3698898873722, 540.7169094214676, 526.312662547552, 520.7690319722064, 508.4218087352363, 496.732860903015, 489.1856690362478, 478.92955486107326, 479.6582981396266, 479.350348604886, 473.444034141473, 465.0817707650818, 472.5491117453241, 487.4927564475448, 480.1347591377336, 474.7768555800487, 468.9062666770184, 461.99949619774713, 465.67238183727994, 460.9611693030205, 470.75650882832963, 465.796480617483, 465.0879418474773, 465.71035111011054, 477.3957945270853, 482.6842112720771, 477.69796409849044, 473.84756484168565, 469.5869176012263, 505.99791778340904, 509.41225852705725, 504.22771825986723, 499.7432198455681, 495.9527991100473, 495.47023456359386, 495.4435991371659, 498.5785309563195, 502.1877358706926, 510.3864274330783, 508.0245512364417, 509.83120600976747, 505.41844206699636, 514.6022925083654, 511.38351393675936]\n"
     ]
    }
   ],
   "source": [
    "# ACF shows significant lag for about 20-22 months\n",
    "# PACF shows a significant lag for 2 months\n",
    "# A good starting point for p and q values is 20, 2 >> this does not converge\n",
    "\n",
    "\n",
    "from statsmodels.tsa.arima.model import ARIMA\n",
    "\n",
    "# load data\n",
    "series = zip_df['1001']\n",
    "# prepare data\n",
    "X = series.values\n",
    "X = X.astype('float32')\n",
    "\n",
    "# set trainset to include all but last 60 months (5 years)\n",
    "train_size = int(len(X) - 60)\n",
    "train, test = X[0:train_size], X[train_size:]\n",
    "# walk-forward validation\n",
    "history = [x for x in train]\n",
    "predictions = list()\n",
    "for i in range(len(test)):\n",
    "    # predict\n",
    "    model = ARIMA(history, order=(7,2,1))\n",
    "    model_fit = model.fit()\n",
    "    yhat = model_fit.forecast()[0]\n",
    "    predictions.append(yhat)\n",
    "    # observation\n",
    "    obs = test[i]\n",
    "    history.append(obs)\n",
    "    print('>Predicted=%.3f, Expected=%.3f' % (yhat, obs))\n",
    "# report performance\n",
    "rmse = RMSE(test, predictions)\n",
    "print(rmse)"
   ]
  },
  {
   "cell_type": "code",
   "execution_count": 61,
   "metadata": {},
   "outputs": [
    {
     "data": {
      "image/png": "[encoded data removed]",
      "text/plain": [
       "<Figure size 432x288 with 1 Axes>"
      ]
     },
     "metadata": {
      "needs_background": "light"
     },
     "output_type": "display_data"
    }
   ],
   "source": [
    "plt.plot(test)\n",
    "plt.plot(predictions, color='red')\n",
    "\n",
    "plt.show()"
   ]
  },
  {
   "cell_type": "code",
   "execution_count": 63,
   "metadata": {},
   "outputs": [
    {
     "data": {
      "text/plain": [
       "time\n",
       "1996-04-01     381700.0\n",
       "1996-05-01     379800.0\n",
       "1996-06-01     377800.0\n",
       "1996-07-01     375600.0\n",
       "1996-08-01     373500.0\n",
       "                ...    \n",
       "2017-12-01    1050500.0\n",
       "2018-01-01    1057900.0\n",
       "2018-02-01    1069800.0\n",
       "2018-03-01    1091700.0\n",
       "2018-04-01    1108400.0\n",
       "Name: 22101, Length: 265, dtype: float64"
      ]
     },
     "execution_count": 63,
     "metadata": {},
     "output_type": "execute_result"
    }
   ],
   "source": [
    "zip_df['22101']"
   ]
  },
  {
   "cell_type": "code",
   "execution_count": 47,
   "metadata": {},
   "outputs": [
    {
     "data": {
      "text/plain": [
       "time\n",
       "1996-04-01    142100.0\n",
       "1996-05-01    141300.0\n",
       "1996-06-01    140400.0\n",
       "1996-07-01    139600.0\n",
       "1996-08-01    138700.0\n",
       "                ...   \n",
       "2017-12-01    223700.0\n",
       "2018-01-01    226300.0\n",
       "2018-02-01    228400.0\n",
       "2018-03-01    230800.0\n",
       "2018-04-01    233000.0\n",
       "Name: 46240, Length: 265, dtype: float64"
      ]
     },
     "execution_count": 47,
     "metadata": {},
     "output_type": "execute_result"
    }
   ],
   "source": [
    "zip_df['46240']"
   ]
  },
  {
   "cell_type": "code",
   "execution_count": 49,
   "metadata": {},
   "outputs": [
    {
     "data": {
      "image/png": "[encoded data removed]",
      "text/plain": [
       "<Figure size 1080x720 with 2 Axes>"
      ]
     },
     "metadata": {
      "needs_background": "light"
     },
     "output_type": "display_data"
    }
   ],
   "source": [
    "series = zip_df['46240']\n",
    "plt.figure(figsize=(15,10))\n",
    "plt.subplot(211)\n",
    "plot_acf(series, lags=60, ax=plt.gca())\n",
    "plt.subplot(212)\n",
    "plot_pacf(series, lags=60, ax=plt.gca())\n",
    "plt.show()"
   ]
  },
  {
   "cell_type": "code",
   "execution_count": 60,
   "metadata": {},
   "outputs": [
    {
     "name": "stdout",
     "output_type": "stream",
     "text": [
      ">Predicted=179965.775, Expected=180200.000\n",
      ">Predicted=180472.827, Expected=180400.000\n"
     ]
    },
    {
     "name": "stderr",
     "output_type": "stream",
     "text": [
      "/opt/anaconda3/lib/python3.7/site-packages/statsmodels/base/model.py:568: ConvergenceWarning: Maximum Likelihood optimization failed to converge. Check mle_retvals\n",
      "  \"Check mle_retvals\", ConvergenceWarning)\n"
     ]
    },
    {
     "name": "stdout",
     "output_type": "stream",
     "text": [
      ">Predicted=180586.310, Expected=181000.000\n",
      ">Predicted=181564.283, Expected=182200.000\n",
      ">Predicted=183386.046, Expected=183700.000\n",
      ">Predicted=185162.554, Expected=184400.000\n",
      ">Predicted=184953.762, Expected=184100.000\n",
      ">Predicted=183661.954, Expected=183400.000\n",
      ">Predicted=182655.871, Expected=183400.000\n",
      ">Predicted=183506.985, Expected=183900.000\n",
      ">Predicted=184476.697, Expected=185500.000\n",
      ">Predicted=187241.852, Expected=187500.000\n",
      ">Predicted=189530.676, Expected=190200.000\n",
      ">Predicted=192906.672, Expected=192600.000\n",
      ">Predicted=194859.967, Expected=193400.000\n",
      ">Predicted=193967.476, Expected=192800.000\n",
      ">Predicted=192009.590, Expected=192500.000\n",
      ">Predicted=192274.190, Expected=192700.000\n",
      ">Predicted=193041.981, Expected=192900.000\n",
      ">Predicted=193202.682, Expected=192300.000\n",
      ">Predicted=191659.993, Expected=191400.000\n",
      ">Predicted=190535.533, Expected=191100.000\n",
      ">Predicted=190878.522, Expected=190800.000\n",
      ">Predicted=190505.777, Expected=190100.000\n",
      ">Predicted=189368.181, Expected=190000.000\n",
      ">Predicted=189978.462, Expected=190900.000\n",
      ">Predicted=191881.986, Expected=192500.000\n",
      ">Predicted=194096.408, Expected=193300.000\n"
     ]
    },
    {
     "name": "stderr",
     "output_type": "stream",
     "text": [
      "/opt/anaconda3/lib/python3.7/site-packages/statsmodels/base/model.py:568: ConvergenceWarning: Maximum Likelihood optimization failed to converge. Check mle_retvals\n",
      "  \"Check mle_retvals\", ConvergenceWarning)\n"
     ]
    },
    {
     "name": "stdout",
     "output_type": "stream",
     "text": [
      ">Predicted=193970.861, Expected=192600.000\n",
      ">Predicted=191755.507, Expected=191500.000\n"
     ]
    },
    {
     "name": "stderr",
     "output_type": "stream",
     "text": [
      "/opt/anaconda3/lib/python3.7/site-packages/statsmodels/base/model.py:568: ConvergenceWarning: Maximum Likelihood optimization failed to converge. Check mle_retvals\n",
      "  \"Check mle_retvals\", ConvergenceWarning)\n"
     ]
    },
    {
     "name": "stdout",
     "output_type": "stream",
     "text": [
      ">Predicted=190372.630, Expected=191900.000\n"
     ]
    },
    {
     "name": "stderr",
     "output_type": "stream",
     "text": [
      "/opt/anaconda3/lib/python3.7/site-packages/statsmodels/base/model.py:568: ConvergenceWarning: Maximum Likelihood optimization failed to converge. Check mle_retvals\n",
      "  \"Check mle_retvals\", ConvergenceWarning)\n"
     ]
    },
    {
     "name": "stdout",
     "output_type": "stream",
     "text": [
      ">Predicted=192436.393, Expected=193900.000\n",
      ">Predicted=196005.098, Expected=196600.000\n"
     ]
    },
    {
     "name": "stderr",
     "output_type": "stream",
     "text": [
      "/opt/anaconda3/lib/python3.7/site-packages/statsmodels/base/model.py:568: ConvergenceWarning: Maximum Likelihood optimization failed to converge. Check mle_retvals\n",
      "  \"Check mle_retvals\", ConvergenceWarning)\n"
     ]
    },
    {
     "name": "stdout",
     "output_type": "stream",
     "text": [
      ">Predicted=199293.835, Expected=198800.000\n",
      ">Predicted=200842.506, Expected=200100.000\n"
     ]
    },
    {
     "name": "stderr",
     "output_type": "stream",
     "text": [
      "/opt/anaconda3/lib/python3.7/site-packages/statsmodels/base/model.py:568: ConvergenceWarning: Maximum Likelihood optimization failed to converge. Check mle_retvals\n",
      "  \"Check mle_retvals\", ConvergenceWarning)\n"
     ]
    },
    {
     "name": "stdout",
     "output_type": "stream",
     "text": [
      ">Predicted=201268.566, Expected=201800.000\n",
      ">Predicted=203499.162, Expected=204100.000\n"
     ]
    },
    {
     "name": "stderr",
     "output_type": "stream",
     "text": [
      "/opt/anaconda3/lib/python3.7/site-packages/statsmodels/base/model.py:568: ConvergenceWarning: Maximum Likelihood optimization failed to converge. Check mle_retvals\n",
      "  \"Check mle_retvals\", ConvergenceWarning)\n"
     ]
    },
    {
     "name": "stdout",
     "output_type": "stream",
     "text": [
      ">Predicted=206480.816, Expected=207100.000\n"
     ]
    },
    {
     "name": "stderr",
     "output_type": "stream",
     "text": [
      "/opt/anaconda3/lib/python3.7/site-packages/statsmodels/base/model.py:568: ConvergenceWarning: Maximum Likelihood optimization failed to converge. Check mle_retvals\n",
      "  \"Check mle_retvals\", ConvergenceWarning)\n"
     ]
    },
    {
     "name": "stdout",
     "output_type": "stream",
     "text": [
      ">Predicted=210134.141, Expected=210100.000\n"
     ]
    },
    {
     "name": "stderr",
     "output_type": "stream",
     "text": [
      "/opt/anaconda3/lib/python3.7/site-packages/statsmodels/base/model.py:568: ConvergenceWarning: Maximum Likelihood optimization failed to converge. Check mle_retvals\n",
      "  \"Check mle_retvals\", ConvergenceWarning)\n"
     ]
    },
    {
     "name": "stdout",
     "output_type": "stream",
     "text": [
      ">Predicted=213037.084, Expected=213100.000\n"
     ]
    },
    {
     "name": "stderr",
     "output_type": "stream",
     "text": [
      "/opt/anaconda3/lib/python3.7/site-packages/statsmodels/base/model.py:568: ConvergenceWarning: Maximum Likelihood optimization failed to converge. Check mle_retvals\n",
      "  \"Check mle_retvals\", ConvergenceWarning)\n"
     ]
    },
    {
     "name": "stdout",
     "output_type": "stream",
     "text": [
      ">Predicted=216001.218, Expected=215900.000\n"
     ]
    },
    {
     "name": "stderr",
     "output_type": "stream",
     "text": [
      "/opt/anaconda3/lib/python3.7/site-packages/statsmodels/base/model.py:568: ConvergenceWarning: Maximum Likelihood optimization failed to converge. Check mle_retvals\n",
      "  \"Check mle_retvals\", ConvergenceWarning)\n"
     ]
    },
    {
     "name": "stdout",
     "output_type": "stream",
     "text": [
      ">Predicted=218648.203, Expected=218000.000\n"
     ]
    },
    {
     "name": "stderr",
     "output_type": "stream",
     "text": [
      "/opt/anaconda3/lib/python3.7/site-packages/statsmodels/base/model.py:568: ConvergenceWarning: Maximum Likelihood optimization failed to converge. Check mle_retvals\n",
      "  \"Check mle_retvals\", ConvergenceWarning)\n"
     ]
    },
    {
     "name": "stdout",
     "output_type": "stream",
     "text": [
      ">Predicted=220019.553, Expected=218600.000\n",
      ">Predicted=219083.573, Expected=217900.000\n"
     ]
    },
    {
     "name": "stderr",
     "output_type": "stream",
     "text": [
      "/opt/anaconda3/lib/python3.7/site-packages/statsmodels/base/model.py:568: ConvergenceWarning: Maximum Likelihood optimization failed to converge. Check mle_retvals\n",
      "  \"Check mle_retvals\", ConvergenceWarning)\n"
     ]
    },
    {
     "name": "stdout",
     "output_type": "stream",
     "text": [
      ">Predicted=217169.003, Expected=217600.000\n"
     ]
    },
    {
     "name": "stderr",
     "output_type": "stream",
     "text": [
      "/opt/anaconda3/lib/python3.7/site-packages/statsmodels/base/model.py:568: ConvergenceWarning: Maximum Likelihood optimization failed to converge. Check mle_retvals\n",
      "  \"Check mle_retvals\", ConvergenceWarning)\n"
     ]
    },
    {
     "name": "stdout",
     "output_type": "stream",
     "text": [
      ">Predicted=217440.743, Expected=218400.000\n"
     ]
    },
    {
     "name": "stderr",
     "output_type": "stream",
     "text": [
      "/opt/anaconda3/lib/python3.7/site-packages/statsmodels/base/model.py:568: ConvergenceWarning: Maximum Likelihood optimization failed to converge. Check mle_retvals\n",
      "  \"Check mle_retvals\", ConvergenceWarning)\n"
     ]
    },
    {
     "name": "stdout",
     "output_type": "stream",
     "text": [
      ">Predicted=219391.045, Expected=219600.000\n",
      ">Predicted=220856.784, Expected=220700.000\n"
     ]
    },
    {
     "name": "stderr",
     "output_type": "stream",
     "text": [
      "/opt/anaconda3/lib/python3.7/site-packages/statsmodels/base/model.py:568: ConvergenceWarning: Maximum Likelihood optimization failed to converge. Check mle_retvals\n",
      "  \"Check mle_retvals\", ConvergenceWarning)\n"
     ]
    },
    {
     "name": "stdout",
     "output_type": "stream",
     "text": [
      ">Predicted=221774.117, Expected=221800.000\n",
      ">Predicted=222892.956, Expected=221400.000\n",
      ">Predicted=220898.451, Expected=219700.000\n"
     ]
    },
    {
     "name": "stderr",
     "output_type": "stream",
     "text": [
      "/opt/anaconda3/lib/python3.7/site-packages/statsmodels/base/model.py:568: ConvergenceWarning: Maximum Likelihood optimization failed to converge. Check mle_retvals\n",
      "  \"Check mle_retvals\", ConvergenceWarning)\n"
     ]
    },
    {
     "name": "stdout",
     "output_type": "stream",
     "text": [
      ">Predicted=217965.226, Expected=218700.000\n"
     ]
    },
    {
     "name": "stderr",
     "output_type": "stream",
     "text": [
      "/opt/anaconda3/lib/python3.7/site-packages/statsmodels/base/model.py:568: ConvergenceWarning: Maximum Likelihood optimization failed to converge. Check mle_retvals\n",
      "  \"Check mle_retvals\", ConvergenceWarning)\n"
     ]
    },
    {
     "name": "stdout",
     "output_type": "stream",
     "text": [
      ">Predicted=217848.763, Expected=218900.000\n"
     ]
    },
    {
     "name": "stderr",
     "output_type": "stream",
     "text": [
      "/opt/anaconda3/lib/python3.7/site-packages/statsmodels/base/model.py:568: ConvergenceWarning: Maximum Likelihood optimization failed to converge. Check mle_retvals\n",
      "  \"Check mle_retvals\", ConvergenceWarning)\n"
     ]
    },
    {
     "name": "stdout",
     "output_type": "stream",
     "text": [
      ">Predicted=219278.465, Expected=219800.000\n",
      ">Predicted=220744.075, Expected=221200.000\n",
      ">Predicted=222555.548, Expected=223700.000\n"
     ]
    },
    {
     "name": "stderr",
     "output_type": "stream",
     "text": [
      "/opt/anaconda3/lib/python3.7/site-packages/statsmodels/base/model.py:568: ConvergenceWarning: Maximum Likelihood optimization failed to converge. Check mle_retvals\n",
      "  \"Check mle_retvals\", ConvergenceWarning)\n"
     ]
    },
    {
     "name": "stdout",
     "output_type": "stream",
     "text": [
      ">Predicted=226176.962, Expected=226300.000\n",
      ">Predicted=228795.102, Expected=228400.000\n",
      ">Predicted=230355.614, Expected=230800.000\n",
      ">Predicted=233176.340, Expected=233000.000\n",
      "[234.22478308610152, 173.44302128448297, 277.6713655477864, 398.5723462103945, 383.14659544223963, 468.24060566885765, 540.4238809866127, 513.9340332015935, 544.3398802731879, 531.1510411131028, 593.017127041921, 572.6403085389317, 580.6493791899851, 565.4988731186338, 663.7544314517478, 705.8482999933752, 695.0264775164496, 682.8601899975039, 665.4449718661076, 679.2775025134326, 665.3303785206726, 661.0796367474177, 646.7559193615806, 638.5334539568687, 638.266227657047, 651.442949062004, 650.2354702092463, 656.0170080328476, 693.0515112562247, 682.9976841707008, 725.7350722361144, 759.719896391887, 755.2540632448552, 748.8689624976467, 748.6879250081174, 743.5107779984219, 740.0165168914351, 737.0905332942144, 727.599827736688, 718.516132519578, 709.8756745346552, 708.4696764243974, 732.8847335050709, 746.15690832646, 740.6118240659968, 746.046668788782, 738.6963977938445, 731.3113570110712, 723.8199739173285, 747.0042841273258, 758.4433755678126, 757.9951745740871, 764.5697615312504, 760.775007866088, 756.3298046146562, 764.9892978173797, 758.4242830381161, 753.6454758325548, 749.4676731893464, 743.5444560624446]\n"
     ]
    },
    {
     "name": "stderr",
     "output_type": "stream",
     "text": [
      "/opt/anaconda3/lib/python3.7/site-packages/statsmodels/base/model.py:568: ConvergenceWarning: Maximum Likelihood optimization failed to converge. Check mle_retvals\n",
      "  \"Check mle_retvals\", ConvergenceWarning)\n"
     ]
    }
   ],
   "source": [
    "\n",
    "series = zip_df['46240']\n",
    "# prepare data\n",
    "X = series.values\n",
    "X = X.astype('float32')\n",
    "\n",
    "# set trainset to include all but last 60 months (5 years)\n",
    "train_size = int(len(X) - 60)\n",
    "train, test = X[0:train_size], X[train_size:]\n",
    "# walk-forward validation\n",
    "history = [x for x in train]\n",
    "predictions = list()\n",
    "for i in range(len(test)):\n",
    "    # predict\n",
    "    model = ARIMA(history, order=(6,2,1))\n",
    "    model_fit = model.fit()\n",
    "    yhat = model_fit.forecast()[0]\n",
    "    predictions.append(yhat)\n",
    "    # observation\n",
    "    obs = test[i]\n",
    "    history.append(obs)\n",
    "    print('>Predicted=%.3f, Expected=%.3f' % (yhat, obs))\n",
    "# report performance\n",
    "rmse = RMSE(test, predictions)\n",
    "print(rmse)\n"
   ]
  },
  {
   "cell_type": "code",
   "execution_count": 71,
   "metadata": {},
   "outputs": [
    {
     "data": {
      "image/png": "[encoded data removed]",
      "text/plain": [
       "<Figure size 1080x720 with 2 Axes>"
      ]
     },
     "metadata": {
      "needs_background": "light"
     },
     "output_type": "display_data"
    }
   ],
   "source": [
    "series = zip_df['22101']\n",
    "plt.figure(figsize=(15,10))\n",
    "plt.subplot(211)\n",
    "plot_acf(series, lags=120, ax=plt.gca())\n",
    "plt.subplot(212)\n",
    "plot_pacf(series, lags=120, ax=plt.gca())\n",
    "plt.show()"
   ]
  },
  {
   "cell_type": "code",
   "execution_count": 130,
   "metadata": {},
   "outputs": [
    {
     "name": "stdout",
     "output_type": "stream",
     "text": [
      ">Predicted=897882.457, Expected=898900.000\n",
      ">Predicted=906378.716, Expected=904600.000\n",
      ">Predicted=910276.187, Expected=909400.000\n",
      ">Predicted=914190.467, Expected=913700.000\n",
      ">Predicted=917988.439, Expected=916700.000\n",
      ">Predicted=919691.137, Expected=919000.000\n",
      ">Predicted=921305.488, Expected=920400.000\n",
      ">Predicted=921802.689, Expected=921600.000\n",
      ">Predicted=922812.495, Expected=923500.000\n",
      ">Predicted=925432.291, Expected=925300.000\n",
      ">Predicted=927127.596, Expected=923300.000\n",
      ">Predicted=921298.101, Expected=919800.000\n",
      ">Predicted=916301.440, Expected=916100.000\n",
      ">Predicted=912408.148, Expected=913600.000\n",
      ">Predicted=911123.187, Expected=912000.000\n",
      ">Predicted=910434.687, Expected=910900.000\n",
      ">Predicted=909831.404, Expected=909600.000\n",
      ">Predicted=908323.639, Expected=909800.000\n",
      ">Predicted=910026.290, Expected=909400.000\n",
      ">Predicted=908998.856, Expected=906400.000\n",
      ">Predicted=903369.915, Expected=907200.000\n",
      ">Predicted=908003.093, Expected=914700.000\n",
      ">Predicted=922231.276, Expected=920600.000\n",
      ">Predicted=926487.545, Expected=919700.000\n",
      ">Predicted=918752.041, Expected=918700.000\n",
      ">Predicted=917683.268, Expected=921500.000\n",
      ">Predicted=924296.047, Expected=926500.000\n",
      ">Predicted=931482.423, Expected=932400.000\n",
      ">Predicted=938282.852, Expected=938400.000\n",
      ">Predicted=944388.775, Expected=941600.000\n",
      ">Predicted=944786.730, Expected=942500.000\n",
      ">Predicted=943400.359, Expected=943700.000\n",
      ">Predicted=944897.339, Expected=946100.000\n",
      ">Predicted=948498.048, Expected=947600.000\n",
      ">Predicted=949092.337, Expected=948300.000\n",
      ">Predicted=949009.081, Expected=952300.000\n",
      ">Predicted=956334.337, Expected=960200.000\n",
      ">Predicted=968127.835, Expected=967100.000\n",
      ">Predicted=973984.015, Expected=969300.000\n",
      ">Predicted=971460.044, Expected=969500.000\n",
      ">Predicted=969684.996, Expected=969100.000\n",
      ">Predicted=968701.217, Expected=966400.000\n",
      ">Predicted=963696.661, Expected=965200.000\n",
      ">Predicted=964032.883, Expected=967100.000\n",
      ">Predicted=969047.682, Expected=971000.000\n",
      ">Predicted=974934.316, Expected=973900.000\n",
      ">Predicted=976807.820, Expected=974400.000\n",
      ">Predicted=974882.695, Expected=976800.000\n",
      ">Predicted=979196.529, Expected=985000.000\n",
      ">Predicted=993202.840, Expected=995200.000\n",
      ">Predicted=1005361.683, Expected=1006000.000\n",
      ">Predicted=1016747.485, Expected=1014800.000\n",
      ">Predicted=1023539.380, Expected=1021700.000\n",
      ">Predicted=1028550.707, Expected=1030800.000\n",
      ">Predicted=1039889.478, Expected=1041100.000\n",
      ">Predicted=1051374.902, Expected=1050500.000\n",
      ">Predicted=1059856.722, Expected=1057900.000\n",
      ">Predicted=1065273.268, Expected=1069800.000\n",
      ">Predicted=1081723.366, Expected=1091700.000\n",
      ">Predicted=1113626.740, Expected=1108400.000\n",
      "[1017.5428342557279, 1449.0038133026655, 1286.717664758157, 1140.9957056769606, 1171.9693777170237, 1106.4380473306796, 1080.0224491870438, 1012.8068781637886, 981.9982893937357, 932.5441907329017, 1456.8607636347474, 1460.3419194422734, 1404.1630482680052, 1390.073763659818, 1361.887692867427, 1323.7632875581087, 1285.4647996622723, 1296.8075889168279, 1270.371216013443, 1367.7915037568325, 1574.9017313637762, 2099.081951972636, 2080.9305067321116, 2463.627182972118, 2413.874245394522, 2482.532539613489, 2472.774501918071, 2434.4001728631674, 2392.158462815504, 2406.4323910283015, 2402.664125365688, 2365.417685813705, 2338.6918055844467, 2309.184401307063, 2279.8941492843114, 2313.9507539215, 2369.2888976425547, 2343.844397921113, 2432.1408211665453, 2421.4604230633804, 2393.4924128049847, 2391.336757253062, 2374.460387402291, 2392.43066679151, 2383.5334314371153, 2362.4104862209365, 2363.385725818008, 2354.9543859077044, 2473.8599031959225, 2465.2294310439934, 2442.5768136045676, 2434.005693147089, 2424.136771637614, 2421.0136786340017, 2404.450240994821, 2385.751625190927, 2378.891709462128, 2432.0470632200436, 2738.905826847585, 2798.551749342372]\n",
      "CPU times: user 52.7 s, sys: 849 ms, total: 53.6 s\n",
      "Wall time: 19.5 s\n"
     ]
    }
   ],
   "source": [
    "%%time\n",
    "\n",
    "series = zip_df['22101']\n",
    "# prepare data\n",
    "X = series.values\n",
    "X = X.astype('float32')\n",
    "\n",
    "\n",
    "# set trainset to include all but last 60 months (5 years)\n",
    "train_size = int(len(X) - 60)\n",
    "train, test = X[0:train_size], X[train_size:]\n",
    "# walk-forward validation\n",
    "history = [x for x in train]\n",
    "predictions = list()\n",
    "for i in range(len(test)):\n",
    "    # predict\n",
    "    model = ARIMA(history, order=(9,2,2))\n",
    "    model_fit = model.fit()\n",
    "    yhat = model_fit.forecast()[0]\n",
    "    predictions.append(yhat)\n",
    "    # observation\n",
    "    obs = test[i]\n",
    "    history.append(obs)\n",
    "    print('>Predicted=%.3f, Expected=%.3f' % (yhat, obs))\n",
    "# report performance\n",
    "rmse = RMSE(test, predictions)\n",
    "print(rmse)\n"
   ]
  },
  {
   "cell_type": "code",
   "execution_count": 70,
   "metadata": {},
   "outputs": [
    {
     "data": {
      "text/plain": [
       "0.9866396181384248"
      ]
     },
     "execution_count": 70,
     "metadata": {},
     "output_type": "execute_result"
    }
   ],
   "source": [
    "1 - (2799 / (test[-1] - test[0]))"
   ]
  },
  {
   "cell_type": "code",
   "execution_count": 48,
   "metadata": {},
   "outputs": [
    {
     "data": {
      "text/plain": [
       "time\n",
       "2013-05-01    180200.0\n",
       "2013-06-01    180400.0\n",
       "2013-07-01    181000.0\n",
       "2013-08-01    182200.0\n",
       "2013-09-01    183700.0\n",
       "2013-10-01    184400.0\n",
       "2013-11-01    184100.0\n",
       "2013-12-01    183400.0\n",
       "2014-01-01    183400.0\n",
       "2014-02-01    183900.0\n",
       "2014-03-01    185500.0\n",
       "2014-04-01    187500.0\n",
       "2014-05-01    190200.0\n",
       "2014-06-01    192600.0\n",
       "2014-07-01    193400.0\n",
       "2014-08-01    192800.0\n",
       "2014-09-01    192500.0\n",
       "2014-10-01    192700.0\n",
       "2014-11-01    192900.0\n",
       "2014-12-01    192300.0\n",
       "2015-01-01    191400.0\n",
       "2015-02-01    191100.0\n",
       "2015-03-01    190800.0\n",
       "2015-04-01    190100.0\n",
       "2015-05-01    190000.0\n",
       "2015-06-01    190900.0\n",
       "2015-07-01    192500.0\n",
       "2015-08-01    193300.0\n",
       "2015-09-01    192600.0\n",
       "2015-10-01    191500.0\n",
       "2015-11-01    191900.0\n",
       "2015-12-01    193900.0\n",
       "2016-01-01    196600.0\n",
       "2016-02-01    198800.0\n",
       "2016-03-01    200100.0\n",
       "2016-04-01    201800.0\n",
       "2016-05-01    204100.0\n",
       "2016-06-01    207100.0\n",
       "2016-07-01    210100.0\n",
       "2016-08-01    213100.0\n",
       "2016-09-01    215900.0\n",
       "2016-10-01    218000.0\n",
       "2016-11-01    218600.0\n",
       "2016-12-01    217900.0\n",
       "2017-01-01    217600.0\n",
       "2017-02-01    218400.0\n",
       "2017-03-01    219600.0\n",
       "2017-04-01    220700.0\n",
       "2017-05-01    221800.0\n",
       "2017-06-01    221400.0\n",
       "2017-07-01    219700.0\n",
       "2017-08-01    218700.0\n",
       "2017-09-01    218900.0\n",
       "2017-10-01    219800.0\n",
       "2017-11-01    221200.0\n",
       "2017-12-01    223700.0\n",
       "2018-01-01    226300.0\n",
       "2018-02-01    228400.0\n",
       "2018-03-01    230800.0\n",
       "2018-04-01    233000.0\n",
       "Name: 46240, dtype: float64"
      ]
     },
     "execution_count": 48,
     "metadata": {},
     "output_type": "execute_result"
    }
   ],
   "source": [
    "zip_df['46240'][-60:]"
   ]
  },
  {
   "cell_type": "code",
   "execution_count": 44,
   "metadata": {},
   "outputs": [
    {
     "data": {
      "text/plain": [
       "151"
      ]
     },
     "execution_count": 44,
     "metadata": {},
     "output_type": "execute_result"
    }
   ],
   "source": [
    "zip_df.index == zip_df.index[-60]].isna()"
   ]
  },
  {
   "cell_type": "code",
   "execution_count": 73,
   "metadata": {},
   "outputs": [
    {
     "data": {
      "text/html": [
       "<div>\n",
       "<style scoped>\n",
       "    .dataframe tbody tr th:only-of-type {\n",
       "        vertical-align: middle;\n",
       "    }\n",
       "\n",
       "    .dataframe tbody tr th {\n",
       "        vertical-align: top;\n",
       "    }\n",
       "\n",
       "    .dataframe thead th {\n",
       "        text-align: right;\n",
       "    }\n",
       "</style>\n",
       "<table border=\"1\" class=\"dataframe\">\n",
       "  <thead>\n",
       "    <tr style=\"text-align: right;\">\n",
       "      <th></th>\n",
       "      <th>1001</th>\n",
       "      <th>1002</th>\n",
       "      <th>1005</th>\n",
       "      <th>1007</th>\n",
       "      <th>1008</th>\n",
       "      <th>1010</th>\n",
       "      <th>1011</th>\n",
       "      <th>1013</th>\n",
       "      <th>1020</th>\n",
       "      <th>1026</th>\n",
       "      <th>...</th>\n",
       "      <th>99654</th>\n",
       "      <th>99664</th>\n",
       "      <th>99669</th>\n",
       "      <th>99701</th>\n",
       "      <th>99705</th>\n",
       "      <th>99709</th>\n",
       "      <th>99712</th>\n",
       "      <th>99801</th>\n",
       "      <th>99835</th>\n",
       "      <th>99901</th>\n",
       "    </tr>\n",
       "    <tr>\n",
       "      <th>time</th>\n",
       "      <th></th>\n",
       "      <th></th>\n",
       "      <th></th>\n",
       "      <th></th>\n",
       "      <th></th>\n",
       "      <th></th>\n",
       "      <th></th>\n",
       "      <th></th>\n",
       "      <th></th>\n",
       "      <th></th>\n",
       "      <th></th>\n",
       "      <th></th>\n",
       "      <th></th>\n",
       "      <th></th>\n",
       "      <th></th>\n",
       "      <th></th>\n",
       "      <th></th>\n",
       "      <th></th>\n",
       "      <th></th>\n",
       "      <th></th>\n",
       "      <th></th>\n",
       "    </tr>\n",
       "  </thead>\n",
       "  <tbody>\n",
       "    <tr>\n",
       "      <th>1996-04-01</th>\n",
       "      <td>113100.0</td>\n",
       "      <td>161000.0</td>\n",
       "      <td>103100.0</td>\n",
       "      <td>133400.0</td>\n",
       "      <td>117500.0</td>\n",
       "      <td>115800.0</td>\n",
       "      <td>87000.0</td>\n",
       "      <td>88500.0</td>\n",
       "      <td>97200.0</td>\n",
       "      <td>91200.0</td>\n",
       "      <td>...</td>\n",
       "      <td>122700.0</td>\n",
       "      <td>112200.0</td>\n",
       "      <td>112500.0</td>\n",
       "      <td>89400.0</td>\n",
       "      <td>101900.0</td>\n",
       "      <td>103000.0</td>\n",
       "      <td>109200.0</td>\n",
       "      <td>166800.0</td>\n",
       "      <td>155500.0</td>\n",
       "      <td>117100.0</td>\n",
       "    </tr>\n",
       "    <tr>\n",
       "      <th>1996-05-01</th>\n",
       "      <td>112800.0</td>\n",
       "      <td>160100.0</td>\n",
       "      <td>103400.0</td>\n",
       "      <td>132700.0</td>\n",
       "      <td>117300.0</td>\n",
       "      <td>115700.0</td>\n",
       "      <td>87000.0</td>\n",
       "      <td>88500.0</td>\n",
       "      <td>97100.0</td>\n",
       "      <td>91100.0</td>\n",
       "      <td>...</td>\n",
       "      <td>124200.0</td>\n",
       "      <td>112400.0</td>\n",
       "      <td>113100.0</td>\n",
       "      <td>89800.0</td>\n",
       "      <td>102900.0</td>\n",
       "      <td>103900.0</td>\n",
       "      <td>109600.0</td>\n",
       "      <td>166200.0</td>\n",
       "      <td>154900.0</td>\n",
       "      <td>117200.0</td>\n",
       "    </tr>\n",
       "    <tr>\n",
       "      <th>1996-06-01</th>\n",
       "      <td>112600.0</td>\n",
       "      <td>159300.0</td>\n",
       "      <td>103600.0</td>\n",
       "      <td>132000.0</td>\n",
       "      <td>117100.0</td>\n",
       "      <td>115500.0</td>\n",
       "      <td>87100.0</td>\n",
       "      <td>88400.0</td>\n",
       "      <td>97000.0</td>\n",
       "      <td>91000.0</td>\n",
       "      <td>...</td>\n",
       "      <td>125700.0</td>\n",
       "      <td>112600.0</td>\n",
       "      <td>113800.0</td>\n",
       "      <td>90200.0</td>\n",
       "      <td>103800.0</td>\n",
       "      <td>104700.0</td>\n",
       "      <td>110000.0</td>\n",
       "      <td>165400.0</td>\n",
       "      <td>154200.0</td>\n",
       "      <td>117300.0</td>\n",
       "    </tr>\n",
       "    <tr>\n",
       "      <th>1996-07-01</th>\n",
       "      <td>112300.0</td>\n",
       "      <td>158600.0</td>\n",
       "      <td>103800.0</td>\n",
       "      <td>131400.0</td>\n",
       "      <td>117000.0</td>\n",
       "      <td>115300.0</td>\n",
       "      <td>87200.0</td>\n",
       "      <td>88300.0</td>\n",
       "      <td>96800.0</td>\n",
       "      <td>90800.0</td>\n",
       "      <td>...</td>\n",
       "      <td>127200.0</td>\n",
       "      <td>112800.0</td>\n",
       "      <td>114400.0</td>\n",
       "      <td>90600.0</td>\n",
       "      <td>104700.0</td>\n",
       "      <td>105500.0</td>\n",
       "      <td>110400.0</td>\n",
       "      <td>164400.0</td>\n",
       "      <td>153500.0</td>\n",
       "      <td>117400.0</td>\n",
       "    </tr>\n",
       "    <tr>\n",
       "      <th>1996-08-01</th>\n",
       "      <td>112100.0</td>\n",
       "      <td>158000.0</td>\n",
       "      <td>103900.0</td>\n",
       "      <td>130800.0</td>\n",
       "      <td>116800.0</td>\n",
       "      <td>115100.0</td>\n",
       "      <td>87400.0</td>\n",
       "      <td>88200.0</td>\n",
       "      <td>96600.0</td>\n",
       "      <td>90700.0</td>\n",
       "      <td>...</td>\n",
       "      <td>128600.0</td>\n",
       "      <td>113000.0</td>\n",
       "      <td>115100.0</td>\n",
       "      <td>91000.0</td>\n",
       "      <td>105400.0</td>\n",
       "      <td>106200.0</td>\n",
       "      <td>110800.0</td>\n",
       "      <td>163500.0</td>\n",
       "      <td>152800.0</td>\n",
       "      <td>117500.0</td>\n",
       "    </tr>\n",
       "    <tr>\n",
       "      <th>...</th>\n",
       "      <td>...</td>\n",
       "      <td>...</td>\n",
       "      <td>...</td>\n",
       "      <td>...</td>\n",
       "      <td>...</td>\n",
       "      <td>...</td>\n",
       "      <td>...</td>\n",
       "      <td>...</td>\n",
       "      <td>...</td>\n",
       "      <td>...</td>\n",
       "      <td>...</td>\n",
       "      <td>...</td>\n",
       "      <td>...</td>\n",
       "      <td>...</td>\n",
       "      <td>...</td>\n",
       "      <td>...</td>\n",
       "      <td>...</td>\n",
       "      <td>...</td>\n",
       "      <td>...</td>\n",
       "      <td>...</td>\n",
       "      <td>...</td>\n",
       "    </tr>\n",
       "    <tr>\n",
       "      <th>2017-12-01</th>\n",
       "      <td>221700.0</td>\n",
       "      <td>342000.0</td>\n",
       "      <td>213300.0</td>\n",
       "      <td>268100.0</td>\n",
       "      <td>205400.0</td>\n",
       "      <td>243800.0</td>\n",
       "      <td>151400.0</td>\n",
       "      <td>173300.0</td>\n",
       "      <td>187400.0</td>\n",
       "      <td>201200.0</td>\n",
       "      <td>...</td>\n",
       "      <td>258800.0</td>\n",
       "      <td>219100.0</td>\n",
       "      <td>250200.0</td>\n",
       "      <td>206700.0</td>\n",
       "      <td>261100.0</td>\n",
       "      <td>262800.0</td>\n",
       "      <td>273500.0</td>\n",
       "      <td>402300.0</td>\n",
       "      <td>396200.0</td>\n",
       "      <td>291900.0</td>\n",
       "    </tr>\n",
       "    <tr>\n",
       "      <th>2018-01-01</th>\n",
       "      <td>221700.0</td>\n",
       "      <td>344500.0</td>\n",
       "      <td>215600.0</td>\n",
       "      <td>268100.0</td>\n",
       "      <td>204500.0</td>\n",
       "      <td>244600.0</td>\n",
       "      <td>150100.0</td>\n",
       "      <td>174600.0</td>\n",
       "      <td>188100.0</td>\n",
       "      <td>204600.0</td>\n",
       "      <td>...</td>\n",
       "      <td>259400.0</td>\n",
       "      <td>218900.0</td>\n",
       "      <td>250600.0</td>\n",
       "      <td>206100.0</td>\n",
       "      <td>261300.0</td>\n",
       "      <td>262800.0</td>\n",
       "      <td>273800.0</td>\n",
       "      <td>406200.0</td>\n",
       "      <td>397500.0</td>\n",
       "      <td>294200.0</td>\n",
       "    </tr>\n",
       "    <tr>\n",
       "      <th>2018-02-01</th>\n",
       "      <td>221700.0</td>\n",
       "      <td>347400.0</td>\n",
       "      <td>217900.0</td>\n",
       "      <td>268800.0</td>\n",
       "      <td>206800.0</td>\n",
       "      <td>246700.0</td>\n",
       "      <td>150100.0</td>\n",
       "      <td>175900.0</td>\n",
       "      <td>189000.0</td>\n",
       "      <td>211200.0</td>\n",
       "      <td>...</td>\n",
       "      <td>259900.0</td>\n",
       "      <td>218300.0</td>\n",
       "      <td>250100.0</td>\n",
       "      <td>205600.0</td>\n",
       "      <td>261400.0</td>\n",
       "      <td>262300.0</td>\n",
       "      <td>273800.0</td>\n",
       "      <td>409800.0</td>\n",
       "      <td>398900.0</td>\n",
       "      <td>297500.0</td>\n",
       "    </tr>\n",
       "    <tr>\n",
       "      <th>2018-03-01</th>\n",
       "      <td>222700.0</td>\n",
       "      <td>350600.0</td>\n",
       "      <td>219500.0</td>\n",
       "      <td>270000.0</td>\n",
       "      <td>210900.0</td>\n",
       "      <td>248800.0</td>\n",
       "      <td>149500.0</td>\n",
       "      <td>176900.0</td>\n",
       "      <td>189600.0</td>\n",
       "      <td>217900.0</td>\n",
       "      <td>...</td>\n",
       "      <td>260200.0</td>\n",
       "      <td>218400.0</td>\n",
       "      <td>249300.0</td>\n",
       "      <td>205500.0</td>\n",
       "      <td>261700.0</td>\n",
       "      <td>262000.0</td>\n",
       "      <td>273900.0</td>\n",
       "      <td>412600.0</td>\n",
       "      <td>402100.0</td>\n",
       "      <td>302100.0</td>\n",
       "    </tr>\n",
       "    <tr>\n",
       "      <th>2018-04-01</th>\n",
       "      <td>223600.0</td>\n",
       "      <td>353300.0</td>\n",
       "      <td>220700.0</td>\n",
       "      <td>270600.0</td>\n",
       "      <td>214200.0</td>\n",
       "      <td>250900.0</td>\n",
       "      <td>149100.0</td>\n",
       "      <td>177400.0</td>\n",
       "      <td>189800.0</td>\n",
       "      <td>220800.0</td>\n",
       "      <td>...</td>\n",
       "      <td>260500.0</td>\n",
       "      <td>219100.0</td>\n",
       "      <td>249300.0</td>\n",
       "      <td>205700.0</td>\n",
       "      <td>262000.0</td>\n",
       "      <td>262400.0</td>\n",
       "      <td>274600.0</td>\n",
       "      <td>413300.0</td>\n",
       "      <td>404800.0</td>\n",
       "      <td>305100.0</td>\n",
       "    </tr>\n",
       "  </tbody>\n",
       "</table>\n",
       "<p>265 rows × 14723 columns</p>\n",
       "</div>"
      ],
      "text/plain": [
       "                1001      1002      1005      1007      1008      1010  \\\n",
       "time                                                                     \n",
       "1996-04-01  113100.0  161000.0  103100.0  133400.0  117500.0  115800.0   \n",
       "1996-05-01  112800.0  160100.0  103400.0  132700.0  117300.0  115700.0   \n",
       "1996-06-01  112600.0  159300.0  103600.0  132000.0  117100.0  115500.0   \n",
       "1996-07-01  112300.0  158600.0  103800.0  131400.0  117000.0  115300.0   \n",
       "1996-08-01  112100.0  158000.0  103900.0  130800.0  116800.0  115100.0   \n",
       "...              ...       ...       ...       ...       ...       ...   \n",
       "2017-12-01  221700.0  342000.0  213300.0  268100.0  205400.0  243800.0   \n",
       "2018-01-01  221700.0  344500.0  215600.0  268100.0  204500.0  244600.0   \n",
       "2018-02-01  221700.0  347400.0  217900.0  268800.0  206800.0  246700.0   \n",
       "2018-03-01  222700.0  350600.0  219500.0  270000.0  210900.0  248800.0   \n",
       "2018-04-01  223600.0  353300.0  220700.0  270600.0  214200.0  250900.0   \n",
       "\n",
       "                1011      1013      1020      1026  ...     99654     99664  \\\n",
       "time                                                ...                       \n",
       "1996-04-01   87000.0   88500.0   97200.0   91200.0  ...  122700.0  112200.0   \n",
       "1996-05-01   87000.0   88500.0   97100.0   91100.0  ...  124200.0  112400.0   \n",
       "1996-06-01   87100.0   88400.0   97000.0   91000.0  ...  125700.0  112600.0   \n",
       "1996-07-01   87200.0   88300.0   96800.0   90800.0  ...  127200.0  112800.0   \n",
       "1996-08-01   87400.0   88200.0   96600.0   90700.0  ...  128600.0  113000.0   \n",
       "...              ...       ...       ...       ...  ...       ...       ...   \n",
       "2017-12-01  151400.0  173300.0  187400.0  201200.0  ...  258800.0  219100.0   \n",
       "2018-01-01  150100.0  174600.0  188100.0  204600.0  ...  259400.0  218900.0   \n",
       "2018-02-01  150100.0  175900.0  189000.0  211200.0  ...  259900.0  218300.0   \n",
       "2018-03-01  149500.0  176900.0  189600.0  217900.0  ...  260200.0  218400.0   \n",
       "2018-04-01  149100.0  177400.0  189800.0  220800.0  ...  260500.0  219100.0   \n",
       "\n",
       "               99669     99701     99705     99709     99712     99801  \\\n",
       "time                                                                     \n",
       "1996-04-01  112500.0   89400.0  101900.0  103000.0  109200.0  166800.0   \n",
       "1996-05-01  113100.0   89800.0  102900.0  103900.0  109600.0  166200.0   \n",
       "1996-06-01  113800.0   90200.0  103800.0  104700.0  110000.0  165400.0   \n",
       "1996-07-01  114400.0   90600.0  104700.0  105500.0  110400.0  164400.0   \n",
       "1996-08-01  115100.0   91000.0  105400.0  106200.0  110800.0  163500.0   \n",
       "...              ...       ...       ...       ...       ...       ...   \n",
       "2017-12-01  250200.0  206700.0  261100.0  262800.0  273500.0  402300.0   \n",
       "2018-01-01  250600.0  206100.0  261300.0  262800.0  273800.0  406200.0   \n",
       "2018-02-01  250100.0  205600.0  261400.0  262300.0  273800.0  409800.0   \n",
       "2018-03-01  249300.0  205500.0  261700.0  262000.0  273900.0  412600.0   \n",
       "2018-04-01  249300.0  205700.0  262000.0  262400.0  274600.0  413300.0   \n",
       "\n",
       "               99835     99901  \n",
       "time                            \n",
       "1996-04-01  155500.0  117100.0  \n",
       "1996-05-01  154900.0  117200.0  \n",
       "1996-06-01  154200.0  117300.0  \n",
       "1996-07-01  153500.0  117400.0  \n",
       "1996-08-01  152800.0  117500.0  \n",
       "...              ...       ...  \n",
       "2017-12-01  396200.0  291900.0  \n",
       "2018-01-01  397500.0  294200.0  \n",
       "2018-02-01  398900.0  297500.0  \n",
       "2018-03-01  402100.0  302100.0  \n",
       "2018-04-01  404800.0  305100.0  \n",
       "\n",
       "[265 rows x 14723 columns]"
      ]
     },
     "execution_count": 73,
     "metadata": {},
     "output_type": "execute_result"
    }
   ],
   "source": [
    "zip_df"
   ]
  },
  {
   "cell_type": "code",
   "execution_count": 89,
   "metadata": {},
   "outputs": [
    {
     "ename": "SyntaxError",
     "evalue": "invalid syntax (<ipython-input-89-1bf59af87cb3>, line 1)",
     "output_type": "error",
     "traceback": [
      "\u001b[0;36m  File \u001b[0;32m\"<ipython-input-89-1bf59af87cb3>\"\u001b[0;36m, line \u001b[0;32m1\u001b[0m\n\u001b[0;31m    zip_df[zip_df.iloc[-60].isna(), axis=1]\u001b[0m\n\u001b[0m                                        ^\u001b[0m\n\u001b[0;31mSyntaxError\u001b[0m\u001b[0;31m:\u001b[0m invalid syntax\n"
     ]
    }
   ],
   "source": [
    "zip_df[zip_df.iloc[-60].isna(), axis=1]"
   ]
  },
  {
   "cell_type": "code",
   "execution_count": 117,
   "metadata": {},
   "outputs": [
    {
     "data": {
      "text/plain": [
       "0.20995670995670995"
      ]
     },
     "execution_count": 117,
     "metadata": {},
     "output_type": "execute_result"
    }
   ],
   "source": [
    "def five_year_roi(series):\n",
    "    \"\"\"Return five year roi for zipcode dataframe, returning zero if na denominator values\n",
    "    \n",
    "    Params: series\n",
    "    Returns: (float) ROI for preceding five years\"\"\"\n",
    "    import numpy as np\n",
    "    \n",
    "    start_val = series[-60]\n",
    "    end_val = series[-1]\n",
    "    \n",
    "    # Return zero if na value five years ago\n",
    "    if np.isnan(start_val):\n",
    "        return 0\n",
    "    # Otherwise return ROI for those five years\n",
    "    else:\n",
    "        total_return = end_val - start_val\n",
    "        roi = total_return / start_val\n",
    "        return roi\n",
    "    \n",
    "five_year_roi(zip_df['1001'])    "
   ]
  },
  {
   "cell_type": "code",
   "execution_count": null,
   "metadata": {},
   "outputs": [],
   "source": []
  },
  {
   "cell_type": "code",
   "execution_count": 115,
   "metadata": {},
   "outputs": [
    {
     "data": {
      "text/plain": [
       "0.2099567099567099"
      ]
     },
     "execution_count": 115,
     "metadata": {},
     "output_type": "execute_result"
    }
   ],
   "source": [
    "zip_df['1001'][-1] / zip_df['1001'][-60] - 1"
   ]
  },
  {
   "cell_type": "code",
   "execution_count": 116,
   "metadata": {},
   "outputs": [
    {
     "data": {
      "text/plain": [
       "0.20995670995670995"
      ]
     },
     "execution_count": 116,
     "metadata": {},
     "output_type": "execute_result"
    }
   ],
   "source": [
    "38800 / zip_df['1001'][-60]"
   ]
  },
  {
   "cell_type": "code",
   "execution_count": 119,
   "metadata": {},
   "outputs": [],
   "source": [
    "five_year_rois = {column: five_year_roi(zip_df[column]) for column in zip_df.columns}"
   ]
  },
  {
   "cell_type": "code",
   "execution_count": 123,
   "metadata": {},
   "outputs": [],
   "source": [
    "five_year_rois = {zipcode: roi for zipcode, roi in sorted(five_year_rois.items(), key=lambda item: item[1], reverse=True)}"
   ]
  },
  {
   "cell_type": "code",
   "execution_count": 134,
   "metadata": {},
   "outputs": [
    {
     "data": {
      "text/plain": [
       "['80216',\n",
       " '94601',\n",
       " '48240',\n",
       " '94590',\n",
       " '33705',\n",
       " '37210',\n",
       " '15201',\n",
       " '33460',\n",
       " '33030',\n",
       " '37207',\n",
       " '11216',\n",
       " '33461',\n",
       " '33415',\n",
       " '32807',\n",
       " '34234',\n",
       " '34207',\n",
       " '34982',\n",
       " '33055',\n",
       " '33801',\n",
       " '30316',\n",
       " '33135',\n",
       " '33830',\n",
       " '32180',\n",
       " '33435',\n",
       " '33033',\n",
       " '48237',\n",
       " '33056',\n",
       " '80204',\n",
       " '32839',\n",
       " '94805',\n",
       " '33614',\n",
       " '85035',\n",
       " '11963',\n",
       " '94606',\n",
       " '94804',\n",
       " '33713',\n",
       " '33161',\n",
       " '32905',\n",
       " '30034',\n",
       " '34205',\n",
       " '33404',\n",
       " '33125',\n",
       " '33032',\n",
       " '32204',\n",
       " '48198',\n",
       " '33563',\n",
       " '80010',\n",
       " '93505',\n",
       " '33162',\n",
       " '32744',\n",
       " '94589',\n",
       " '33406',\n",
       " '48239',\n",
       " '33068',\n",
       " '32205',\n",
       " '80219',\n",
       " '30238',\n",
       " '33982',\n",
       " '33805',\n",
       " '49507',\n",
       " '89104',\n",
       " '33409']"
      ]
     },
     "execution_count": 134,
     "metadata": {},
     "output_type": "execute_result"
    }
   ],
   "source": [
    "# Sample test of ARIMA model took about 20 seconds to run, if we allow 20 minutes for modeling, then we want 60 zipcodes to test\n",
    "test_zips = list(five_year_rois.keys())[0: 62]\n",
    "test_zips"
   ]
  },
  {
   "cell_type": "code",
   "execution_count": 138,
   "metadata": {},
   "outputs": [
    {
     "name": "stderr",
     "output_type": "stream",
     "text": [
      "/opt/anaconda3/lib/python3.7/site-packages/ipykernel_launcher.py:2: SettingWithCopyWarning: \n",
      "A value is trying to be set on a copy of a slice from a DataFrame\n",
      "\n",
      "See the caveats in the documentation: https://pandas.pydata.org/pandas-docs/stable/user_guide/indexing.html#returning-a-view-versus-a-copy\n",
      "  \n"
     ]
    }
   ],
   "source": [
    "zipcodes = zip_df[test_zips]\n",
    "zipcodes.dropna(axis=1, inplace=True)"
   ]
  },
  {
   "cell_type": "code",
   "execution_count": 139,
   "metadata": {},
   "outputs": [
    {
     "data": {
      "text/html": [
       "<div>\n",
       "<style scoped>\n",
       "    .dataframe tbody tr th:only-of-type {\n",
       "        vertical-align: middle;\n",
       "    }\n",
       "\n",
       "    .dataframe tbody tr th {\n",
       "        vertical-align: top;\n",
       "    }\n",
       "\n",
       "    .dataframe thead th {\n",
       "        text-align: right;\n",
       "    }\n",
       "</style>\n",
       "<table border=\"1\" class=\"dataframe\">\n",
       "  <thead>\n",
       "    <tr style=\"text-align: right;\">\n",
       "      <th></th>\n",
       "      <th>94601</th>\n",
       "      <th>48240</th>\n",
       "      <th>94590</th>\n",
       "      <th>33705</th>\n",
       "      <th>37210</th>\n",
       "      <th>15201</th>\n",
       "      <th>33460</th>\n",
       "      <th>33030</th>\n",
       "      <th>37207</th>\n",
       "      <th>11216</th>\n",
       "      <th>...</th>\n",
       "      <th>48239</th>\n",
       "      <th>33068</th>\n",
       "      <th>32205</th>\n",
       "      <th>80219</th>\n",
       "      <th>30238</th>\n",
       "      <th>33982</th>\n",
       "      <th>33805</th>\n",
       "      <th>49507</th>\n",
       "      <th>89104</th>\n",
       "      <th>33409</th>\n",
       "    </tr>\n",
       "    <tr>\n",
       "      <th>time</th>\n",
       "      <th></th>\n",
       "      <th></th>\n",
       "      <th></th>\n",
       "      <th></th>\n",
       "      <th></th>\n",
       "      <th></th>\n",
       "      <th></th>\n",
       "      <th></th>\n",
       "      <th></th>\n",
       "      <th></th>\n",
       "      <th></th>\n",
       "      <th></th>\n",
       "      <th></th>\n",
       "      <th></th>\n",
       "      <th></th>\n",
       "      <th></th>\n",
       "      <th></th>\n",
       "      <th></th>\n",
       "      <th></th>\n",
       "      <th></th>\n",
       "      <th></th>\n",
       "    </tr>\n",
       "  </thead>\n",
       "  <tbody>\n",
       "    <tr>\n",
       "      <th>1996-04-01</th>\n",
       "      <td>114600.0</td>\n",
       "      <td>67800.0</td>\n",
       "      <td>108200.0</td>\n",
       "      <td>54600.0</td>\n",
       "      <td>60800.0</td>\n",
       "      <td>34400.0</td>\n",
       "      <td>59800.0</td>\n",
       "      <td>76700.0</td>\n",
       "      <td>63600.0</td>\n",
       "      <td>146100.0</td>\n",
       "      <td>...</td>\n",
       "      <td>80100.0</td>\n",
       "      <td>82000.0</td>\n",
       "      <td>54700.0</td>\n",
       "      <td>83700.0</td>\n",
       "      <td>85300.0</td>\n",
       "      <td>64100.0</td>\n",
       "      <td>41900.0</td>\n",
       "      <td>49700.0</td>\n",
       "      <td>94800.0</td>\n",
       "      <td>77300.0</td>\n",
       "    </tr>\n",
       "    <tr>\n",
       "      <th>1996-05-01</th>\n",
       "      <td>114500.0</td>\n",
       "      <td>68200.0</td>\n",
       "      <td>107800.0</td>\n",
       "      <td>54800.0</td>\n",
       "      <td>61000.0</td>\n",
       "      <td>34600.0</td>\n",
       "      <td>59900.0</td>\n",
       "      <td>76600.0</td>\n",
       "      <td>63600.0</td>\n",
       "      <td>146600.0</td>\n",
       "      <td>...</td>\n",
       "      <td>80700.0</td>\n",
       "      <td>81900.0</td>\n",
       "      <td>54600.0</td>\n",
       "      <td>84000.0</td>\n",
       "      <td>85300.0</td>\n",
       "      <td>63700.0</td>\n",
       "      <td>41900.0</td>\n",
       "      <td>51000.0</td>\n",
       "      <td>94700.0</td>\n",
       "      <td>77200.0</td>\n",
       "    </tr>\n",
       "    <tr>\n",
       "      <th>1996-06-01</th>\n",
       "      <td>114500.0</td>\n",
       "      <td>68500.0</td>\n",
       "      <td>107500.0</td>\n",
       "      <td>55000.0</td>\n",
       "      <td>61200.0</td>\n",
       "      <td>34700.0</td>\n",
       "      <td>60000.0</td>\n",
       "      <td>76500.0</td>\n",
       "      <td>63600.0</td>\n",
       "      <td>147200.0</td>\n",
       "      <td>...</td>\n",
       "      <td>81300.0</td>\n",
       "      <td>81800.0</td>\n",
       "      <td>54400.0</td>\n",
       "      <td>84300.0</td>\n",
       "      <td>85300.0</td>\n",
       "      <td>63300.0</td>\n",
       "      <td>42000.0</td>\n",
       "      <td>52300.0</td>\n",
       "      <td>94700.0</td>\n",
       "      <td>77200.0</td>\n",
       "    </tr>\n",
       "    <tr>\n",
       "      <th>1996-07-01</th>\n",
       "      <td>114400.0</td>\n",
       "      <td>68800.0</td>\n",
       "      <td>107300.0</td>\n",
       "      <td>55200.0</td>\n",
       "      <td>61300.0</td>\n",
       "      <td>34700.0</td>\n",
       "      <td>60200.0</td>\n",
       "      <td>76400.0</td>\n",
       "      <td>63700.0</td>\n",
       "      <td>147700.0</td>\n",
       "      <td>...</td>\n",
       "      <td>81900.0</td>\n",
       "      <td>81700.0</td>\n",
       "      <td>54300.0</td>\n",
       "      <td>84700.0</td>\n",
       "      <td>85300.0</td>\n",
       "      <td>62900.0</td>\n",
       "      <td>42100.0</td>\n",
       "      <td>53500.0</td>\n",
       "      <td>94700.0</td>\n",
       "      <td>77100.0</td>\n",
       "    </tr>\n",
       "    <tr>\n",
       "      <th>1996-08-01</th>\n",
       "      <td>114400.0</td>\n",
       "      <td>69200.0</td>\n",
       "      <td>107100.0</td>\n",
       "      <td>55400.0</td>\n",
       "      <td>61500.0</td>\n",
       "      <td>34800.0</td>\n",
       "      <td>60400.0</td>\n",
       "      <td>76300.0</td>\n",
       "      <td>64000.0</td>\n",
       "      <td>148400.0</td>\n",
       "      <td>...</td>\n",
       "      <td>82500.0</td>\n",
       "      <td>81600.0</td>\n",
       "      <td>54200.0</td>\n",
       "      <td>85100.0</td>\n",
       "      <td>85200.0</td>\n",
       "      <td>62500.0</td>\n",
       "      <td>42200.0</td>\n",
       "      <td>54600.0</td>\n",
       "      <td>94800.0</td>\n",
       "      <td>77100.0</td>\n",
       "    </tr>\n",
       "    <tr>\n",
       "      <th>...</th>\n",
       "      <td>...</td>\n",
       "      <td>...</td>\n",
       "      <td>...</td>\n",
       "      <td>...</td>\n",
       "      <td>...</td>\n",
       "      <td>...</td>\n",
       "      <td>...</td>\n",
       "      <td>...</td>\n",
       "      <td>...</td>\n",
       "      <td>...</td>\n",
       "      <td>...</td>\n",
       "      <td>...</td>\n",
       "      <td>...</td>\n",
       "      <td>...</td>\n",
       "      <td>...</td>\n",
       "      <td>...</td>\n",
       "      <td>...</td>\n",
       "      <td>...</td>\n",
       "      <td>...</td>\n",
       "      <td>...</td>\n",
       "      <td>...</td>\n",
       "    </tr>\n",
       "    <tr>\n",
       "      <th>2017-12-01</th>\n",
       "      <td>535800.0</td>\n",
       "      <td>71000.0</td>\n",
       "      <td>357100.0</td>\n",
       "      <td>167100.0</td>\n",
       "      <td>217200.0</td>\n",
       "      <td>170400.0</td>\n",
       "      <td>206000.0</td>\n",
       "      <td>209200.0</td>\n",
       "      <td>189500.0</td>\n",
       "      <td>1545700.0</td>\n",
       "      <td>...</td>\n",
       "      <td>90800.0</td>\n",
       "      <td>209200.0</td>\n",
       "      <td>141100.0</td>\n",
       "      <td>298100.0</td>\n",
       "      <td>95400.0</td>\n",
       "      <td>187800.0</td>\n",
       "      <td>97000.0</td>\n",
       "      <td>106600.0</td>\n",
       "      <td>196300.0</td>\n",
       "      <td>190000.0</td>\n",
       "    </tr>\n",
       "    <tr>\n",
       "      <th>2018-01-01</th>\n",
       "      <td>546900.0</td>\n",
       "      <td>72300.0</td>\n",
       "      <td>362500.0</td>\n",
       "      <td>168200.0</td>\n",
       "      <td>219300.0</td>\n",
       "      <td>171400.0</td>\n",
       "      <td>209600.0</td>\n",
       "      <td>211100.0</td>\n",
       "      <td>191400.0</td>\n",
       "      <td>1540200.0</td>\n",
       "      <td>...</td>\n",
       "      <td>91900.0</td>\n",
       "      <td>211000.0</td>\n",
       "      <td>144100.0</td>\n",
       "      <td>302600.0</td>\n",
       "      <td>97200.0</td>\n",
       "      <td>192500.0</td>\n",
       "      <td>99000.0</td>\n",
       "      <td>107800.0</td>\n",
       "      <td>199500.0</td>\n",
       "      <td>192500.0</td>\n",
       "    </tr>\n",
       "    <tr>\n",
       "      <th>2018-02-01</th>\n",
       "      <td>555000.0</td>\n",
       "      <td>73500.0</td>\n",
       "      <td>366900.0</td>\n",
       "      <td>171100.0</td>\n",
       "      <td>221500.0</td>\n",
       "      <td>173900.0</td>\n",
       "      <td>211600.0</td>\n",
       "      <td>212700.0</td>\n",
       "      <td>193900.0</td>\n",
       "      <td>1553600.0</td>\n",
       "      <td>...</td>\n",
       "      <td>93600.0</td>\n",
       "      <td>213700.0</td>\n",
       "      <td>146100.0</td>\n",
       "      <td>306900.0</td>\n",
       "      <td>99100.0</td>\n",
       "      <td>196400.0</td>\n",
       "      <td>100400.0</td>\n",
       "      <td>108900.0</td>\n",
       "      <td>202500.0</td>\n",
       "      <td>193700.0</td>\n",
       "    </tr>\n",
       "    <tr>\n",
       "      <th>2018-03-01</th>\n",
       "      <td>562000.0</td>\n",
       "      <td>75300.0</td>\n",
       "      <td>371600.0</td>\n",
       "      <td>175100.0</td>\n",
       "      <td>224300.0</td>\n",
       "      <td>179700.0</td>\n",
       "      <td>213300.0</td>\n",
       "      <td>214300.0</td>\n",
       "      <td>197600.0</td>\n",
       "      <td>1578400.0</td>\n",
       "      <td>...</td>\n",
       "      <td>95900.0</td>\n",
       "      <td>217300.0</td>\n",
       "      <td>147200.0</td>\n",
       "      <td>311900.0</td>\n",
       "      <td>101100.0</td>\n",
       "      <td>199000.0</td>\n",
       "      <td>101600.0</td>\n",
       "      <td>110200.0</td>\n",
       "      <td>206000.0</td>\n",
       "      <td>195800.0</td>\n",
       "    </tr>\n",
       "    <tr>\n",
       "      <th>2018-04-01</th>\n",
       "      <td>566700.0</td>\n",
       "      <td>76800.0</td>\n",
       "      <td>376100.0</td>\n",
       "      <td>177300.0</td>\n",
       "      <td>226500.0</td>\n",
       "      <td>185200.0</td>\n",
       "      <td>215600.0</td>\n",
       "      <td>215600.0</td>\n",
       "      <td>200800.0</td>\n",
       "      <td>1598700.0</td>\n",
       "      <td>...</td>\n",
       "      <td>97600.0</td>\n",
       "      <td>220100.0</td>\n",
       "      <td>147700.0</td>\n",
       "      <td>315700.0</td>\n",
       "      <td>102900.0</td>\n",
       "      <td>200200.0</td>\n",
       "      <td>102500.0</td>\n",
       "      <td>111200.0</td>\n",
       "      <td>208500.0</td>\n",
       "      <td>198600.0</td>\n",
       "    </tr>\n",
       "  </tbody>\n",
       "</table>\n",
       "<p>265 rows × 60 columns</p>\n",
       "</div>"
      ],
      "text/plain": [
       "               94601    48240     94590     33705     37210     15201  \\\n",
       "time                                                                    \n",
       "1996-04-01  114600.0  67800.0  108200.0   54600.0   60800.0   34400.0   \n",
       "1996-05-01  114500.0  68200.0  107800.0   54800.0   61000.0   34600.0   \n",
       "1996-06-01  114500.0  68500.0  107500.0   55000.0   61200.0   34700.0   \n",
       "1996-07-01  114400.0  68800.0  107300.0   55200.0   61300.0   34700.0   \n",
       "1996-08-01  114400.0  69200.0  107100.0   55400.0   61500.0   34800.0   \n",
       "...              ...      ...       ...       ...       ...       ...   \n",
       "2017-12-01  535800.0  71000.0  357100.0  167100.0  217200.0  170400.0   \n",
       "2018-01-01  546900.0  72300.0  362500.0  168200.0  219300.0  171400.0   \n",
       "2018-02-01  555000.0  73500.0  366900.0  171100.0  221500.0  173900.0   \n",
       "2018-03-01  562000.0  75300.0  371600.0  175100.0  224300.0  179700.0   \n",
       "2018-04-01  566700.0  76800.0  376100.0  177300.0  226500.0  185200.0   \n",
       "\n",
       "               33460     33030     37207      11216  ...    48239     33068  \\\n",
       "time                                                 ...                      \n",
       "1996-04-01   59800.0   76700.0   63600.0   146100.0  ...  80100.0   82000.0   \n",
       "1996-05-01   59900.0   76600.0   63600.0   146600.0  ...  80700.0   81900.0   \n",
       "1996-06-01   60000.0   76500.0   63600.0   147200.0  ...  81300.0   81800.0   \n",
       "1996-07-01   60200.0   76400.0   63700.0   147700.0  ...  81900.0   81700.0   \n",
       "1996-08-01   60400.0   76300.0   64000.0   148400.0  ...  82500.0   81600.0   \n",
       "...              ...       ...       ...        ...  ...      ...       ...   \n",
       "2017-12-01  206000.0  209200.0  189500.0  1545700.0  ...  90800.0  209200.0   \n",
       "2018-01-01  209600.0  211100.0  191400.0  1540200.0  ...  91900.0  211000.0   \n",
       "2018-02-01  211600.0  212700.0  193900.0  1553600.0  ...  93600.0  213700.0   \n",
       "2018-03-01  213300.0  214300.0  197600.0  1578400.0  ...  95900.0  217300.0   \n",
       "2018-04-01  215600.0  215600.0  200800.0  1598700.0  ...  97600.0  220100.0   \n",
       "\n",
       "               32205     80219     30238     33982     33805     49507  \\\n",
       "time                                                                     \n",
       "1996-04-01   54700.0   83700.0   85300.0   64100.0   41900.0   49700.0   \n",
       "1996-05-01   54600.0   84000.0   85300.0   63700.0   41900.0   51000.0   \n",
       "1996-06-01   54400.0   84300.0   85300.0   63300.0   42000.0   52300.0   \n",
       "1996-07-01   54300.0   84700.0   85300.0   62900.0   42100.0   53500.0   \n",
       "1996-08-01   54200.0   85100.0   85200.0   62500.0   42200.0   54600.0   \n",
       "...              ...       ...       ...       ...       ...       ...   \n",
       "2017-12-01  141100.0  298100.0   95400.0  187800.0   97000.0  106600.0   \n",
       "2018-01-01  144100.0  302600.0   97200.0  192500.0   99000.0  107800.0   \n",
       "2018-02-01  146100.0  306900.0   99100.0  196400.0  100400.0  108900.0   \n",
       "2018-03-01  147200.0  311900.0  101100.0  199000.0  101600.0  110200.0   \n",
       "2018-04-01  147700.0  315700.0  102900.0  200200.0  102500.0  111200.0   \n",
       "\n",
       "               89104     33409  \n",
       "time                            \n",
       "1996-04-01   94800.0   77300.0  \n",
       "1996-05-01   94700.0   77200.0  \n",
       "1996-06-01   94700.0   77200.0  \n",
       "1996-07-01   94700.0   77100.0  \n",
       "1996-08-01   94800.0   77100.0  \n",
       "...              ...       ...  \n",
       "2017-12-01  196300.0  190000.0  \n",
       "2018-01-01  199500.0  192500.0  \n",
       "2018-02-01  202500.0  193700.0  \n",
       "2018-03-01  206000.0  195800.0  \n",
       "2018-04-01  208500.0  198600.0  \n",
       "\n",
       "[265 rows x 60 columns]"
      ]
     },
     "execution_count": 139,
     "metadata": {},
     "output_type": "execute_result"
    }
   ],
   "source": [
    "zipcodes"
   ]
  },
  {
   "cell_type": "code",
   "execution_count": 147,
   "metadata": {},
   "outputs": [
    {
     "name": "stdout",
     "output_type": "stream",
     "text": [
      "ADF Statistic: -2.047906\n",
      "p-value: 0.265971\n",
      "Critical Values:\n",
      "\t1%: -3.457\n",
      "\t5%: -2.873\n",
      "\t10%: -2.573\n",
      "ADF Statistic: -2.062114\n",
      "p-value: 0.260019\n",
      "Critical Values:\n",
      "\t1%: -3.457\n",
      "\t5%: -2.873\n",
      "\t10%: -2.573\n",
      "ADF Statistic: -4.522312\n",
      "p-value: 0.000179\n",
      "Critical Values:\n",
      "\t1%: -3.457\n",
      "\t5%: -2.873\n",
      "\t10%: -2.573\n"
     ]
    }
   ],
   "source": [
    "test_stationarity(zipcodes['94601'])\n",
    "test_stationarity(zipcodes['94601'].diff()[1:])\n",
    "test_stationarity(zipcodes['94601'].diff()[1:].diff()[1:])"
   ]
  },
  {
   "cell_type": "code",
   "execution_count": 140,
   "metadata": {},
   "outputs": [
    {
     "data": {
      "image/png": "[encoded data removed]",
      "text/plain": [
       "<Figure size 1080x720 with 2 Axes>"
      ]
     },
     "metadata": {
      "needs_background": "light"
     },
     "output_type": "display_data"
    }
   ],
   "source": [
    "series = zipcodes['94601']\n",
    "plt.figure(figsize=(15,10))\n",
    "plt.subplot(211)\n",
    "plot_acf(series, lags=60, ax=plt.gca())\n",
    "plt.subplot(212)\n",
    "plot_pacf(series, lags=60, ax=plt.gca())\n",
    "plt.show()"
   ]
  },
  {
   "cell_type": "code",
   "execution_count": 151,
   "metadata": {},
   "outputs": [
    {
     "data": {
      "text/plain": [
       "<matplotlib.axes._subplots.AxesSubplot at 0x1a273d9890>"
      ]
     },
     "execution_count": 151,
     "metadata": {},
     "output_type": "execute_result"
    },
    {
     "data": {
      "image/png": "[encoded data removed]",
      "text/plain": [
       "<Figure size 432x288 with 1 Axes>"
      ]
     },
     "metadata": {
      "needs_background": "light"
     },
     "output_type": "display_data"
    }
   ],
   "source": [
    "zipcodes['94590'].rolling(60).min().plot()\n",
    "zipcodes['94590'].rolling(60).max().plot()\n",
    "zipcodes['94590'].plot()"
   ]
  },
  {
   "cell_type": "code",
   "execution_count": 148,
   "metadata": {},
   "outputs": [
    {
     "name": "stderr",
     "output_type": "stream",
     "text": [
      "/opt/anaconda3/lib/python3.7/site-packages/statsmodels/base/model.py:568: ConvergenceWarning: Maximum Likelihood optimization failed to converge. Check mle_retvals\n",
      "  \"Check mle_retvals\", ConvergenceWarning)\n"
     ]
    },
    {
     "name": "stdout",
     "output_type": "stream",
     "text": [
      ">Predicted=219965.768, Expected=221400.000\n"
     ]
    },
    {
     "name": "stderr",
     "output_type": "stream",
     "text": [
      "/opt/anaconda3/lib/python3.7/site-packages/statsmodels/base/model.py:568: ConvergenceWarning: Maximum Likelihood optimization failed to converge. Check mle_retvals\n",
      "  \"Check mle_retvals\", ConvergenceWarning)\n"
     ]
    },
    {
     "name": "stdout",
     "output_type": "stream",
     "text": [
      ">Predicted=231632.526, Expected=233100.000\n"
     ]
    },
    {
     "name": "stderr",
     "output_type": "stream",
     "text": [
      "/opt/anaconda3/lib/python3.7/site-packages/statsmodels/base/model.py:568: ConvergenceWarning: Maximum Likelihood optimization failed to converge. Check mle_retvals\n",
      "  \"Check mle_retvals\", ConvergenceWarning)\n"
     ]
    },
    {
     "name": "stdout",
     "output_type": "stream",
     "text": [
      ">Predicted=245220.672, Expected=244000.000\n"
     ]
    },
    {
     "name": "stderr",
     "output_type": "stream",
     "text": [
      "/opt/anaconda3/lib/python3.7/site-packages/statsmodels/base/model.py:568: ConvergenceWarning: Maximum Likelihood optimization failed to converge. Check mle_retvals\n",
      "  \"Check mle_retvals\", ConvergenceWarning)\n"
     ]
    },
    {
     "name": "stdout",
     "output_type": "stream",
     "text": [
      ">Predicted=254866.445, Expected=251600.000\n"
     ]
    },
    {
     "name": "stderr",
     "output_type": "stream",
     "text": [
      "/opt/anaconda3/lib/python3.7/site-packages/statsmodels/base/model.py:568: ConvergenceWarning: Maximum Likelihood optimization failed to converge. Check mle_retvals\n",
      "  \"Check mle_retvals\", ConvergenceWarning)\n"
     ]
    },
    {
     "name": "stdout",
     "output_type": "stream",
     "text": [
      ">Predicted=258656.536, Expected=257500.000\n"
     ]
    },
    {
     "name": "stderr",
     "output_type": "stream",
     "text": [
      "/opt/anaconda3/lib/python3.7/site-packages/statsmodels/base/model.py:568: ConvergenceWarning: Maximum Likelihood optimization failed to converge. Check mle_retvals\n",
      "  \"Check mle_retvals\", ConvergenceWarning)\n"
     ]
    },
    {
     "name": "stdout",
     "output_type": "stream",
     "text": [
      ">Predicted=263136.990, Expected=263200.000\n"
     ]
    },
    {
     "name": "stderr",
     "output_type": "stream",
     "text": [
      "/opt/anaconda3/lib/python3.7/site-packages/statsmodels/base/model.py:568: ConvergenceWarning: Maximum Likelihood optimization failed to converge. Check mle_retvals\n",
      "  \"Check mle_retvals\", ConvergenceWarning)\n"
     ]
    },
    {
     "name": "stdout",
     "output_type": "stream",
     "text": [
      ">Predicted=269194.781, Expected=267500.000\n"
     ]
    },
    {
     "name": "stderr",
     "output_type": "stream",
     "text": [
      "/opt/anaconda3/lib/python3.7/site-packages/statsmodels/base/model.py:568: ConvergenceWarning: Maximum Likelihood optimization failed to converge. Check mle_retvals\n",
      "  \"Check mle_retvals\", ConvergenceWarning)\n"
     ]
    },
    {
     "name": "stdout",
     "output_type": "stream",
     "text": [
      ">Predicted=272100.280, Expected=271100.000\n"
     ]
    },
    {
     "name": "stderr",
     "output_type": "stream",
     "text": [
      "/opt/anaconda3/lib/python3.7/site-packages/statsmodels/base/model.py:568: ConvergenceWarning: Maximum Likelihood optimization failed to converge. Check mle_retvals\n",
      "  \"Check mle_retvals\", ConvergenceWarning)\n"
     ]
    },
    {
     "name": "stdout",
     "output_type": "stream",
     "text": [
      ">Predicted=274789.319, Expected=275400.000\n"
     ]
    },
    {
     "name": "stderr",
     "output_type": "stream",
     "text": [
      "/opt/anaconda3/lib/python3.7/site-packages/statsmodels/base/model.py:568: ConvergenceWarning: Maximum Likelihood optimization failed to converge. Check mle_retvals\n",
      "  \"Check mle_retvals\", ConvergenceWarning)\n"
     ]
    },
    {
     "name": "stdout",
     "output_type": "stream",
     "text": [
      ">Predicted=279726.781, Expected=280800.000\n"
     ]
    },
    {
     "name": "stderr",
     "output_type": "stream",
     "text": [
      "/opt/anaconda3/lib/python3.7/site-packages/statsmodels/base/model.py:568: ConvergenceWarning: Maximum Likelihood optimization failed to converge. Check mle_retvals\n",
      "  \"Check mle_retvals\", ConvergenceWarning)\n"
     ]
    },
    {
     "name": "stdout",
     "output_type": "stream",
     "text": [
      ">Predicted=286316.686, Expected=287200.000\n"
     ]
    },
    {
     "name": "stderr",
     "output_type": "stream",
     "text": [
      "/opt/anaconda3/lib/python3.7/site-packages/statsmodels/base/model.py:568: ConvergenceWarning: Maximum Likelihood optimization failed to converge. Check mle_retvals\n",
      "  \"Check mle_retvals\", ConvergenceWarning)\n"
     ]
    },
    {
     "name": "stdout",
     "output_type": "stream",
     "text": [
      ">Predicted=293765.247, Expected=292000.000\n"
     ]
    },
    {
     "name": "stderr",
     "output_type": "stream",
     "text": [
      "/opt/anaconda3/lib/python3.7/site-packages/statsmodels/base/model.py:568: ConvergenceWarning: Maximum Likelihood optimization failed to converge. Check mle_retvals\n",
      "  \"Check mle_retvals\", ConvergenceWarning)\n"
     ]
    },
    {
     "name": "stdout",
     "output_type": "stream",
     "text": [
      ">Predicted=296347.036, Expected=294200.000\n"
     ]
    },
    {
     "name": "stderr",
     "output_type": "stream",
     "text": [
      "/opt/anaconda3/lib/python3.7/site-packages/statsmodels/base/model.py:568: ConvergenceWarning: Maximum Likelihood optimization failed to converge. Check mle_retvals\n",
      "  \"Check mle_retvals\", ConvergenceWarning)\n"
     ]
    },
    {
     "name": "stdout",
     "output_type": "stream",
     "text": [
      ">Predicted=295694.930, Expected=293900.000\n"
     ]
    },
    {
     "name": "stderr",
     "output_type": "stream",
     "text": [
      "/opt/anaconda3/lib/python3.7/site-packages/statsmodels/base/model.py:568: ConvergenceWarning: Maximum Likelihood optimization failed to converge. Check mle_retvals\n",
      "  \"Check mle_retvals\", ConvergenceWarning)\n"
     ]
    },
    {
     "name": "stdout",
     "output_type": "stream",
     "text": [
      ">Predicted=293332.067, Expected=294100.000\n"
     ]
    },
    {
     "name": "stderr",
     "output_type": "stream",
     "text": [
      "/opt/anaconda3/lib/python3.7/site-packages/statsmodels/base/model.py:568: ConvergenceWarning: Maximum Likelihood optimization failed to converge. Check mle_retvals\n",
      "  \"Check mle_retvals\", ConvergenceWarning)\n"
     ]
    },
    {
     "name": "stdout",
     "output_type": "stream",
     "text": [
      ">Predicted=294190.595, Expected=297300.000\n"
     ]
    },
    {
     "name": "stderr",
     "output_type": "stream",
     "text": [
      "/opt/anaconda3/lib/python3.7/site-packages/statsmodels/base/model.py:568: ConvergenceWarning: Maximum Likelihood optimization failed to converge. Check mle_retvals\n",
      "  \"Check mle_retvals\", ConvergenceWarning)\n"
     ]
    },
    {
     "name": "stdout",
     "output_type": "stream",
     "text": [
      ">Predicted=300578.653, Expected=302200.000\n"
     ]
    },
    {
     "name": "stderr",
     "output_type": "stream",
     "text": [
      "/opt/anaconda3/lib/python3.7/site-packages/statsmodels/base/model.py:568: ConvergenceWarning: Maximum Likelihood optimization failed to converge. Check mle_retvals\n",
      "  \"Check mle_retvals\", ConvergenceWarning)\n"
     ]
    },
    {
     "name": "stdout",
     "output_type": "stream",
     "text": [
      ">Predicted=307298.983, Expected=307700.000\n"
     ]
    },
    {
     "name": "stderr",
     "output_type": "stream",
     "text": [
      "/opt/anaconda3/lib/python3.7/site-packages/statsmodels/base/model.py:568: ConvergenceWarning: Maximum Likelihood optimization failed to converge. Check mle_retvals\n",
      "  \"Check mle_retvals\", ConvergenceWarning)\n"
     ]
    },
    {
     "name": "stdout",
     "output_type": "stream",
     "text": [
      ">Predicted=313326.379, Expected=313600.000\n",
      ">Predicted=319597.506, Expected=318800.000\n",
      ">Predicted=323804.273, Expected=323100.000\n"
     ]
    },
    {
     "name": "stderr",
     "output_type": "stream",
     "text": [
      "/opt/anaconda3/lib/python3.7/site-packages/statsmodels/base/model.py:568: ConvergenceWarning: Maximum Likelihood optimization failed to converge. Check mle_retvals\n",
      "  \"Check mle_retvals\", ConvergenceWarning)\n"
     ]
    },
    {
     "name": "stdout",
     "output_type": "stream",
     "text": [
      ">Predicted=327112.067, Expected=327300.000\n"
     ]
    },
    {
     "name": "stderr",
     "output_type": "stream",
     "text": [
      "/opt/anaconda3/lib/python3.7/site-packages/statsmodels/base/model.py:568: ConvergenceWarning: Maximum Likelihood optimization failed to converge. Check mle_retvals\n",
      "  \"Check mle_retvals\", ConvergenceWarning)\n"
     ]
    },
    {
     "name": "stdout",
     "output_type": "stream",
     "text": [
      ">Predicted=331364.188, Expected=332200.000\n"
     ]
    },
    {
     "name": "stderr",
     "output_type": "stream",
     "text": [
      "/opt/anaconda3/lib/python3.7/site-packages/statsmodels/base/model.py:568: ConvergenceWarning: Maximum Likelihood optimization failed to converge. Check mle_retvals\n",
      "  \"Check mle_retvals\", ConvergenceWarning)\n"
     ]
    },
    {
     "name": "stdout",
     "output_type": "stream",
     "text": [
      ">Predicted=337272.554, Expected=339500.000\n"
     ]
    },
    {
     "name": "stderr",
     "output_type": "stream",
     "text": [
      "/opt/anaconda3/lib/python3.7/site-packages/statsmodels/base/model.py:568: ConvergenceWarning: Maximum Likelihood optimization failed to converge. Check mle_retvals\n",
      "  \"Check mle_retvals\", ConvergenceWarning)\n"
     ]
    },
    {
     "name": "stdout",
     "output_type": "stream",
     "text": [
      ">Predicted=347203.914, Expected=349500.000\n"
     ]
    },
    {
     "name": "stderr",
     "output_type": "stream",
     "text": [
      "/opt/anaconda3/lib/python3.7/site-packages/statsmodels/base/model.py:568: ConvergenceWarning: Maximum Likelihood optimization failed to converge. Check mle_retvals\n",
      "  \"Check mle_retvals\", ConvergenceWarning)\n"
     ]
    },
    {
     "name": "stdout",
     "output_type": "stream",
     "text": [
      ">Predicted=360010.384, Expected=358800.000\n"
     ]
    },
    {
     "name": "stderr",
     "output_type": "stream",
     "text": [
      "/opt/anaconda3/lib/python3.7/site-packages/statsmodels/base/model.py:568: ConvergenceWarning: Maximum Likelihood optimization failed to converge. Check mle_retvals\n",
      "  \"Check mle_retvals\", ConvergenceWarning)\n"
     ]
    },
    {
     "name": "stdout",
     "output_type": "stream",
     "text": [
      ">Predicted=368141.432, Expected=366700.000\n"
     ]
    },
    {
     "name": "stderr",
     "output_type": "stream",
     "text": [
      "/opt/anaconda3/lib/python3.7/site-packages/statsmodels/base/model.py:568: ConvergenceWarning: Maximum Likelihood optimization failed to converge. Check mle_retvals\n",
      "  \"Check mle_retvals\", ConvergenceWarning)\n"
     ]
    },
    {
     "name": "stdout",
     "output_type": "stream",
     "text": [
      ">Predicted=374454.830, Expected=375100.000\n"
     ]
    },
    {
     "name": "stderr",
     "output_type": "stream",
     "text": [
      "/opt/anaconda3/lib/python3.7/site-packages/statsmodels/base/model.py:568: ConvergenceWarning: Maximum Likelihood optimization failed to converge. Check mle_retvals\n",
      "  \"Check mle_retvals\", ConvergenceWarning)\n"
     ]
    },
    {
     "name": "stdout",
     "output_type": "stream",
     "text": [
      ">Predicted=383306.741, Expected=382900.000\n"
     ]
    },
    {
     "name": "stderr",
     "output_type": "stream",
     "text": [
      "/opt/anaconda3/lib/python3.7/site-packages/statsmodels/base/model.py:568: ConvergenceWarning: Maximum Likelihood optimization failed to converge. Check mle_retvals\n",
      "  \"Check mle_retvals\", ConvergenceWarning)\n"
     ]
    },
    {
     "name": "stdout",
     "output_type": "stream",
     "text": [
      ">Predicted=390620.287, Expected=386200.000\n",
      ">Predicted=389167.669, Expected=389800.000\n",
      ">Predicted=393538.093, Expected=397600.000\n"
     ]
    },
    {
     "name": "stderr",
     "output_type": "stream",
     "text": [
      "/opt/anaconda3/lib/python3.7/site-packages/statsmodels/base/model.py:568: ConvergenceWarning: Maximum Likelihood optimization failed to converge. Check mle_retvals\n",
      "  \"Check mle_retvals\", ConvergenceWarning)\n"
     ]
    },
    {
     "name": "stdout",
     "output_type": "stream",
     "text": [
      ">Predicted=405861.252, Expected=406500.000\n",
      ">Predicted=415596.928, Expected=413300.000\n"
     ]
    },
    {
     "name": "stderr",
     "output_type": "stream",
     "text": [
      "/opt/anaconda3/lib/python3.7/site-packages/statsmodels/base/model.py:568: ConvergenceWarning: Maximum Likelihood optimization failed to converge. Check mle_retvals\n",
      "  \"Check mle_retvals\", ConvergenceWarning)\n"
     ]
    },
    {
     "name": "stdout",
     "output_type": "stream",
     "text": [
      ">Predicted=419917.318, Expected=418100.000\n"
     ]
    },
    {
     "name": "stderr",
     "output_type": "stream",
     "text": [
      "/opt/anaconda3/lib/python3.7/site-packages/statsmodels/base/model.py:568: ConvergenceWarning: Maximum Likelihood optimization failed to converge. Check mle_retvals\n",
      "  \"Check mle_retvals\", ConvergenceWarning)\n"
     ]
    },
    {
     "name": "stdout",
     "output_type": "stream",
     "text": [
      ">Predicted=422593.142, Expected=421000.000\n"
     ]
    },
    {
     "name": "stderr",
     "output_type": "stream",
     "text": [
      "/opt/anaconda3/lib/python3.7/site-packages/statsmodels/base/model.py:568: ConvergenceWarning: Maximum Likelihood optimization failed to converge. Check mle_retvals\n",
      "  \"Check mle_retvals\", ConvergenceWarning)\n"
     ]
    },
    {
     "name": "stdout",
     "output_type": "stream",
     "text": [
      ">Predicted=423538.169, Expected=424400.000\n"
     ]
    },
    {
     "name": "stderr",
     "output_type": "stream",
     "text": [
      "/opt/anaconda3/lib/python3.7/site-packages/statsmodels/base/model.py:568: ConvergenceWarning: Maximum Likelihood optimization failed to converge. Check mle_retvals\n",
      "  \"Check mle_retvals\", ConvergenceWarning)\n"
     ]
    },
    {
     "name": "stdout",
     "output_type": "stream",
     "text": [
      ">Predicted=427610.754, Expected=429100.000\n"
     ]
    },
    {
     "name": "stderr",
     "output_type": "stream",
     "text": [
      "/opt/anaconda3/lib/python3.7/site-packages/statsmodels/base/model.py:568: ConvergenceWarning: Maximum Likelihood optimization failed to converge. Check mle_retvals\n",
      "  \"Check mle_retvals\", ConvergenceWarning)\n"
     ]
    },
    {
     "name": "stdout",
     "output_type": "stream",
     "text": [
      ">Predicted=433789.150, Expected=435000.000\n",
      ">Predicted=441100.482, Expected=440400.000\n",
      ">Predicted=445988.451, Expected=445200.000\n",
      ">Predicted=450009.273, Expected=450400.000\n"
     ]
    },
    {
     "name": "stderr",
     "output_type": "stream",
     "text": [
      "/opt/anaconda3/lib/python3.7/site-packages/statsmodels/base/model.py:568: ConvergenceWarning: Maximum Likelihood optimization failed to converge. Check mle_retvals\n",
      "  \"Check mle_retvals\", ConvergenceWarning)\n"
     ]
    },
    {
     "name": "stdout",
     "output_type": "stream",
     "text": [
      ">Predicted=455397.057, Expected=456600.000\n",
      ">Predicted=462616.388, Expected=463000.000\n",
      ">Predicted=469309.512, Expected=469500.000\n",
      ">Predicted=476095.173, Expected=473600.000\n",
      ">Predicted=477726.861, Expected=476200.000\n"
     ]
    },
    {
     "name": "stderr",
     "output_type": "stream",
     "text": [
      "/opt/anaconda3/lib/python3.7/site-packages/statsmodels/base/model.py:568: ConvergenceWarning: Maximum Likelihood optimization failed to converge. Check mle_retvals\n",
      "  \"Check mle_retvals\", ConvergenceWarning)\n"
     ]
    },
    {
     "name": "stdout",
     "output_type": "stream",
     "text": [
      ">Predicted=478780.533, Expected=480800.000\n"
     ]
    },
    {
     "name": "stderr",
     "output_type": "stream",
     "text": [
      "/opt/anaconda3/lib/python3.7/site-packages/statsmodels/base/model.py:568: ConvergenceWarning: Maximum Likelihood optimization failed to converge. Check mle_retvals\n",
      "  \"Check mle_retvals\", ConvergenceWarning)\n"
     ]
    },
    {
     "name": "stdout",
     "output_type": "stream",
     "text": [
      ">Predicted=485538.890, Expected=488500.000\n",
      ">Predicted=496431.391, Expected=496000.000\n"
     ]
    },
    {
     "name": "stderr",
     "output_type": "stream",
     "text": [
      "/opt/anaconda3/lib/python3.7/site-packages/statsmodels/base/model.py:568: ConvergenceWarning: Maximum Likelihood optimization failed to converge. Check mle_retvals\n",
      "  \"Check mle_retvals\", ConvergenceWarning)\n"
     ]
    },
    {
     "name": "stdout",
     "output_type": "stream",
     "text": [
      ">Predicted=503464.410, Expected=501300.000\n"
     ]
    },
    {
     "name": "stderr",
     "output_type": "stream",
     "text": [
      "/opt/anaconda3/lib/python3.7/site-packages/statsmodels/base/model.py:568: ConvergenceWarning: Maximum Likelihood optimization failed to converge. Check mle_retvals\n",
      "  \"Check mle_retvals\", ConvergenceWarning)\n"
     ]
    },
    {
     "name": "stdout",
     "output_type": "stream",
     "text": [
      ">Predicted=506436.711, Expected=506600.000\n"
     ]
    },
    {
     "name": "stderr",
     "output_type": "stream",
     "text": [
      "/opt/anaconda3/lib/python3.7/site-packages/statsmodels/base/model.py:568: ConvergenceWarning: Maximum Likelihood optimization failed to converge. Check mle_retvals\n",
      "  \"Check mle_retvals\", ConvergenceWarning)\n"
     ]
    },
    {
     "name": "stdout",
     "output_type": "stream",
     "text": [
      ">Predicted=511858.296, Expected=514100.000\n"
     ]
    },
    {
     "name": "stderr",
     "output_type": "stream",
     "text": [
      "/opt/anaconda3/lib/python3.7/site-packages/statsmodels/base/model.py:568: ConvergenceWarning: Maximum Likelihood optimization failed to converge. Check mle_retvals\n",
      "  \"Check mle_retvals\", ConvergenceWarning)\n"
     ]
    },
    {
     "name": "stdout",
     "output_type": "stream",
     "text": [
      ">Predicted=521659.797, Expected=521100.000\n",
      ">Predicted=527934.508, Expected=526700.000\n"
     ]
    },
    {
     "name": "stderr",
     "output_type": "stream",
     "text": [
      "/opt/anaconda3/lib/python3.7/site-packages/statsmodels/base/model.py:568: ConvergenceWarning: Maximum Likelihood optimization failed to converge. Check mle_retvals\n",
      "  \"Check mle_retvals\", ConvergenceWarning)\n"
     ]
    },
    {
     "name": "stdout",
     "output_type": "stream",
     "text": [
      ">Predicted=532197.454, Expected=535800.000\n"
     ]
    },
    {
     "name": "stderr",
     "output_type": "stream",
     "text": [
      "/opt/anaconda3/lib/python3.7/site-packages/statsmodels/base/model.py:568: ConvergenceWarning: Maximum Likelihood optimization failed to converge. Check mle_retvals\n",
      "  \"Check mle_retvals\", ConvergenceWarning)\n"
     ]
    },
    {
     "name": "stdout",
     "output_type": "stream",
     "text": [
      ">Predicted=545160.782, Expected=546900.000\n"
     ]
    },
    {
     "name": "stderr",
     "output_type": "stream",
     "text": [
      "/opt/anaconda3/lib/python3.7/site-packages/statsmodels/base/model.py:568: ConvergenceWarning: Maximum Likelihood optimization failed to converge. Check mle_retvals\n",
      "  \"Check mle_retvals\", ConvergenceWarning)\n"
     ]
    },
    {
     "name": "stdout",
     "output_type": "stream",
     "text": [
      ">Predicted=558174.763, Expected=555000.000\n"
     ]
    },
    {
     "name": "stderr",
     "output_type": "stream",
     "text": [
      "/opt/anaconda3/lib/python3.7/site-packages/statsmodels/base/model.py:568: ConvergenceWarning: Maximum Likelihood optimization failed to converge. Check mle_retvals\n",
      "  \"Check mle_retvals\", ConvergenceWarning)\n"
     ]
    },
    {
     "name": "stdout",
     "output_type": "stream",
     "text": [
      ">Predicted=562908.611, Expected=562000.000\n",
      ">Predicted=568879.421, Expected=566700.000\n",
      "[1434.2316611357382, 1450.9477858144894, 1378.4699162624493, 2023.0052361326382, 1881.9020503158733, 1718.1262510160568, 1714.810703904687, 1642.5814149967975, 1561.9617781612135, 1520.1750284448626, 1473.6955687677287, 1500.1572957529831, 1559.4729232739671, 1577.4572391054216, 1536.813157364986, 1678.8262291780222, 1675.4996774978067, 1631.0340989072931, 1588.7725913150787, 1558.7781290892897, 1528.9552321360668, 1494.3393936283471, 1471.8472086467798, 1510.8938085982775, 1549.9575823670018, 1538.2837929011164, 1534.8056719735578, 1512.0729887267862, 1487.6926211918242, 1670.554648811637, 1647.3089250987173, 1773.251915508192, 1749.7143909664155, 1768.2276976859268, 1769.6491633712128, 1764.9845425088708, 1746.7258061020295, 1740.4380951661362, 1728.88653608388, 1710.7277111144565, 1694.2170453280507, 1675.011688545578, 1665.553658410061, 1647.5334525677563, 1629.3721401216303, 1653.0229036898713, 1650.4390249044552, 1658.9645886693374, 1695.5645699901927, 1679.6316214117396, 1690.4738164164557, 1674.2934863682387, 1686.7669772650256, 1672.8112437495327, 1665.871724589487, 1719.6885693900185, 1720.0330942347812, 1755.3583449800767, 1744.4341659351323, 1752.5688790675272]\n",
      "CPU times: user 2min 5s, sys: 1.01 s, total: 2min 6s\n",
      "Wall time: 1min 32s\n"
     ]
    },
    {
     "name": "stderr",
     "output_type": "stream",
     "text": [
      "/opt/anaconda3/lib/python3.7/site-packages/statsmodels/base/model.py:568: ConvergenceWarning: Maximum Likelihood optimization failed to converge. Check mle_retvals\n",
      "  \"Check mle_retvals\", ConvergenceWarning)\n"
     ]
    }
   ],
   "source": [
    "%%time\n",
    "\n",
    "series = zipcodes['94601']\n",
    "# prepare data\n",
    "X = series.values\n",
    "X = X.astype('float32')\n",
    "\n",
    "\n",
    "# set trainset to include all but last 60 months (5 years)\n",
    "train_size = int(len(X) - 60)\n",
    "train, test = X[0:train_size], X[train_size:]\n",
    "# walk-forward validation\n",
    "history = [x for x in train]\n",
    "predictions = list()\n",
    "for i in range(len(test)):\n",
    "    # predict\n",
    "    model = ARIMA(history, order=(13,2,2))\n",
    "    model_fit = model.fit()\n",
    "    yhat = model_fit.forecast()[0]\n",
    "    predictions.append(yhat)\n",
    "    # observation\n",
    "    obs = test[i]\n",
    "    history.append(obs)\n",
    "    print('>Predicted=%.3f, Expected=%.3f' % (yhat, obs))\n",
    "# report performance\n",
    "rmse = RMSE(test, predictions)\n",
    "\n",
    "print(rmse)"
   ]
  },
  {
   "cell_type": "code",
   "execution_count": 152,
   "metadata": {},
   "outputs": [
    {
     "data": {
      "text/plain": [
       "<statsmodels.tsa.arima.model.ARIMAResultsWrapper at 0x1a27475a50>"
      ]
     },
     "execution_count": 152,
     "metadata": {},
     "output_type": "execute_result"
    }
   ],
   "source": [
    "model_fit"
   ]
  },
  {
   "cell_type": "code",
   "execution_count": 153,
   "metadata": {},
   "outputs": [
    {
     "data": {
      "text/html": [
       "<div>\n",
       "<style scoped>\n",
       "    .dataframe tbody tr th:only-of-type {\n",
       "        vertical-align: middle;\n",
       "    }\n",
       "\n",
       "    .dataframe tbody tr th {\n",
       "        vertical-align: top;\n",
       "    }\n",
       "\n",
       "    .dataframe thead th {\n",
       "        text-align: right;\n",
       "    }\n",
       "</style>\n",
       "<table border=\"1\" class=\"dataframe\">\n",
       "  <thead>\n",
       "    <tr style=\"text-align: right;\">\n",
       "      <th></th>\n",
       "      <th>94601</th>\n",
       "      <th>48240</th>\n",
       "      <th>94590</th>\n",
       "      <th>33705</th>\n",
       "      <th>37210</th>\n",
       "      <th>15201</th>\n",
       "      <th>33460</th>\n",
       "      <th>33030</th>\n",
       "      <th>37207</th>\n",
       "      <th>11216</th>\n",
       "      <th>...</th>\n",
       "      <th>48239</th>\n",
       "      <th>33068</th>\n",
       "      <th>32205</th>\n",
       "      <th>80219</th>\n",
       "      <th>30238</th>\n",
       "      <th>33982</th>\n",
       "      <th>33805</th>\n",
       "      <th>49507</th>\n",
       "      <th>89104</th>\n",
       "      <th>33409</th>\n",
       "    </tr>\n",
       "    <tr>\n",
       "      <th>time</th>\n",
       "      <th></th>\n",
       "      <th></th>\n",
       "      <th></th>\n",
       "      <th></th>\n",
       "      <th></th>\n",
       "      <th></th>\n",
       "      <th></th>\n",
       "      <th></th>\n",
       "      <th></th>\n",
       "      <th></th>\n",
       "      <th></th>\n",
       "      <th></th>\n",
       "      <th></th>\n",
       "      <th></th>\n",
       "      <th></th>\n",
       "      <th></th>\n",
       "      <th></th>\n",
       "      <th></th>\n",
       "      <th></th>\n",
       "      <th></th>\n",
       "      <th></th>\n",
       "    </tr>\n",
       "  </thead>\n",
       "  <tbody>\n",
       "    <tr>\n",
       "      <th>1996-04-01</th>\n",
       "      <td>114600.0</td>\n",
       "      <td>67800.0</td>\n",
       "      <td>108200.0</td>\n",
       "      <td>54600.0</td>\n",
       "      <td>60800.0</td>\n",
       "      <td>34400.0</td>\n",
       "      <td>59800.0</td>\n",
       "      <td>76700.0</td>\n",
       "      <td>63600.0</td>\n",
       "      <td>146100.0</td>\n",
       "      <td>...</td>\n",
       "      <td>80100.0</td>\n",
       "      <td>82000.0</td>\n",
       "      <td>54700.0</td>\n",
       "      <td>83700.0</td>\n",
       "      <td>85300.0</td>\n",
       "      <td>64100.0</td>\n",
       "      <td>41900.0</td>\n",
       "      <td>49700.0</td>\n",
       "      <td>94800.0</td>\n",
       "      <td>77300.0</td>\n",
       "    </tr>\n",
       "    <tr>\n",
       "      <th>1996-05-01</th>\n",
       "      <td>114500.0</td>\n",
       "      <td>68200.0</td>\n",
       "      <td>107800.0</td>\n",
       "      <td>54800.0</td>\n",
       "      <td>61000.0</td>\n",
       "      <td>34600.0</td>\n",
       "      <td>59900.0</td>\n",
       "      <td>76600.0</td>\n",
       "      <td>63600.0</td>\n",
       "      <td>146600.0</td>\n",
       "      <td>...</td>\n",
       "      <td>80700.0</td>\n",
       "      <td>81900.0</td>\n",
       "      <td>54600.0</td>\n",
       "      <td>84000.0</td>\n",
       "      <td>85300.0</td>\n",
       "      <td>63700.0</td>\n",
       "      <td>41900.0</td>\n",
       "      <td>51000.0</td>\n",
       "      <td>94700.0</td>\n",
       "      <td>77200.0</td>\n",
       "    </tr>\n",
       "    <tr>\n",
       "      <th>1996-06-01</th>\n",
       "      <td>114500.0</td>\n",
       "      <td>68500.0</td>\n",
       "      <td>107500.0</td>\n",
       "      <td>55000.0</td>\n",
       "      <td>61200.0</td>\n",
       "      <td>34700.0</td>\n",
       "      <td>60000.0</td>\n",
       "      <td>76500.0</td>\n",
       "      <td>63600.0</td>\n",
       "      <td>147200.0</td>\n",
       "      <td>...</td>\n",
       "      <td>81300.0</td>\n",
       "      <td>81800.0</td>\n",
       "      <td>54400.0</td>\n",
       "      <td>84300.0</td>\n",
       "      <td>85300.0</td>\n",
       "      <td>63300.0</td>\n",
       "      <td>42000.0</td>\n",
       "      <td>52300.0</td>\n",
       "      <td>94700.0</td>\n",
       "      <td>77200.0</td>\n",
       "    </tr>\n",
       "    <tr>\n",
       "      <th>1996-07-01</th>\n",
       "      <td>114400.0</td>\n",
       "      <td>68800.0</td>\n",
       "      <td>107300.0</td>\n",
       "      <td>55200.0</td>\n",
       "      <td>61300.0</td>\n",
       "      <td>34700.0</td>\n",
       "      <td>60200.0</td>\n",
       "      <td>76400.0</td>\n",
       "      <td>63700.0</td>\n",
       "      <td>147700.0</td>\n",
       "      <td>...</td>\n",
       "      <td>81900.0</td>\n",
       "      <td>81700.0</td>\n",
       "      <td>54300.0</td>\n",
       "      <td>84700.0</td>\n",
       "      <td>85300.0</td>\n",
       "      <td>62900.0</td>\n",
       "      <td>42100.0</td>\n",
       "      <td>53500.0</td>\n",
       "      <td>94700.0</td>\n",
       "      <td>77100.0</td>\n",
       "    </tr>\n",
       "    <tr>\n",
       "      <th>1996-08-01</th>\n",
       "      <td>114400.0</td>\n",
       "      <td>69200.0</td>\n",
       "      <td>107100.0</td>\n",
       "      <td>55400.0</td>\n",
       "      <td>61500.0</td>\n",
       "      <td>34800.0</td>\n",
       "      <td>60400.0</td>\n",
       "      <td>76300.0</td>\n",
       "      <td>64000.0</td>\n",
       "      <td>148400.0</td>\n",
       "      <td>...</td>\n",
       "      <td>82500.0</td>\n",
       "      <td>81600.0</td>\n",
       "      <td>54200.0</td>\n",
       "      <td>85100.0</td>\n",
       "      <td>85200.0</td>\n",
       "      <td>62500.0</td>\n",
       "      <td>42200.0</td>\n",
       "      <td>54600.0</td>\n",
       "      <td>94800.0</td>\n",
       "      <td>77100.0</td>\n",
       "    </tr>\n",
       "    <tr>\n",
       "      <th>...</th>\n",
       "      <td>...</td>\n",
       "      <td>...</td>\n",
       "      <td>...</td>\n",
       "      <td>...</td>\n",
       "      <td>...</td>\n",
       "      <td>...</td>\n",
       "      <td>...</td>\n",
       "      <td>...</td>\n",
       "      <td>...</td>\n",
       "      <td>...</td>\n",
       "      <td>...</td>\n",
       "      <td>...</td>\n",
       "      <td>...</td>\n",
       "      <td>...</td>\n",
       "      <td>...</td>\n",
       "      <td>...</td>\n",
       "      <td>...</td>\n",
       "      <td>...</td>\n",
       "      <td>...</td>\n",
       "      <td>...</td>\n",
       "      <td>...</td>\n",
       "    </tr>\n",
       "    <tr>\n",
       "      <th>2017-12-01</th>\n",
       "      <td>535800.0</td>\n",
       "      <td>71000.0</td>\n",
       "      <td>357100.0</td>\n",
       "      <td>167100.0</td>\n",
       "      <td>217200.0</td>\n",
       "      <td>170400.0</td>\n",
       "      <td>206000.0</td>\n",
       "      <td>209200.0</td>\n",
       "      <td>189500.0</td>\n",
       "      <td>1545700.0</td>\n",
       "      <td>...</td>\n",
       "      <td>90800.0</td>\n",
       "      <td>209200.0</td>\n",
       "      <td>141100.0</td>\n",
       "      <td>298100.0</td>\n",
       "      <td>95400.0</td>\n",
       "      <td>187800.0</td>\n",
       "      <td>97000.0</td>\n",
       "      <td>106600.0</td>\n",
       "      <td>196300.0</td>\n",
       "      <td>190000.0</td>\n",
       "    </tr>\n",
       "    <tr>\n",
       "      <th>2018-01-01</th>\n",
       "      <td>546900.0</td>\n",
       "      <td>72300.0</td>\n",
       "      <td>362500.0</td>\n",
       "      <td>168200.0</td>\n",
       "      <td>219300.0</td>\n",
       "      <td>171400.0</td>\n",
       "      <td>209600.0</td>\n",
       "      <td>211100.0</td>\n",
       "      <td>191400.0</td>\n",
       "      <td>1540200.0</td>\n",
       "      <td>...</td>\n",
       "      <td>91900.0</td>\n",
       "      <td>211000.0</td>\n",
       "      <td>144100.0</td>\n",
       "      <td>302600.0</td>\n",
       "      <td>97200.0</td>\n",
       "      <td>192500.0</td>\n",
       "      <td>99000.0</td>\n",
       "      <td>107800.0</td>\n",
       "      <td>199500.0</td>\n",
       "      <td>192500.0</td>\n",
       "    </tr>\n",
       "    <tr>\n",
       "      <th>2018-02-01</th>\n",
       "      <td>555000.0</td>\n",
       "      <td>73500.0</td>\n",
       "      <td>366900.0</td>\n",
       "      <td>171100.0</td>\n",
       "      <td>221500.0</td>\n",
       "      <td>173900.0</td>\n",
       "      <td>211600.0</td>\n",
       "      <td>212700.0</td>\n",
       "      <td>193900.0</td>\n",
       "      <td>1553600.0</td>\n",
       "      <td>...</td>\n",
       "      <td>93600.0</td>\n",
       "      <td>213700.0</td>\n",
       "      <td>146100.0</td>\n",
       "      <td>306900.0</td>\n",
       "      <td>99100.0</td>\n",
       "      <td>196400.0</td>\n",
       "      <td>100400.0</td>\n",
       "      <td>108900.0</td>\n",
       "      <td>202500.0</td>\n",
       "      <td>193700.0</td>\n",
       "    </tr>\n",
       "    <tr>\n",
       "      <th>2018-03-01</th>\n",
       "      <td>562000.0</td>\n",
       "      <td>75300.0</td>\n",
       "      <td>371600.0</td>\n",
       "      <td>175100.0</td>\n",
       "      <td>224300.0</td>\n",
       "      <td>179700.0</td>\n",
       "      <td>213300.0</td>\n",
       "      <td>214300.0</td>\n",
       "      <td>197600.0</td>\n",
       "      <td>1578400.0</td>\n",
       "      <td>...</td>\n",
       "      <td>95900.0</td>\n",
       "      <td>217300.0</td>\n",
       "      <td>147200.0</td>\n",
       "      <td>311900.0</td>\n",
       "      <td>101100.0</td>\n",
       "      <td>199000.0</td>\n",
       "      <td>101600.0</td>\n",
       "      <td>110200.0</td>\n",
       "      <td>206000.0</td>\n",
       "      <td>195800.0</td>\n",
       "    </tr>\n",
       "    <tr>\n",
       "      <th>2018-04-01</th>\n",
       "      <td>566700.0</td>\n",
       "      <td>76800.0</td>\n",
       "      <td>376100.0</td>\n",
       "      <td>177300.0</td>\n",
       "      <td>226500.0</td>\n",
       "      <td>185200.0</td>\n",
       "      <td>215600.0</td>\n",
       "      <td>215600.0</td>\n",
       "      <td>200800.0</td>\n",
       "      <td>1598700.0</td>\n",
       "      <td>...</td>\n",
       "      <td>97600.0</td>\n",
       "      <td>220100.0</td>\n",
       "      <td>147700.0</td>\n",
       "      <td>315700.0</td>\n",
       "      <td>102900.0</td>\n",
       "      <td>200200.0</td>\n",
       "      <td>102500.0</td>\n",
       "      <td>111200.0</td>\n",
       "      <td>208500.0</td>\n",
       "      <td>198600.0</td>\n",
       "    </tr>\n",
       "  </tbody>\n",
       "</table>\n",
       "<p>265 rows × 60 columns</p>\n",
       "</div>"
      ],
      "text/plain": [
       "               94601    48240     94590     33705     37210     15201  \\\n",
       "time                                                                    \n",
       "1996-04-01  114600.0  67800.0  108200.0   54600.0   60800.0   34400.0   \n",
       "1996-05-01  114500.0  68200.0  107800.0   54800.0   61000.0   34600.0   \n",
       "1996-06-01  114500.0  68500.0  107500.0   55000.0   61200.0   34700.0   \n",
       "1996-07-01  114400.0  68800.0  107300.0   55200.0   61300.0   34700.0   \n",
       "1996-08-01  114400.0  69200.0  107100.0   55400.0   61500.0   34800.0   \n",
       "...              ...      ...       ...       ...       ...       ...   \n",
       "2017-12-01  535800.0  71000.0  357100.0  167100.0  217200.0  170400.0   \n",
       "2018-01-01  546900.0  72300.0  362500.0  168200.0  219300.0  171400.0   \n",
       "2018-02-01  555000.0  73500.0  366900.0  171100.0  221500.0  173900.0   \n",
       "2018-03-01  562000.0  75300.0  371600.0  175100.0  224300.0  179700.0   \n",
       "2018-04-01  566700.0  76800.0  376100.0  177300.0  226500.0  185200.0   \n",
       "\n",
       "               33460     33030     37207      11216  ...    48239     33068  \\\n",
       "time                                                 ...                      \n",
       "1996-04-01   59800.0   76700.0   63600.0   146100.0  ...  80100.0   82000.0   \n",
       "1996-05-01   59900.0   76600.0   63600.0   146600.0  ...  80700.0   81900.0   \n",
       "1996-06-01   60000.0   76500.0   63600.0   147200.0  ...  81300.0   81800.0   \n",
       "1996-07-01   60200.0   76400.0   63700.0   147700.0  ...  81900.0   81700.0   \n",
       "1996-08-01   60400.0   76300.0   64000.0   148400.0  ...  82500.0   81600.0   \n",
       "...              ...       ...       ...        ...  ...      ...       ...   \n",
       "2017-12-01  206000.0  209200.0  189500.0  1545700.0  ...  90800.0  209200.0   \n",
       "2018-01-01  209600.0  211100.0  191400.0  1540200.0  ...  91900.0  211000.0   \n",
       "2018-02-01  211600.0  212700.0  193900.0  1553600.0  ...  93600.0  213700.0   \n",
       "2018-03-01  213300.0  214300.0  197600.0  1578400.0  ...  95900.0  217300.0   \n",
       "2018-04-01  215600.0  215600.0  200800.0  1598700.0  ...  97600.0  220100.0   \n",
       "\n",
       "               32205     80219     30238     33982     33805     49507  \\\n",
       "time                                                                     \n",
       "1996-04-01   54700.0   83700.0   85300.0   64100.0   41900.0   49700.0   \n",
       "1996-05-01   54600.0   84000.0   85300.0   63700.0   41900.0   51000.0   \n",
       "1996-06-01   54400.0   84300.0   85300.0   63300.0   42000.0   52300.0   \n",
       "1996-07-01   54300.0   84700.0   85300.0   62900.0   42100.0   53500.0   \n",
       "1996-08-01   54200.0   85100.0   85200.0   62500.0   42200.0   54600.0   \n",
       "...              ...       ...       ...       ...       ...       ...   \n",
       "2017-12-01  141100.0  298100.0   95400.0  187800.0   97000.0  106600.0   \n",
       "2018-01-01  144100.0  302600.0   97200.0  192500.0   99000.0  107800.0   \n",
       "2018-02-01  146100.0  306900.0   99100.0  196400.0  100400.0  108900.0   \n",
       "2018-03-01  147200.0  311900.0  101100.0  199000.0  101600.0  110200.0   \n",
       "2018-04-01  147700.0  315700.0  102900.0  200200.0  102500.0  111200.0   \n",
       "\n",
       "               89104     33409  \n",
       "time                            \n",
       "1996-04-01   94800.0   77300.0  \n",
       "1996-05-01   94700.0   77200.0  \n",
       "1996-06-01   94700.0   77200.0  \n",
       "1996-07-01   94700.0   77100.0  \n",
       "1996-08-01   94800.0   77100.0  \n",
       "...              ...       ...  \n",
       "2017-12-01  196300.0  190000.0  \n",
       "2018-01-01  199500.0  192500.0  \n",
       "2018-02-01  202500.0  193700.0  \n",
       "2018-03-01  206000.0  195800.0  \n",
       "2018-04-01  208500.0  198600.0  \n",
       "\n",
       "[265 rows x 60 columns]"
      ]
     },
     "execution_count": 153,
     "metadata": {},
     "output_type": "execute_result"
    }
   ],
   "source": [
    "zipcodes"
   ]
  },
  {
   "cell_type": "code",
   "execution_count": 169,
   "metadata": {},
   "outputs": [
    {
     "name": "stderr",
     "output_type": "stream",
     "text": [
      "/opt/anaconda3/lib/python3.7/site-packages/statsmodels/base/model.py:568: ConvergenceWarning: Maximum Likelihood optimization failed to converge. Check mle_retvals\n",
      "  \"Check mle_retvals\", ConvergenceWarning)\n"
     ]
    }
   ],
   "source": [
    "# First go at using SARIMAX\n",
    "from statsmodels.tsa.statespace.sarimax import SARIMAX\n",
    "\n",
    "series = zipcodes['48240']\n",
    "\n",
    "train_size = int(len(X) - 60)\n",
    "train, test = X[0:train_size], X[train_size:]\n",
    "\n",
    "model = SARIMAX(train, order=(13,2,2))\n",
    "\n",
    "results = model.fit()\n",
    "\n",
    "forecast = results.get_forecast(steps=60)\n",
    "\n",
    "predictions = forecast.predicted_mean\n",
    "\n",
    "\n",
    "RMSE(test, predictions)\n",
    "\n",
    "results.save('../models/bad_first_model.pkl')"
   ]
  },
  {
   "cell_type": "code",
   "execution_count": 165,
   "metadata": {},
   "outputs": [
    {
     "data": {
      "text/plain": [
       "array([221400., 233100., 244000., 251600., 257500., 263200., 267500.,\n",
       "       271100., 275400., 280800., 287200., 292000., 294200., 293900.,\n",
       "       294100., 297300., 302200., 307700., 313600., 318800., 323100.,\n",
       "       327300., 332200., 339500., 349500., 358800., 366700., 375100.,\n",
       "       382900., 386200., 389800., 397600., 406500., 413300., 418100.,\n",
       "       421000., 424400., 429100., 435000., 440400., 445200., 450400.,\n",
       "       456600., 463000., 469500., 473600., 476200., 480800., 488500.,\n",
       "       496000., 501300., 506600., 514100., 521100., 526700., 535800.,\n",
       "       546900., 555000., 562000., 566700.], dtype=float32)"
      ]
     },
     "execution_count": 165,
     "metadata": {},
     "output_type": "execute_result"
    }
   ],
   "source": [
    "test"
   ]
  },
  {
   "cell_type": "code",
   "execution_count": 162,
   "metadata": {},
   "outputs": [
    {
     "data": {
      "text/plain": [
       "60"
      ]
     },
     "execution_count": 162,
     "metadata": {},
     "output_type": "execute_result"
    }
   ],
   "source": [
    "len(test)"
   ]
  },
  {
   "cell_type": "code",
   "execution_count": null,
   "metadata": {},
   "outputs": [],
   "source": []
  }
 ],
 "metadata": {
  "kernelspec": {
   "display_name": "Python 3",
   "language": "python",
   "name": "python3"
  },
  "language_info": {
   "codemirror_mode": {
    "name": "ipython",
    "version": 3
   },
   "file_extension": ".py",
   "mimetype": "text/x-python",
   "name": "python",
   "nbconvert_exporter": "python",
   "pygments_lexer": "ipython3",
   "version": "3.7.6"
  }
 },
 "nbformat": 4,
 "nbformat_minor": 4
}
